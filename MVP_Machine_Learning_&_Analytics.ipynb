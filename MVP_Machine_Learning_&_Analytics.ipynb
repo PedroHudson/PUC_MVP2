{
  "nbformat": 4,
  "nbformat_minor": 0,
  "metadata": {
    "colab": {
      "provenance": [],
      "authorship_tag": "ABX9TyOmnngNOv6XraLpzgpKaAXv",
      "include_colab_link": true
    },
    "kernelspec": {
      "name": "python3",
      "display_name": "Python 3"
    },
    "language_info": {
      "name": "python"
    }
  },
  "cells": [
    {
      "cell_type": "markdown",
      "metadata": {
        "id": "view-in-github",
        "colab_type": "text"
      },
      "source": [
        "<a href=\"https://colab.research.google.com/github/PedroHudson/PUC_MVP2/blob/main/MVP_Machine_Learning_%26_Analytics.ipynb\" target=\"_parent\"><img src=\"https://colab.research.google.com/assets/colab-badge.svg\" alt=\"Open In Colab\"/></a>"
      ]
    },
    {
      "cell_type": "markdown",
      "source": [
        "**MVP - Machine Learning & Analytics**\n",
        "\n",
        "Este projeto visa treinar dois modelos de Machine Learning, um modelo utilizando os métodos clássicos para um problema de classificação (Projeto A), e outro utilizando Deep Learning para um processamento de linguagem natural (Projeto B)."
      ],
      "metadata": {
        "id": "UmHETL_W42it"
      }
    },
    {
      "cell_type": "markdown",
      "source": [
        "**Projeto A**"
      ],
      "metadata": {
        "id": "lTsBjwwDgGpR"
      }
    },
    {
      "cell_type": "markdown",
      "source": [
        "**1. Definição do Problema:**\n",
        "\n",
        "Para a elaboração desse projeto abordaremos um problema de saúde muito comum e de incidência mundial crescente, o Diabetes.\n",
        "\n",
        "Trata-se de uma síndrome metabólica de origem múltipla, decorrente da incapacidade do pâncreas produzir o hormônio insulina. O papel desse hormônio no nosso organismo é reduzir a glicemia, permitindo que o açucar que está presente no sangue possa penetrar dentro das células, para ser utilizado como fonte de energia. A falta de insulina ocasiona altas taxa de açúcar no sangue (hiperglicemia) de forma permanente podendo gerar probemas renais, oftalmológicos e neuropáticos.\n",
        "\n",
        "O Diabetes é considerado hoje uma epidemia mundial, sendo o combate a essa enfermidade um grande desafio para os sistemas de saúde de todo o mundo. O envelhecimento da população, a urbanização crescente e a adoção de estilos de vida pouco saudáveis como sedentarismo, dieta inadequada e obesidade são os grandes responsáveis pelo aumento da incidência e prevalência do diabetes em todo o mundo.\n",
        "\n",
        "Segundo estimativas da Organização Mundial de Saúde, o número de portadores da doença em todo o mundo era de 177 milhões em 2000, com expectativa\n",
        "de alcançar 350 milhões de pessoas em 2025.\n",
        "\n",
        "As consequências humanas, sociais e econômicas da doença são devastadoras em nossa sociedade: são em torno de 4 milhões de mortes por ano relativas ao diabetes e suas complicações (com muitas ocorrências prematuras), o que representa 9% da mortalidade mundial total. O grande impacto econômico ocorre notadamente nos serviços de saúde, como consequência dos crescentes custos do tratamento da doença e, sobretudo das complicações, como a doença cardiovascular, a diálise por insuficiência renal crônica e as cirurgias para amputações de membros inferiores.\n",
        "\n",
        "Os portadores da enfermidade tem expectativa de vida reduzida em média em 15 anos para o diabetes tipo 1 e em 5 a 7 anos na do tipo 2. Os adultos com diabetes têm risco 2 a 4 vezes maior de doença cardiovascular e acidente vascular cerebral. Diabetes é a causa mais comum de amputações de membros inferiores não traumática, cegueira irreversível e doença renal crônica terminal. Em mulheres, é responsável por maior número de partos prematuros e mortalidade materna.\n",
        "\n",
        "Em um primeiro momento, iremos analisar e identificar quais são os principais fatores para a incidência do Diabates. Posteriormente criaremos modelos de aprendizado de máquina para prever diabetes nos pacientes tomando como base os dados históricos do dataset, possibilitando a identificação de pacientes que podem estar em risco de desenvolver a doença.\n",
        "\n",
        "Para isso, utilizaremos um dataset disponibilizado no Kaggle contendo uma coleção de dados médicos de pacientes, juntamente com seu status de diabetes (positivo ou negativo). Os dados incluem características como idade, sexo, índice de massa corporal (IMC), hipertensão, doenças cardíacas, histórico de tabagismo, nível de HbA1c e nível de glicose no sangue.\n",
        "\n",
        "Portanto, esse projeto trata de um problema de classificação.\n",
        "\n",
        "**É importante informar que o dataset utilizado é diferente do apresentado nas aulas de Machine Learning, segue o link do dataset**: https://www.kaggle.com/datasets/717451f4573e9c3d8963e626808ade67a89fbd2ee660be008c1aba16b2a2345a.\n"
      ],
      "metadata": {
        "id": "3TqIz7N0fsOG"
      }
    },
    {
      "cell_type": "markdown",
      "source": [
        "**2. Importação das Bibliotecas e Configurações.**"
      ],
      "metadata": {
        "id": "Lm1q_c115_Nm"
      }
    },
    {
      "cell_type": "code",
      "source": [
        "# Configuração para não exibir Warnings\n",
        "import warnings\n",
        "warnings.filterwarnings('ignore')\n",
        "\n",
        "# Importação do Pandas\n",
        "import pandas as pd\n",
        "\n",
        "# Importação do Numpy\n",
        "import numpy as np\n",
        "\n",
        "# Importação do Seaborn\n",
        "import seaborn as sns\n",
        "\n",
        "# Importação do Pyplot\n",
        "import matplotlib.pyplot as plt\n",
        "\n",
        "# Importações dos modelos e configurações para treinamento do modelo, criação de pipelines, ensembles e para a apuração do resultado\n",
        "from sklearn.model_selection import train_test_split\n",
        "from sklearn.model_selection import KFold\n",
        "from sklearn.model_selection import StratifiedKFold\n",
        "from sklearn.model_selection import cross_val_score\n",
        "from sklearn.model_selection import GridSearchCV\n",
        "from sklearn.metrics import accuracy_score\n",
        "from sklearn.pipeline import Pipeline\n",
        "from sklearn.linear_model import LogisticRegression\n",
        "from sklearn.tree import DecisionTreeClassifier\n",
        "from sklearn.neighbors import KNeighborsClassifier\n",
        "from sklearn.naive_bayes import GaussianNB\n",
        "from sklearn.svm import SVC\n",
        "from sklearn.ensemble import BaggingClassifier\n",
        "from sklearn.ensemble import RandomForestClassifier\n",
        "from sklearn.ensemble import ExtraTreesClassifier\n",
        "from sklearn.ensemble import VotingClassifier\n",
        "from sklearn.ensemble import AdaBoostClassifier\n",
        "from sklearn.ensemble import GradientBoostingClassifier\n",
        "\n",
        "# Importações para Feature Selection\n",
        "from sklearn.feature_selection import SelectKBest\n",
        "from sklearn.feature_selection import f_classif\n",
        "\n",
        "# Transformações Númericas\n",
        "\n",
        "# Normalização\n",
        "from sklearn.preprocessing import MinMaxScaler\n",
        "\n",
        "# Padronização\n",
        "from sklearn.preprocessing import StandardScaler"
      ],
      "metadata": {
        "id": "cvqxcu-K6k37"
      },
      "execution_count": null,
      "outputs": []
    },
    {
      "cell_type": "markdown",
      "source": [
        "**3. Importação do Dataset.**"
      ],
      "metadata": {
        "id": "NVlLlowL_aG0"
      }
    },
    {
      "cell_type": "code",
      "source": [
        "# Importando dados da url para um dataframe\n",
        "\n",
        "# url a importar\n",
        "url_dados = 'https://github.com/PedroHudson/diabetes/blob/main/diabetes.csv?raw=true'\n",
        "\n",
        "# carga do dataset através da url\n",
        "dataset = pd.read_csv(url_dados, sep=',')"
      ],
      "metadata": {
        "id": "b3-hOSp3_cVM"
      },
      "execution_count": null,
      "outputs": []
    },
    {
      "cell_type": "markdown",
      "source": [
        "**4. Análise Exploratória - Primeiras Visualizações e Análises.**"
      ],
      "metadata": {
        "id": "ABn71qWB_6Rd"
      }
    },
    {
      "cell_type": "code",
      "source": [
        "# Visualização da quantidade de instâncias e atributos do dataset\n",
        "dataset.shape"
      ],
      "metadata": {
        "colab": {
          "base_uri": "https://localhost:8080/"
        },
        "id": "2_AeWhPQ_9mu",
        "outputId": "53afc377-8b7b-44f9-94a1-fc737d9c4317"
      },
      "execution_count": null,
      "outputs": [
        {
          "output_type": "execute_result",
          "data": {
            "text/plain": [
              "(100000, 9)"
            ]
          },
          "metadata": {},
          "execution_count": 3
        }
      ]
    },
    {
      "cell_type": "markdown",
      "source": [
        "*Nessa primeira análise verificamos que o dataset tem 9 atributos e 1000 instâncias.*"
      ],
      "metadata": {
        "id": "EeXqLfybioD2"
      }
    },
    {
      "cell_type": "code",
      "source": [
        "# Visualização da quantidade de linhas por coluna\n",
        "dataset.count()"
      ],
      "metadata": {
        "colab": {
          "base_uri": "https://localhost:8080/"
        },
        "id": "A9bXl3lpApkg",
        "outputId": "f7c160a9-ce10-4228-bf6e-4c5bbae25651"
      },
      "execution_count": null,
      "outputs": [
        {
          "output_type": "execute_result",
          "data": {
            "text/plain": [
              "gender                 100000\n",
              "age                    100000\n",
              "hypertension           100000\n",
              "heart_disease          100000\n",
              "smoking_history        100000\n",
              "bmi                    100000\n",
              "HbA1c_level            100000\n",
              "blood_glucose_level    100000\n",
              "diabetes               100000\n",
              "dtype: int64"
            ]
          },
          "metadata": {},
          "execution_count": 4
        }
      ]
    },
    {
      "cell_type": "markdown",
      "source": [
        "*Todas os atributos possuem a mesma quantidade de instâncias.*"
      ],
      "metadata": {
        "id": "8JgfODlQi5dG"
      }
    },
    {
      "cell_type": "code",
      "source": [
        "# Visualização dos tipos de dados\n",
        "dataset.dtypes"
      ],
      "metadata": {
        "colab": {
          "base_uri": "https://localhost:8080/"
        },
        "id": "3jCxfMUbAuK0",
        "outputId": "e1232c9b-a202-4fcc-bafe-ed03b5519937"
      },
      "execution_count": null,
      "outputs": [
        {
          "output_type": "execute_result",
          "data": {
            "text/plain": [
              "gender                  object\n",
              "age                    float64\n",
              "hypertension             int64\n",
              "heart_disease            int64\n",
              "smoking_history         object\n",
              "bmi                    float64\n",
              "HbA1c_level            float64\n",
              "blood_glucose_level      int64\n",
              "diabetes                 int64\n",
              "dtype: object"
            ]
          },
          "metadata": {},
          "execution_count": 5
        }
      ]
    },
    {
      "cell_type": "markdown",
      "source": [
        "*A visualização dos tipos de dados nos permite verificar que os atributos \"gender\" e \"smoking_history\" são do tipo object.*"
      ],
      "metadata": {
        "id": "0wd-5KDvjDQq"
      }
    },
    {
      "cell_type": "code",
      "source": [
        "# Visualização das primeiras linhas do dataframe\n",
        "dataset.head()"
      ],
      "metadata": {
        "colab": {
          "base_uri": "https://localhost:8080/",
          "height": 206
        },
        "id": "b5yhc0dQAxgI",
        "outputId": "3c432908-5c6a-4e87-9519-1a4bf3796bdd"
      },
      "execution_count": null,
      "outputs": [
        {
          "output_type": "execute_result",
          "data": {
            "text/plain": [
              "   gender   age  hypertension  heart_disease smoking_history    bmi  \\\n",
              "0  Female  80.0             0              1           never  25.19   \n",
              "1  Female  54.0             0              0         No Info  27.32   \n",
              "2    Male  28.0             0              0           never  27.32   \n",
              "3  Female  36.0             0              0         current  23.45   \n",
              "4    Male  76.0             1              1         current  20.14   \n",
              "\n",
              "   HbA1c_level  blood_glucose_level  diabetes  \n",
              "0          6.6                  140         0  \n",
              "1          6.6                   80         0  \n",
              "2          5.7                  158         0  \n",
              "3          5.0                  155         0  \n",
              "4          4.8                  155         0  "
            ],
            "text/html": [
              "\n",
              "\n",
              "  <div id=\"df-8b67a894-c895-403c-a380-7e1b9d06483b\">\n",
              "    <div class=\"colab-df-container\">\n",
              "      <div>\n",
              "<style scoped>\n",
              "    .dataframe tbody tr th:only-of-type {\n",
              "        vertical-align: middle;\n",
              "    }\n",
              "\n",
              "    .dataframe tbody tr th {\n",
              "        vertical-align: top;\n",
              "    }\n",
              "\n",
              "    .dataframe thead th {\n",
              "        text-align: right;\n",
              "    }\n",
              "</style>\n",
              "<table border=\"1\" class=\"dataframe\">\n",
              "  <thead>\n",
              "    <tr style=\"text-align: right;\">\n",
              "      <th></th>\n",
              "      <th>gender</th>\n",
              "      <th>age</th>\n",
              "      <th>hypertension</th>\n",
              "      <th>heart_disease</th>\n",
              "      <th>smoking_history</th>\n",
              "      <th>bmi</th>\n",
              "      <th>HbA1c_level</th>\n",
              "      <th>blood_glucose_level</th>\n",
              "      <th>diabetes</th>\n",
              "    </tr>\n",
              "  </thead>\n",
              "  <tbody>\n",
              "    <tr>\n",
              "      <th>0</th>\n",
              "      <td>Female</td>\n",
              "      <td>80.0</td>\n",
              "      <td>0</td>\n",
              "      <td>1</td>\n",
              "      <td>never</td>\n",
              "      <td>25.19</td>\n",
              "      <td>6.6</td>\n",
              "      <td>140</td>\n",
              "      <td>0</td>\n",
              "    </tr>\n",
              "    <tr>\n",
              "      <th>1</th>\n",
              "      <td>Female</td>\n",
              "      <td>54.0</td>\n",
              "      <td>0</td>\n",
              "      <td>0</td>\n",
              "      <td>No Info</td>\n",
              "      <td>27.32</td>\n",
              "      <td>6.6</td>\n",
              "      <td>80</td>\n",
              "      <td>0</td>\n",
              "    </tr>\n",
              "    <tr>\n",
              "      <th>2</th>\n",
              "      <td>Male</td>\n",
              "      <td>28.0</td>\n",
              "      <td>0</td>\n",
              "      <td>0</td>\n",
              "      <td>never</td>\n",
              "      <td>27.32</td>\n",
              "      <td>5.7</td>\n",
              "      <td>158</td>\n",
              "      <td>0</td>\n",
              "    </tr>\n",
              "    <tr>\n",
              "      <th>3</th>\n",
              "      <td>Female</td>\n",
              "      <td>36.0</td>\n",
              "      <td>0</td>\n",
              "      <td>0</td>\n",
              "      <td>current</td>\n",
              "      <td>23.45</td>\n",
              "      <td>5.0</td>\n",
              "      <td>155</td>\n",
              "      <td>0</td>\n",
              "    </tr>\n",
              "    <tr>\n",
              "      <th>4</th>\n",
              "      <td>Male</td>\n",
              "      <td>76.0</td>\n",
              "      <td>1</td>\n",
              "      <td>1</td>\n",
              "      <td>current</td>\n",
              "      <td>20.14</td>\n",
              "      <td>4.8</td>\n",
              "      <td>155</td>\n",
              "      <td>0</td>\n",
              "    </tr>\n",
              "  </tbody>\n",
              "</table>\n",
              "</div>\n",
              "      <button class=\"colab-df-convert\" onclick=\"convertToInteractive('df-8b67a894-c895-403c-a380-7e1b9d06483b')\"\n",
              "              title=\"Convert this dataframe to an interactive table.\"\n",
              "              style=\"display:none;\">\n",
              "\n",
              "  <svg xmlns=\"http://www.w3.org/2000/svg\" height=\"24px\"viewBox=\"0 0 24 24\"\n",
              "       width=\"24px\">\n",
              "    <path d=\"M0 0h24v24H0V0z\" fill=\"none\"/>\n",
              "    <path d=\"M18.56 5.44l.94 2.06.94-2.06 2.06-.94-2.06-.94-.94-2.06-.94 2.06-2.06.94zm-11 1L8.5 8.5l.94-2.06 2.06-.94-2.06-.94L8.5 2.5l-.94 2.06-2.06.94zm10 10l.94 2.06.94-2.06 2.06-.94-2.06-.94-.94-2.06-.94 2.06-2.06.94z\"/><path d=\"M17.41 7.96l-1.37-1.37c-.4-.4-.92-.59-1.43-.59-.52 0-1.04.2-1.43.59L10.3 9.45l-7.72 7.72c-.78.78-.78 2.05 0 2.83L4 21.41c.39.39.9.59 1.41.59.51 0 1.02-.2 1.41-.59l7.78-7.78 2.81-2.81c.8-.78.8-2.07 0-2.86zM5.41 20L4 18.59l7.72-7.72 1.47 1.35L5.41 20z\"/>\n",
              "  </svg>\n",
              "      </button>\n",
              "\n",
              "\n",
              "\n",
              "    <div id=\"df-7c52f52c-d1be-4c6c-912b-08048439745f\">\n",
              "      <button class=\"colab-df-quickchart\" onclick=\"quickchart('df-7c52f52c-d1be-4c6c-912b-08048439745f')\"\n",
              "              title=\"Suggest charts.\"\n",
              "              style=\"display:none;\">\n",
              "\n",
              "<svg xmlns=\"http://www.w3.org/2000/svg\" height=\"24px\"viewBox=\"0 0 24 24\"\n",
              "     width=\"24px\">\n",
              "    <g>\n",
              "        <path d=\"M19 3H5c-1.1 0-2 .9-2 2v14c0 1.1.9 2 2 2h14c1.1 0 2-.9 2-2V5c0-1.1-.9-2-2-2zM9 17H7v-7h2v7zm4 0h-2V7h2v10zm4 0h-2v-4h2v4z\"/>\n",
              "    </g>\n",
              "</svg>\n",
              "      </button>\n",
              "    </div>\n",
              "\n",
              "<style>\n",
              "  .colab-df-quickchart {\n",
              "    background-color: #E8F0FE;\n",
              "    border: none;\n",
              "    border-radius: 50%;\n",
              "    cursor: pointer;\n",
              "    display: none;\n",
              "    fill: #1967D2;\n",
              "    height: 32px;\n",
              "    padding: 0 0 0 0;\n",
              "    width: 32px;\n",
              "  }\n",
              "\n",
              "  .colab-df-quickchart:hover {\n",
              "    background-color: #E2EBFA;\n",
              "    box-shadow: 0px 1px 2px rgba(60, 64, 67, 0.3), 0px 1px 3px 1px rgba(60, 64, 67, 0.15);\n",
              "    fill: #174EA6;\n",
              "  }\n",
              "\n",
              "  [theme=dark] .colab-df-quickchart {\n",
              "    background-color: #3B4455;\n",
              "    fill: #D2E3FC;\n",
              "  }\n",
              "\n",
              "  [theme=dark] .colab-df-quickchart:hover {\n",
              "    background-color: #434B5C;\n",
              "    box-shadow: 0px 1px 3px 1px rgba(0, 0, 0, 0.15);\n",
              "    filter: drop-shadow(0px 1px 2px rgba(0, 0, 0, 0.3));\n",
              "    fill: #FFFFFF;\n",
              "  }\n",
              "</style>\n",
              "\n",
              "    <script>\n",
              "      async function quickchart(key) {\n",
              "        const containerElement = document.querySelector('#' + key);\n",
              "        const charts = await google.colab.kernel.invokeFunction(\n",
              "            'suggestCharts', [key], {});\n",
              "      }\n",
              "    </script>\n",
              "\n",
              "      <script>\n",
              "\n",
              "function displayQuickchartButton(domScope) {\n",
              "  let quickchartButtonEl =\n",
              "    domScope.querySelector('#df-7c52f52c-d1be-4c6c-912b-08048439745f button.colab-df-quickchart');\n",
              "  quickchartButtonEl.style.display =\n",
              "    google.colab.kernel.accessAllowed ? 'block' : 'none';\n",
              "}\n",
              "\n",
              "        displayQuickchartButton(document);\n",
              "      </script>\n",
              "      <style>\n",
              "    .colab-df-container {\n",
              "      display:flex;\n",
              "      flex-wrap:wrap;\n",
              "      gap: 12px;\n",
              "    }\n",
              "\n",
              "    .colab-df-convert {\n",
              "      background-color: #E8F0FE;\n",
              "      border: none;\n",
              "      border-radius: 50%;\n",
              "      cursor: pointer;\n",
              "      display: none;\n",
              "      fill: #1967D2;\n",
              "      height: 32px;\n",
              "      padding: 0 0 0 0;\n",
              "      width: 32px;\n",
              "    }\n",
              "\n",
              "    .colab-df-convert:hover {\n",
              "      background-color: #E2EBFA;\n",
              "      box-shadow: 0px 1px 2px rgba(60, 64, 67, 0.3), 0px 1px 3px 1px rgba(60, 64, 67, 0.15);\n",
              "      fill: #174EA6;\n",
              "    }\n",
              "\n",
              "    [theme=dark] .colab-df-convert {\n",
              "      background-color: #3B4455;\n",
              "      fill: #D2E3FC;\n",
              "    }\n",
              "\n",
              "    [theme=dark] .colab-df-convert:hover {\n",
              "      background-color: #434B5C;\n",
              "      box-shadow: 0px 1px 3px 1px rgba(0, 0, 0, 0.15);\n",
              "      filter: drop-shadow(0px 1px 2px rgba(0, 0, 0, 0.3));\n",
              "      fill: #FFFFFF;\n",
              "    }\n",
              "  </style>\n",
              "\n",
              "      <script>\n",
              "        const buttonEl =\n",
              "          document.querySelector('#df-8b67a894-c895-403c-a380-7e1b9d06483b button.colab-df-convert');\n",
              "        buttonEl.style.display =\n",
              "          google.colab.kernel.accessAllowed ? 'block' : 'none';\n",
              "\n",
              "        async function convertToInteractive(key) {\n",
              "          const element = document.querySelector('#df-8b67a894-c895-403c-a380-7e1b9d06483b');\n",
              "          const dataTable =\n",
              "            await google.colab.kernel.invokeFunction('convertToInteractive',\n",
              "                                                     [key], {});\n",
              "          if (!dataTable) return;\n",
              "\n",
              "          const docLinkHtml = 'Like what you see? Visit the ' +\n",
              "            '<a target=\"_blank\" href=https://colab.research.google.com/notebooks/data_table.ipynb>data table notebook</a>'\n",
              "            + ' to learn more about interactive tables.';\n",
              "          element.innerHTML = '';\n",
              "          dataTable['output_type'] = 'display_data';\n",
              "          await google.colab.output.renderOutput(dataTable, element);\n",
              "          const docLink = document.createElement('div');\n",
              "          docLink.innerHTML = docLinkHtml;\n",
              "          element.appendChild(docLink);\n",
              "        }\n",
              "      </script>\n",
              "    </div>\n",
              "  </div>\n"
            ]
          },
          "metadata": {},
          "execution_count": 6
        }
      ]
    },
    {
      "cell_type": "code",
      "source": [
        "# Visualização das últimas linhas do dataframe\n",
        "dataset.tail()"
      ],
      "metadata": {
        "colab": {
          "base_uri": "https://localhost:8080/",
          "height": 206
        },
        "id": "Ko2kKSRnA0hp",
        "outputId": "6ff5bc23-22ca-4987-e326-2ee6fda76f3b"
      },
      "execution_count": null,
      "outputs": [
        {
          "output_type": "execute_result",
          "data": {
            "text/plain": [
              "       gender   age  hypertension  heart_disease smoking_history    bmi  \\\n",
              "99995  Female  80.0             0              0         No Info  27.32   \n",
              "99996  Female   2.0             0              0         No Info  17.37   \n",
              "99997    Male  66.0             0              0          former  27.83   \n",
              "99998  Female  24.0             0              0           never  35.42   \n",
              "99999  Female  57.0             0              0         current  22.43   \n",
              "\n",
              "       HbA1c_level  blood_glucose_level  diabetes  \n",
              "99995          6.2                   90         0  \n",
              "99996          6.5                  100         0  \n",
              "99997          5.7                  155         0  \n",
              "99998          4.0                  100         0  \n",
              "99999          6.6                   90         0  "
            ],
            "text/html": [
              "\n",
              "\n",
              "  <div id=\"df-fd7f9e1f-0f75-40b5-814c-ddefae970224\">\n",
              "    <div class=\"colab-df-container\">\n",
              "      <div>\n",
              "<style scoped>\n",
              "    .dataframe tbody tr th:only-of-type {\n",
              "        vertical-align: middle;\n",
              "    }\n",
              "\n",
              "    .dataframe tbody tr th {\n",
              "        vertical-align: top;\n",
              "    }\n",
              "\n",
              "    .dataframe thead th {\n",
              "        text-align: right;\n",
              "    }\n",
              "</style>\n",
              "<table border=\"1\" class=\"dataframe\">\n",
              "  <thead>\n",
              "    <tr style=\"text-align: right;\">\n",
              "      <th></th>\n",
              "      <th>gender</th>\n",
              "      <th>age</th>\n",
              "      <th>hypertension</th>\n",
              "      <th>heart_disease</th>\n",
              "      <th>smoking_history</th>\n",
              "      <th>bmi</th>\n",
              "      <th>HbA1c_level</th>\n",
              "      <th>blood_glucose_level</th>\n",
              "      <th>diabetes</th>\n",
              "    </tr>\n",
              "  </thead>\n",
              "  <tbody>\n",
              "    <tr>\n",
              "      <th>99995</th>\n",
              "      <td>Female</td>\n",
              "      <td>80.0</td>\n",
              "      <td>0</td>\n",
              "      <td>0</td>\n",
              "      <td>No Info</td>\n",
              "      <td>27.32</td>\n",
              "      <td>6.2</td>\n",
              "      <td>90</td>\n",
              "      <td>0</td>\n",
              "    </tr>\n",
              "    <tr>\n",
              "      <th>99996</th>\n",
              "      <td>Female</td>\n",
              "      <td>2.0</td>\n",
              "      <td>0</td>\n",
              "      <td>0</td>\n",
              "      <td>No Info</td>\n",
              "      <td>17.37</td>\n",
              "      <td>6.5</td>\n",
              "      <td>100</td>\n",
              "      <td>0</td>\n",
              "    </tr>\n",
              "    <tr>\n",
              "      <th>99997</th>\n",
              "      <td>Male</td>\n",
              "      <td>66.0</td>\n",
              "      <td>0</td>\n",
              "      <td>0</td>\n",
              "      <td>former</td>\n",
              "      <td>27.83</td>\n",
              "      <td>5.7</td>\n",
              "      <td>155</td>\n",
              "      <td>0</td>\n",
              "    </tr>\n",
              "    <tr>\n",
              "      <th>99998</th>\n",
              "      <td>Female</td>\n",
              "      <td>24.0</td>\n",
              "      <td>0</td>\n",
              "      <td>0</td>\n",
              "      <td>never</td>\n",
              "      <td>35.42</td>\n",
              "      <td>4.0</td>\n",
              "      <td>100</td>\n",
              "      <td>0</td>\n",
              "    </tr>\n",
              "    <tr>\n",
              "      <th>99999</th>\n",
              "      <td>Female</td>\n",
              "      <td>57.0</td>\n",
              "      <td>0</td>\n",
              "      <td>0</td>\n",
              "      <td>current</td>\n",
              "      <td>22.43</td>\n",
              "      <td>6.6</td>\n",
              "      <td>90</td>\n",
              "      <td>0</td>\n",
              "    </tr>\n",
              "  </tbody>\n",
              "</table>\n",
              "</div>\n",
              "      <button class=\"colab-df-convert\" onclick=\"convertToInteractive('df-fd7f9e1f-0f75-40b5-814c-ddefae970224')\"\n",
              "              title=\"Convert this dataframe to an interactive table.\"\n",
              "              style=\"display:none;\">\n",
              "\n",
              "  <svg xmlns=\"http://www.w3.org/2000/svg\" height=\"24px\"viewBox=\"0 0 24 24\"\n",
              "       width=\"24px\">\n",
              "    <path d=\"M0 0h24v24H0V0z\" fill=\"none\"/>\n",
              "    <path d=\"M18.56 5.44l.94 2.06.94-2.06 2.06-.94-2.06-.94-.94-2.06-.94 2.06-2.06.94zm-11 1L8.5 8.5l.94-2.06 2.06-.94-2.06-.94L8.5 2.5l-.94 2.06-2.06.94zm10 10l.94 2.06.94-2.06 2.06-.94-2.06-.94-.94-2.06-.94 2.06-2.06.94z\"/><path d=\"M17.41 7.96l-1.37-1.37c-.4-.4-.92-.59-1.43-.59-.52 0-1.04.2-1.43.59L10.3 9.45l-7.72 7.72c-.78.78-.78 2.05 0 2.83L4 21.41c.39.39.9.59 1.41.59.51 0 1.02-.2 1.41-.59l7.78-7.78 2.81-2.81c.8-.78.8-2.07 0-2.86zM5.41 20L4 18.59l7.72-7.72 1.47 1.35L5.41 20z\"/>\n",
              "  </svg>\n",
              "      </button>\n",
              "\n",
              "\n",
              "\n",
              "    <div id=\"df-3add971a-b555-4d56-9f57-e91f74534dc6\">\n",
              "      <button class=\"colab-df-quickchart\" onclick=\"quickchart('df-3add971a-b555-4d56-9f57-e91f74534dc6')\"\n",
              "              title=\"Suggest charts.\"\n",
              "              style=\"display:none;\">\n",
              "\n",
              "<svg xmlns=\"http://www.w3.org/2000/svg\" height=\"24px\"viewBox=\"0 0 24 24\"\n",
              "     width=\"24px\">\n",
              "    <g>\n",
              "        <path d=\"M19 3H5c-1.1 0-2 .9-2 2v14c0 1.1.9 2 2 2h14c1.1 0 2-.9 2-2V5c0-1.1-.9-2-2-2zM9 17H7v-7h2v7zm4 0h-2V7h2v10zm4 0h-2v-4h2v4z\"/>\n",
              "    </g>\n",
              "</svg>\n",
              "      </button>\n",
              "    </div>\n",
              "\n",
              "<style>\n",
              "  .colab-df-quickchart {\n",
              "    background-color: #E8F0FE;\n",
              "    border: none;\n",
              "    border-radius: 50%;\n",
              "    cursor: pointer;\n",
              "    display: none;\n",
              "    fill: #1967D2;\n",
              "    height: 32px;\n",
              "    padding: 0 0 0 0;\n",
              "    width: 32px;\n",
              "  }\n",
              "\n",
              "  .colab-df-quickchart:hover {\n",
              "    background-color: #E2EBFA;\n",
              "    box-shadow: 0px 1px 2px rgba(60, 64, 67, 0.3), 0px 1px 3px 1px rgba(60, 64, 67, 0.15);\n",
              "    fill: #174EA6;\n",
              "  }\n",
              "\n",
              "  [theme=dark] .colab-df-quickchart {\n",
              "    background-color: #3B4455;\n",
              "    fill: #D2E3FC;\n",
              "  }\n",
              "\n",
              "  [theme=dark] .colab-df-quickchart:hover {\n",
              "    background-color: #434B5C;\n",
              "    box-shadow: 0px 1px 3px 1px rgba(0, 0, 0, 0.15);\n",
              "    filter: drop-shadow(0px 1px 2px rgba(0, 0, 0, 0.3));\n",
              "    fill: #FFFFFF;\n",
              "  }\n",
              "</style>\n",
              "\n",
              "    <script>\n",
              "      async function quickchart(key) {\n",
              "        const containerElement = document.querySelector('#' + key);\n",
              "        const charts = await google.colab.kernel.invokeFunction(\n",
              "            'suggestCharts', [key], {});\n",
              "      }\n",
              "    </script>\n",
              "\n",
              "      <script>\n",
              "\n",
              "function displayQuickchartButton(domScope) {\n",
              "  let quickchartButtonEl =\n",
              "    domScope.querySelector('#df-3add971a-b555-4d56-9f57-e91f74534dc6 button.colab-df-quickchart');\n",
              "  quickchartButtonEl.style.display =\n",
              "    google.colab.kernel.accessAllowed ? 'block' : 'none';\n",
              "}\n",
              "\n",
              "        displayQuickchartButton(document);\n",
              "      </script>\n",
              "      <style>\n",
              "    .colab-df-container {\n",
              "      display:flex;\n",
              "      flex-wrap:wrap;\n",
              "      gap: 12px;\n",
              "    }\n",
              "\n",
              "    .colab-df-convert {\n",
              "      background-color: #E8F0FE;\n",
              "      border: none;\n",
              "      border-radius: 50%;\n",
              "      cursor: pointer;\n",
              "      display: none;\n",
              "      fill: #1967D2;\n",
              "      height: 32px;\n",
              "      padding: 0 0 0 0;\n",
              "      width: 32px;\n",
              "    }\n",
              "\n",
              "    .colab-df-convert:hover {\n",
              "      background-color: #E2EBFA;\n",
              "      box-shadow: 0px 1px 2px rgba(60, 64, 67, 0.3), 0px 1px 3px 1px rgba(60, 64, 67, 0.15);\n",
              "      fill: #174EA6;\n",
              "    }\n",
              "\n",
              "    [theme=dark] .colab-df-convert {\n",
              "      background-color: #3B4455;\n",
              "      fill: #D2E3FC;\n",
              "    }\n",
              "\n",
              "    [theme=dark] .colab-df-convert:hover {\n",
              "      background-color: #434B5C;\n",
              "      box-shadow: 0px 1px 3px 1px rgba(0, 0, 0, 0.15);\n",
              "      filter: drop-shadow(0px 1px 2px rgba(0, 0, 0, 0.3));\n",
              "      fill: #FFFFFF;\n",
              "    }\n",
              "  </style>\n",
              "\n",
              "      <script>\n",
              "        const buttonEl =\n",
              "          document.querySelector('#df-fd7f9e1f-0f75-40b5-814c-ddefae970224 button.colab-df-convert');\n",
              "        buttonEl.style.display =\n",
              "          google.colab.kernel.accessAllowed ? 'block' : 'none';\n",
              "\n",
              "        async function convertToInteractive(key) {\n",
              "          const element = document.querySelector('#df-fd7f9e1f-0f75-40b5-814c-ddefae970224');\n",
              "          const dataTable =\n",
              "            await google.colab.kernel.invokeFunction('convertToInteractive',\n",
              "                                                     [key], {});\n",
              "          if (!dataTable) return;\n",
              "\n",
              "          const docLinkHtml = 'Like what you see? Visit the ' +\n",
              "            '<a target=\"_blank\" href=https://colab.research.google.com/notebooks/data_table.ipynb>data table notebook</a>'\n",
              "            + ' to learn more about interactive tables.';\n",
              "          element.innerHTML = '';\n",
              "          dataTable['output_type'] = 'display_data';\n",
              "          await google.colab.output.renderOutput(dataTable, element);\n",
              "          const docLink = document.createElement('div');\n",
              "          docLink.innerHTML = docLinkHtml;\n",
              "          element.appendChild(docLink);\n",
              "        }\n",
              "      </script>\n",
              "    </div>\n",
              "  </div>\n"
            ]
          },
          "metadata": {},
          "execution_count": 7
        }
      ]
    },
    {
      "cell_type": "code",
      "source": [
        "# Visualiação da distribuição dos dados da coluna Diabetes\n",
        "dataset_distrib = dataset['diabetes'].value_counts()/len(dataset)\n",
        "dataset_distrib"
      ],
      "metadata": {
        "colab": {
          "base_uri": "https://localhost:8080/"
        },
        "id": "iLTq0f6fBFI4",
        "outputId": "9c9d2b01-05ee-4e35-ca60-c078c9498b6b"
      },
      "execution_count": null,
      "outputs": [
        {
          "output_type": "execute_result",
          "data": {
            "text/plain": [
              "0    0.915\n",
              "1    0.085\n",
              "Name: diabetes, dtype: float64"
            ]
          },
          "metadata": {},
          "execution_count": 8
        }
      ]
    },
    {
      "cell_type": "markdown",
      "source": [
        "*Verificamos que o dataset está desbalanceado, tendo a grande maioria das instâncias o status não diabetes.*"
      ],
      "metadata": {
        "id": "uAk-aakDjlaz"
      }
    },
    {
      "cell_type": "code",
      "source": [
        "# Plotando gráfico de pizza para a visualização da distribuição\n",
        "plt.pie(dataset_distrib, labels = ['Não Diabético', 'Diabético'],\n",
        "       autopct = '%1.1f%%')\n",
        "plt.title(\"Distribuição de Diabéticos no Dataset\")\n",
        "plt.show()"
      ],
      "metadata": {
        "colab": {
          "base_uri": "https://localhost:8080/",
          "height": 429
        },
        "id": "90HfJfFYBSUd",
        "outputId": "11ad9013-6573-40a3-aa3e-c07e057c575f"
      },
      "execution_count": null,
      "outputs": [
        {
          "output_type": "display_data",
          "data": {
            "text/plain": [
              "<Figure size 640x480 with 1 Axes>"
            ],
            "image/png": "[encoded data removed]"
          },
          "metadata": {}
        }
      ]
    },
    {
      "cell_type": "markdown",
      "source": [
        "**5. Pré-processamento: (a) Balanceamento do Dataset; (b) Visualizações dos Dados Balanceados; (c) Primeira Seleção dos Atributos, Criação do novo Dataset; (d) Divisão do Dataset em Conjuntos de Treino e Teste; (e) Análise dos Atributos com SelectKBest; (f) Criação do Dataset Final.**"
      ],
      "metadata": {
        "id": "7bGhjBqoFA4x"
      }
    },
    {
      "cell_type": "markdown",
      "source": [
        "**(a) Balanceamento do Dataset.**"
      ],
      "metadata": {
        "id": "ZEXDJwUPIloE"
      }
    },
    {
      "cell_type": "code",
      "source": [
        "# Balanceamento do dataset\n",
        "neg_diab = dataset[dataset['diabetes']==0].sample(8500)\n",
        "pos_diab = dataset[dataset['diabetes']==1]\n",
        "dataset_balanceado = pd.concat([neg_diab,pos_diab],axis=0)"
      ],
      "metadata": {
        "id": "4Wz_HEjfCMIF"
      },
      "execution_count": null,
      "outputs": []
    },
    {
      "cell_type": "markdown",
      "source": [
        "*Visando obter um melhor resultado e evitar o overfitting, realizamos um balanceamento do dataset.*"
      ],
      "metadata": {
        "id": "UrDlFEG3kQpt"
      }
    },
    {
      "cell_type": "markdown",
      "source": [
        "**(b) Visualizações dos Dados Balanceados.**"
      ],
      "metadata": {
        "id": "zcRnjDrHIrCc"
      }
    },
    {
      "cell_type": "code",
      "source": [
        "# Visualização da distribuição dos dados da coluna Diabetes após o balanceamento\n",
        "dataset_dist = dataset_balanceado['diabetes'].value_counts()/len(dataset)\n",
        "dataset_dist"
      ],
      "metadata": {
        "colab": {
          "base_uri": "https://localhost:8080/"
        },
        "id": "ehCabs0KCbW-",
        "outputId": "4a8e1e80-7306-421e-b8f3-4369229f1a21"
      },
      "execution_count": null,
      "outputs": [
        {
          "output_type": "execute_result",
          "data": {
            "text/plain": [
              "0    0.085\n",
              "1    0.085\n",
              "Name: diabetes, dtype: float64"
            ]
          },
          "metadata": {},
          "execution_count": 11
        }
      ]
    },
    {
      "cell_type": "markdown",
      "source": [
        "*Com o tratamento realizado o dataset agora possui a mesma quantidade de instâncias para os dois resultados da coluna.*"
      ],
      "metadata": {
        "id": "y6hO0ANtkulv"
      }
    },
    {
      "cell_type": "code",
      "source": [
        "# Plotando gráfico de pizza para a visualização da nova distribuição\n",
        "plt.pie(dataset_dist, labels = ['Não Diabético', 'Diabético'],\n",
        "       autopct = '%1.1f%%')\n",
        "plt.title(\"Distribuição de Diabéticos no Dataset\")\n",
        "plt.show()"
      ],
      "metadata": {
        "colab": {
          "base_uri": "https://localhost:8080/",
          "height": 429
        },
        "id": "I2xwy53sCtUX",
        "outputId": "bf41d6f7-bf31-460a-faff-7027e773d90b"
      },
      "execution_count": null,
      "outputs": [
        {
          "output_type": "display_data",
          "data": {
            "text/plain": [
              "<Figure size 640x480 with 1 Axes>"
            ],
            "image/png": "[encoded data removed]"
          },
          "metadata": {}
        }
      ]
    },
    {
      "cell_type": "code",
      "source": [
        "# Grafico de correlação com Seaborn\n",
        "plt.figure(figsize = (15,10))\n",
        "sns.heatmap(dataset_balanceado.corr(), annot=True, cmap= 'RdBu', vmin=-1, vmax=1, linewidths=3,linecolor='white');"
      ],
      "metadata": {
        "colab": {
          "base_uri": "https://localhost:8080/",
          "height": 836
        },
        "id": "jC-hgaeZC7fL",
        "outputId": "66d360c1-f9f3-4273-c2ec-537106721059"
      },
      "execution_count": null,
      "outputs": [
        {
          "output_type": "display_data",
          "data": {
            "text/plain": [
              "<Figure size 1500x1000 with 2 Axes>"
            ],
            "image/png": "[encoded data removed]"
          },
          "metadata": {}
        }
      ]
    },
    {
      "cell_type": "markdown",
      "source": [
        "*Através do Gráfico de Correlação podemos visualizar quais atributos tem uma correlação maior com a coluna Diabetes.*"
      ],
      "metadata": {
        "id": "FcgDfYJVlHsD"
      }
    },
    {
      "cell_type": "markdown",
      "source": [
        "**(c) Primeira Seleção dos Atributos, Criação do novo Dataset.**"
      ],
      "metadata": {
        "id": "WmvQRegxI2m9"
      }
    },
    {
      "cell_type": "code",
      "source": [
        "# Seleção dos atributos para a criação do novo dataframe\n",
        "dataset_novo = dataset_balanceado[['age', 'hypertension', 'heart_disease', 'bmi', 'HbA1c_level', 'blood_glucose_level','diabetes']]"
      ],
      "metadata": {
        "id": "d5QuTsDBG5ok"
      },
      "execution_count": null,
      "outputs": []
    },
    {
      "cell_type": "markdown",
      "source": [
        "*Diante das informações obtidas através do Gráfico de Correlação, foi criado um novo dataset.*"
      ],
      "metadata": {
        "id": "yZK25QQulXY2"
      }
    },
    {
      "cell_type": "markdown",
      "source": [
        "**(d) Divisão do Dataset em Conjuntos de Treino e Teste.**"
      ],
      "metadata": {
        "id": "xesTNpj5JTOb"
      }
    },
    {
      "cell_type": "code",
      "source": [
        "# Separação em bases de treino e teste (holdout)\n",
        "array = dataset_novo.values\n",
        "X = array[:,0:6]\n",
        "y = array[:,6]"
      ],
      "metadata": {
        "id": "lHj1GUgxHBFM"
      },
      "execution_count": null,
      "outputs": []
    },
    {
      "cell_type": "markdown",
      "source": [
        "**(e) Análise dos Atributos com SelectKBest.**"
      ],
      "metadata": {
        "id": "Z8ChEBToJdbE"
      }
    },
    {
      "cell_type": "code",
      "source": [
        "# SelectKBest\n",
        "\n",
        "# Seleção de atributos com SelectKBest\n",
        "best_var = SelectKBest(score_func=f_classif, k=4)\n",
        "\n",
        "# Executa a função de pontuação em (X, y) e obtém os atributos selecionados\n",
        "fit = best_var.fit(X, y)\n",
        "\n",
        "# Reduz X para os atributos selecionados\n",
        "features = fit.transform(X)\n",
        "\n",
        "# Resultados\n",
        "print('\\nNúmero original de atributos:', X.shape[1])\n",
        "print('\\nNúmero reduzido de atributos:', features.shape[1])\n",
        "\n",
        "# Exibe os atributos originais\n",
        "print(\"\\nAtributos Originais:\", dataset_novo.columns[0:6])\n",
        "\n",
        "# Exibe as pontuações de cada atributo e os 4 escolhidos (com pontuação mais altas)\n",
        "np.set_printoptions(precision=3) # 3 casas decimais\n",
        "print(\"\\nScores dos Atributos Originais:\", fit.scores_)\n",
        "print(\"\\nAtributos Selecionados:\", best_var.get_feature_names_out(input_features=dataset_novo.columns[0:6]))"
      ],
      "metadata": {
        "colab": {
          "base_uri": "https://localhost:8080/"
        },
        "id": "lzznCmeWHGQS",
        "outputId": "a62b4457-06f1-4b73-bb82-9bf8a2982645"
      },
      "execution_count": null,
      "outputs": [
        {
          "output_type": "stream",
          "name": "stdout",
          "text": [
            "\n",
            "Número original de atributos: 6\n",
            "\n",
            "Número reduzido de atributos: 4\n",
            "\n",
            "Atributos Originais: Index(['age', 'hypertension', 'heart_disease', 'bmi', 'HbA1c_level',\n",
            "       'blood_glucose_level'],\n",
            "      dtype='object')\n",
            "\n",
            "Scores dos Atributos Originais: [5167.658 1236.747  782.992 2176.177 9569.207 6899.864]\n",
            "\n",
            "Atributos Selecionados: ['age' 'bmi' 'HbA1c_level' 'blood_glucose_level']\n"
          ]
        }
      ]
    },
    {
      "cell_type": "markdown",
      "source": [
        "*A seleção de atributos através do SelectKBest tem como objetivo a redução do overfitting (minimizando o ruído), a melhoria dos resultados, a redução do tempo de treinamento e a melhoria da interpretabilidade do modelo.*"
      ],
      "metadata": {
        "id": "6AGgBk2nl5qa"
      }
    },
    {
      "cell_type": "markdown",
      "source": [
        "**(f) Criação do Dataset Final.**"
      ],
      "metadata": {
        "id": "FRwAyeJOJjfS"
      }
    },
    {
      "cell_type": "code",
      "source": [
        "# Seleção das colunas para a criação do dataframe final.\n",
        "dataset_final = dataset_novo[['age', 'bmi', 'HbA1c_level', 'blood_glucose_level','diabetes']]"
      ],
      "metadata": {
        "id": "TVWbN5ZdJqMD"
      },
      "execution_count": null,
      "outputs": []
    },
    {
      "cell_type": "markdown",
      "source": [
        "**6. Modelagem e Inferência: (a) Separação do Conjunto de Treino e Teste; (b) Criação e Avaliação dos Modelos.**"
      ],
      "metadata": {
        "id": "RqL7UtxqKH_7"
      }
    },
    {
      "cell_type": "markdown",
      "source": [
        "**(a) Separação do Conjunto de Treino e Teste.**"
      ],
      "metadata": {
        "id": "-G89_vS_LfGV"
      }
    },
    {
      "cell_type": "code",
      "source": [
        "# Separação em conjunto de treino e teste com holdout\n",
        "\n",
        "test_size = 0.20 # tamanho do conjunto de teste\n",
        "seed = 7 # semente aleatória\n",
        "\n",
        "# separação em conjunto de treino e teste\n",
        "array = dataset_final.values\n",
        "X = array[:,0:4]\n",
        "y = array[:,4]\n",
        "X_train, X_test, y_train, y_test = train_test_split(X, y, test_size=test_size, shuffle=True, random_state=seed, stratify=y) # holdout com estratificação\n",
        "\n",
        "# Parâmetros e partições da validação cruzada\n",
        "scoring = 'accuracy'\n",
        "num_particoes = 10\n",
        "kfold = StratifiedKFold(n_splits=num_particoes, shuffle=True, random_state=seed) # validação cruzada com estratificação"
      ],
      "metadata": {
        "id": "VRhpkcwpLYuW"
      },
      "execution_count": null,
      "outputs": []
    },
    {
      "cell_type": "markdown",
      "source": [
        "*Foram utilizadas as técnicas Holdout e Validação Cruzada para obtermos os melhores resultados.*"
      ],
      "metadata": {
        "id": "kp94z7hUpQhH"
      }
    },
    {
      "cell_type": "markdown",
      "source": [
        "**(b) Criação e Avaliação dos Modelos.**"
      ],
      "metadata": {
        "id": "Ju968wDaLkW5"
      }
    },
    {
      "cell_type": "code",
      "source": [
        "np.random.seed(7) # definindo uma semente global\n",
        "\n",
        "# Lista que armazenará os modelos\n",
        "models = []\n",
        "\n",
        "# Criando os modelos e adicionando-os na lista de modelos\n",
        "models.append(('LR', LogisticRegression(max_iter=200)))\n",
        "models.append(('KNN', KNeighborsClassifier()))\n",
        "models.append(('CART', DecisionTreeClassifier()))\n",
        "models.append(('NB', GaussianNB()))\n",
        "models.append(('SVM', SVC()))\n",
        "\n",
        "\n",
        "# Definindo os parâmetros do classificador base para o BaggingClassifier\n",
        "base = DecisionTreeClassifier()\n",
        "num_trees = 100\n",
        "max_features = 3\n",
        "\n",
        "# Criando os modelos para o VotingClassifier\n",
        "bases = []\n",
        "model1 = LogisticRegression(max_iter=200)\n",
        "bases.append(('logistic', model1))\n",
        "model2 = DecisionTreeClassifier()\n",
        "bases.append(('cart', model2))\n",
        "model3 = SVC()\n",
        "bases.append(('svm', model3))\n",
        "\n",
        "# Criando os ensembles e adicionando-os na lista de modelos\n",
        "models.append(('Bagging', BaggingClassifier(base_estimator=base, n_estimators=num_trees)))\n",
        "models.append(('RF', RandomForestClassifier(n_estimators=num_trees, max_features=max_features)))\n",
        "models.append(('ET', ExtraTreesClassifier(n_estimators=num_trees, max_features=max_features)))\n",
        "models.append(('Ada', AdaBoostClassifier(n_estimators=num_trees)))\n",
        "models.append(('GB', GradientBoostingClassifier(n_estimators=num_trees)))\n",
        "models.append(('Voting', VotingClassifier(bases)))\n",
        "\n",
        "# Listas para armazenar os resultados\n",
        "results = []\n",
        "names = []\n",
        "\n",
        "# Avaliação dos modelos\n",
        "for name, model in models:\n",
        "  cv_results = cross_val_score(model, X_train, y_train, cv=kfold, scoring=scoring)\n",
        "  results.append(cv_results)\n",
        "  names.append(name)\n",
        "  msg = \"%s: %f (%f)\" % (name, cv_results.mean(), cv_results.std())\n",
        "  print(msg)\n",
        "\n",
        "# Boxplot de comparação dos modelos\n",
        "fig = plt.figure(figsize=(15,10))\n",
        "fig.suptitle('Comparação dos Modelos')\n",
        "ax = fig.add_subplot(111)\n",
        "plt.boxplot(results)\n",
        "ax.set_xticklabels(names)\n",
        "plt.show()"
      ],
      "metadata": {
        "colab": {
          "base_uri": "https://localhost:8080/",
          "height": 1000
        },
        "id": "xBloeZxALqfj",
        "outputId": "87229207-c42e-45e5-e0c8-929d9660b7e9"
      },
      "execution_count": null,
      "outputs": [
        {
          "output_type": "stream",
          "name": "stdout",
          "text": [
            "LR: 0.875735 (0.007167)\n",
            "KNN: 0.860294 (0.010579)\n",
            "CART: 0.875662 (0.010958)\n",
            "NB: 0.864338 (0.009285)\n",
            "SVM: 0.865735 (0.006462)\n",
            "Bagging: 0.894926 (0.009679)\n",
            "RF: 0.895515 (0.010653)\n",
            "ET: 0.893897 (0.009365)\n",
            "Ada: 0.910588 (0.007384)\n",
            "GB: 0.911397 (0.006685)\n",
            "Voting: 0.893456 (0.005337)\n"
          ]
        },
        {
          "output_type": "display_data",
          "data": {
            "text/plain": [
              "<Figure size 1500x1000 with 1 Axes>"
            ],
            "image/png": "[encoded data removed]"
          },
          "metadata": {}
        }
      ]
    },
    {
      "cell_type": "markdown",
      "source": [
        "*(A) Para a criação dos modelos foram utilizados os seguintes algoritmos clássicos preditivos de classificação: Regressão Logística, KNN, Árvore de Classificação, Naive Bayes e SVM.\n",
        "Foram criados também ensembles visando a obtenção de melhores resultados.*"
      ],
      "metadata": {
        "id": "uzUhMJFkrKEZ"
      }
    },
    {
      "cell_type": "markdown",
      "source": [
        "*(B) Os resultados de acurácia dos modelos foram excelentes, demonstrando que o tratamentos realizado através do feature selection ajudou na performance dos modelos. Outro aspecto a ser apontado é que o resultado positivo pode ter sido influenciado também devido a quantidade pequena e a correlação positiva dos atributos.\n",
        "O melhor resultado ocorreu através do algortimo Gradient Boosting Classifier.*"
      ],
      "metadata": {
        "id": "fjEaWI5ttb-H"
      }
    },
    {
      "cell_type": "code",
      "source": [
        "# Criação e avaliação de modelos: dados padronizados e normalizados\n",
        "\n",
        "np.random.seed(7) # definindo uma semente global para este bloco\n",
        "\n",
        "# Listas para armazenar os pipelines e os resultados para todas as visões do dataset\n",
        "pipelines = []\n",
        "results = []\n",
        "names = []\n",
        "\n",
        "# Criando os elementos do pipeline\n",
        "\n",
        "# Algoritmos que serão utilizados\n",
        "reg_log = ('LR', LogisticRegression(max_iter=200))\n",
        "knn = ('KNN', KNeighborsClassifier())\n",
        "cart = ('CART', DecisionTreeClassifier())\n",
        "naive_bayes = ('NB', GaussianNB())\n",
        "svm = ('SVM', SVC())\n",
        "bagging = ('Bag', BaggingClassifier(base_estimator=base, n_estimators=num_trees))\n",
        "random_forest = ('RF', RandomForestClassifier(n_estimators=num_trees, max_features=max_features))\n",
        "extra_trees = ('ET', ExtraTreesClassifier(n_estimators=num_trees, max_features=max_features))\n",
        "adaboost = ('Ada', AdaBoostClassifier(n_estimators=num_trees))\n",
        "gradient_boosting = ('GB', GradientBoostingClassifier(n_estimators=num_trees))\n",
        "voting = ('Voting', VotingClassifier(bases))\n",
        "\n",
        "# Transformações que serão utilizadas\n",
        "standard_scaler = ('StandardScaler', StandardScaler())\n",
        "min_max_scaler = ('MinMaxScaler', MinMaxScaler())\n",
        "\n",
        "# Montando os pipelines\n",
        "\n",
        "# Dataset Original\n",
        "pipelines.append(('LR-orig', Pipeline([reg_log])))\n",
        "pipelines.append(('KNN-orig', Pipeline([knn])))\n",
        "pipelines.append(('CART-orig', Pipeline([cart])))\n",
        "pipelines.append(('NB-orig', Pipeline([naive_bayes])))\n",
        "pipelines.append(('SVM-orig', Pipeline([svm])))\n",
        "pipelines.append(('Bag-orig', Pipeline([bagging])))\n",
        "pipelines.append(('RF-orig', Pipeline([random_forest])))\n",
        "pipelines.append(('ET-orig', Pipeline([extra_trees])))\n",
        "pipelines.append(('Ada-orig', Pipeline([adaboost])))\n",
        "pipelines.append(('GB-orig', Pipeline([gradient_boosting])))\n",
        "pipelines.append(('Vot-orig', Pipeline([voting])))\n",
        "\n",
        "# Dataset Padronizado\n",
        "pipelines.append(('LR-padr', Pipeline([standard_scaler, reg_log])))\n",
        "pipelines.append(('KNN-padr', Pipeline([standard_scaler, knn])))\n",
        "pipelines.append(('CART-padr', Pipeline([standard_scaler, cart])))\n",
        "pipelines.append(('NB-padr', Pipeline([standard_scaler, naive_bayes])))\n",
        "pipelines.append(('SVM-padr', Pipeline([standard_scaler, svm])))\n",
        "pipelines.append(('Bag-padr', Pipeline([standard_scaler, bagging])))\n",
        "pipelines.append(('RF-padr', Pipeline([standard_scaler, random_forest])))\n",
        "pipelines.append(('ET-padr', Pipeline([standard_scaler, extra_trees])))\n",
        "pipelines.append(('Ada-padr', Pipeline([standard_scaler, adaboost])))\n",
        "pipelines.append(('GB-padr', Pipeline([standard_scaler, gradient_boosting])))\n",
        "pipelines.append(('Vot-padr', Pipeline([standard_scaler, voting])))\n",
        "\n",
        "#Dataset Normalizado\n",
        "pipelines.append(('LR-norm', Pipeline([min_max_scaler, reg_log])))\n",
        "pipelines.append(('KNN-norm', Pipeline([min_max_scaler, knn])))\n",
        "pipelines.append(('CART-norm', Pipeline([min_max_scaler, cart])))\n",
        "pipelines.append(('NB-norm', Pipeline([min_max_scaler, naive_bayes])))\n",
        "pipelines.append(('SVM-norm', Pipeline([min_max_scaler, svm])))\n",
        "pipelines.append(('Bag-norm', Pipeline([min_max_scaler, bagging])))\n",
        "pipelines.append(('RF-norm', Pipeline([min_max_scaler, random_forest])))\n",
        "pipelines.append(('ET-norm', Pipeline([min_max_scaler, extra_trees])))\n",
        "pipelines.append(('Ada-norm', Pipeline([min_max_scaler, adaboost])))\n",
        "pipelines.append(('GB-norm', Pipeline([min_max_scaler, gradient_boosting])))\n",
        "pipelines.append(('Vot-norm', Pipeline([min_max_scaler, voting])))\n",
        "\n",
        "# Executando os pipelines\n",
        "for name, model in pipelines:\n",
        "  cv_results = cross_val_score(model, X_train, y_train, cv=kfold, scoring=scoring)\n",
        "  results.append(cv_results)\n",
        "  names.append(name)\n",
        "  msg = \"%s: %.3f (%.3f)\" % (name, cv_results.mean(), cv_results.std()) # formatando para 3 casas decimais\n",
        "  print(msg)\n",
        "\n",
        "# Boxplot de comparação dos modelos\n",
        "fig = plt.figure(figsize=(25,6))\n",
        "fig.suptitle('Comparação dos Modelos - Dataset Original, Padronizado e Normalizado')\n",
        "ax = fig.add_subplot(111)\n",
        "plt.boxplot(results)\n",
        "ax.set_xticklabels(names, rotation=90)\n",
        "plt.show()"
      ],
      "metadata": {
        "colab": {
          "base_uri": "https://localhost:8080/",
          "height": 1000
        },
        "id": "eh4x_FgPMPAc",
        "outputId": "1aaa3ef2-530c-4a08-beee-cf53bdce6431"
      },
      "execution_count": null,
      "outputs": [
        {
          "output_type": "stream",
          "name": "stdout",
          "text": [
            "LR-orig: 0.876 (0.007)\n",
            "KNN-orig: 0.860 (0.011)\n",
            "CART-orig: 0.876 (0.011)\n",
            "NB-orig: 0.864 (0.009)\n",
            "SVM-orig: 0.866 (0.006)\n",
            "Bag-orig: 0.895 (0.010)\n",
            "RF-orig: 0.896 (0.011)\n",
            "ET-orig: 0.894 (0.009)\n",
            "Ada-orig: 0.911 (0.007)\n",
            "GB-orig: 0.911 (0.007)\n",
            "Vot-orig: 0.893 (0.005)\n",
            "LR-padr: 0.876 (0.007)\n",
            "KNN-padr: 0.887 (0.009)\n",
            "CART-padr: 0.874 (0.012)\n",
            "NB-padr: 0.864 (0.009)\n",
            "SVM-padr: 0.898 (0.006)\n",
            "Bag-padr: 0.896 (0.009)\n",
            "RF-padr: 0.895 (0.010)\n",
            "ET-padr: 0.892 (0.010)\n",
            "Ada-padr: 0.911 (0.007)\n",
            "GB-padr: 0.911 (0.007)\n",
            "Vot-padr: 0.893 (0.006)\n",
            "LR-norm: 0.876 (0.007)\n",
            "KNN-norm: 0.888 (0.008)\n",
            "CART-norm: 0.874 (0.010)\n",
            "NB-norm: 0.864 (0.009)\n",
            "SVM-norm: 0.897 (0.007)\n",
            "Bag-norm: 0.895 (0.009)\n",
            "RF-norm: 0.898 (0.009)\n",
            "ET-norm: 0.892 (0.010)\n",
            "Ada-norm: 0.911 (0.007)\n",
            "GB-norm: 0.911 (0.007)\n",
            "Vot-norm: 0.893 (0.007)\n"
          ]
        },
        {
          "output_type": "display_data",
          "data": {
            "text/plain": [
              "<Figure size 2500x600 with 1 Axes>"
            ],
            "image/png": "[encoded data removed]"
          },
          "metadata": {}
        }
      ]
    },
    {
      "cell_type": "markdown",
      "source": [
        "*(A) Nessa nova etapa do projeto os algoritmos foram testados novamente dessa vez os comparando com os dados tratados através da normalização e padronização. Utilizamos também pipelines com o objetivo de evitar a ocorrência de data leakage.*"
      ],
      "metadata": {
        "id": "_rjq_In0yQXi"
      }
    },
    {
      "cell_type": "markdown",
      "source": [
        "*(B) O algoritmo Gradient Boosting Classifier permaneceu com a melhor acurácia, obtendo uma pequena melhora através dos dados normatizados e padronizados.*"
      ],
      "metadata": {
        "id": "CPeb6qKPzZ93"
      }
    },
    {
      "cell_type": "markdown",
      "source": [
        "**7. Otimização de Hiperparâmetros.**"
      ],
      "metadata": {
        "id": "fu153BcZMqXX"
      }
    },
    {
      "cell_type": "markdown",
      "source": [
        "*Diante do excelente resultado obtido através do algortimo Gradient Boosting Classifier, não vemos como necessária a otimização dos hiperparâmetros do modelo. Apenas para demonstração da técnica, foi realizado o Tuning através do algoritmo KNN.*"
      ],
      "metadata": {
        "id": "UxvbwCggQRwN"
      }
    },
    {
      "cell_type": "code",
      "source": [
        "# Otimização de Hiperparâmetros\n",
        "\n",
        "# Tuning do KNN\n",
        "\n",
        "np.random.seed(7) # definindo uma semente global para este bloco\n",
        "\n",
        "pipelines = []\n",
        "\n",
        "# Definindo os componentes do pipeline\n",
        "knn = ('KNN', KNeighborsClassifier())\n",
        "standard_scaler = ('StandardScaler', StandardScaler())\n",
        "min_max_scaler = ('MinMaxScaler', MinMaxScaler())\n",
        "\n",
        "pipelines.append(('knn-orig', Pipeline(steps=[knn])))\n",
        "pipelines.append(('knn-padr', Pipeline(steps=[standard_scaler, knn])))\n",
        "pipelines.append(('knn-norm', Pipeline(steps=[min_max_scaler, knn])))\n",
        "\n",
        "param_grid = {\n",
        "    'KNN__n_neighbors': [1,3,5,7,9,11,13,15,17,19,21],\n",
        "    'KNN__metric': [\"euclidean\", \"manhattan\", \"minkowski\"],\n",
        "}\n",
        "\n",
        "# Prepara e executa o GridSearchCV\n",
        "\n",
        "for name, model in pipelines:\n",
        "  grid = GridSearchCV(estimator=model, param_grid=param_grid, scoring=scoring, cv=kfold)\n",
        "  grid.fit(X_train, y_train)\n",
        "  # imprime a melhor configuração\n",
        "  print(\"Sem tratamento de missings: %s - Melhor: %f usando %s\" % (name, grid.best_score_, grid.best_params_))"
      ],
      "metadata": {
        "colab": {
          "base_uri": "https://localhost:8080/"
        },
        "id": "eiOzbddIpnM6",
        "outputId": "18e0688c-4606-468d-f368-e9889d15edae"
      },
      "execution_count": null,
      "outputs": [
        {
          "output_type": "stream",
          "name": "stdout",
          "text": [
            "Sem tratamento de missings: knn-orig - Melhor: 0.867868 usando {'KNN__metric': 'manhattan', 'KNN__n_neighbors': 9}\n",
            "Sem tratamento de missings: knn-padr - Melhor: 0.897059 usando {'KNN__metric': 'euclidean', 'KNN__n_neighbors': 19}\n",
            "Sem tratamento de missings: knn-norm - Melhor: 0.896985 usando {'KNN__metric': 'manhattan', 'KNN__n_neighbors': 19}\n"
          ]
        }
      ]
    },
    {
      "cell_type": "markdown",
      "source": [
        "*A otimização dos hiperparâmetros gerou uma melhor acurácia no modelo KNN, tendo o melhor resultado através do modelo padronizado.*"
      ],
      "metadata": {
        "id": "pPeDB7g92OCM"
      }
    },
    {
      "cell_type": "markdown",
      "source": [
        "**8. Pós-processamento: (a) Predição no Conjunto de Teste (Validação Final); (b) Salvamento do Modelo para uso posterior.**"
      ],
      "metadata": {
        "id": "jxlfWazKQmtl"
      }
    },
    {
      "cell_type": "markdown",
      "source": [
        "**(a) Predição no Conjunto de Teste (Validação Final).**\n",
        "\n"
      ],
      "metadata": {
        "id": "KFdc-6xZ88rs"
      }
    },
    {
      "cell_type": "code",
      "source": [
        "# Finalização do Modelo\n",
        "\n",
        "# Avaliação do modelo com o conjunto de testes\n",
        "\n",
        "# Preparação do modelo\n",
        "scaler = StandardScaler().fit(X_train) # ajuste do scaler com o conjunto de treino\n",
        "rescaledX = scaler.transform(X_train) # aplicação da padronização no conjunto de treino\n",
        "model = GradientBoostingClassifier(random_state=10)\n",
        "model.fit(rescaledX, y_train)\n",
        "\n",
        "# Estimativa da acurácia no conjunto de teste\n",
        "rescaledTestX = scaler.transform(X_test) # aplicação da padronização no conjunto de teste\n",
        "predictions = model.predict(rescaledTestX)\n",
        "print(accuracy_score(y_test, predictions))"
      ],
      "metadata": {
        "colab": {
          "base_uri": "https://localhost:8080/"
        },
        "id": "Pmr3NcU0QkQf",
        "outputId": "3cb269e6-31a8-46bd-9c26-95a0c83bdaf0"
      },
      "execution_count": null,
      "outputs": [
        {
          "output_type": "stream",
          "name": "stdout",
          "text": [
            "0.9123529411764706\n"
          ]
        }
      ]
    },
    {
      "cell_type": "markdown",
      "source": [
        "*O modelo Gradient Boosting Classifier foi testado nos dados de teste e obteve uma acurácia muito próxima do teste realizado nos dados de treinamento.*"
      ],
      "metadata": {
        "id": "ricD0XmN29fb"
      }
    },
    {
      "cell_type": "markdown",
      "source": [
        "**(b) Salvamento do Modelo para uso posterior.**"
      ],
      "metadata": {
        "id": "vRbhnu979LMk"
      }
    },
    {
      "cell_type": "code",
      "source": [
        "# Preparação do modelo com todo o dataset\n",
        "scaler = StandardScaler().fit(X) # ajuste do scaler com todo o dataset\n",
        "rescaledX = scaler.transform(X) # aplicação da padronização com todo o dataset\n",
        "model.fit(rescaledX, y)"
      ],
      "metadata": {
        "colab": {
          "base_uri": "https://localhost:8080/",
          "height": 74
        },
        "id": "eFhTTrwxRUgr",
        "outputId": "29a160b1-ebdd-4b75-eb19-6ed49cecf96c"
      },
      "execution_count": null,
      "outputs": [
        {
          "output_type": "execute_result",
          "data": {
            "text/plain": [
              "GradientBoostingClassifier(random_state=10)"
            ],
            "text/html": [
              "<style>#sk-container-id-1 {color: black;background-color: white;}#sk-container-id-1 pre{padding: 0;}#sk-container-id-1 div.sk-toggleable {background-color: white;}#sk-container-id-1 label.sk-toggleable__label {cursor: pointer;display: block;width: 100%;margin-bottom: 0;padding: 0.3em;box-sizing: border-box;text-align: center;}#sk-container-id-1 label.sk-toggleable__label-arrow:before {content: \"▸\";float: left;margin-right: 0.25em;color: #696969;}#sk-container-id-1 label.sk-toggleable__label-arrow:hover:before {color: black;}#sk-container-id-1 div.sk-estimator:hover label.sk-toggleable__label-arrow:before {color: black;}#sk-container-id-1 div.sk-toggleable__content {max-height: 0;max-width: 0;overflow: hidden;text-align: left;background-color: #f0f8ff;}#sk-container-id-1 div.sk-toggleable__content pre {margin: 0.2em;color: black;border-radius: 0.25em;background-color: #f0f8ff;}#sk-container-id-1 input.sk-toggleable__control:checked~div.sk-toggleable__content {max-height: 200px;max-width: 100%;overflow: auto;}#sk-container-id-1 input.sk-toggleable__control:checked~label.sk-toggleable__label-arrow:before {content: \"▾\";}#sk-container-id-1 div.sk-estimator input.sk-toggleable__control:checked~label.sk-toggleable__label {background-color: #d4ebff;}#sk-container-id-1 div.sk-label input.sk-toggleable__control:checked~label.sk-toggleable__label {background-color: #d4ebff;}#sk-container-id-1 input.sk-hidden--visually {border: 0;clip: rect(1px 1px 1px 1px);clip: rect(1px, 1px, 1px, 1px);height: 1px;margin: -1px;overflow: hidden;padding: 0;position: absolute;width: 1px;}#sk-container-id-1 div.sk-estimator {font-family: monospace;background-color: #f0f8ff;border: 1px dotted black;border-radius: 0.25em;box-sizing: border-box;margin-bottom: 0.5em;}#sk-container-id-1 div.sk-estimator:hover {background-color: #d4ebff;}#sk-container-id-1 div.sk-parallel-item::after {content: \"\";width: 100%;border-bottom: 1px solid gray;flex-grow: 1;}#sk-container-id-1 div.sk-label:hover label.sk-toggleable__label {background-color: #d4ebff;}#sk-container-id-1 div.sk-serial::before {content: \"\";position: absolute;border-left: 1px solid gray;box-sizing: border-box;top: 0;bottom: 0;left: 50%;z-index: 0;}#sk-container-id-1 div.sk-serial {display: flex;flex-direction: column;align-items: center;background-color: white;padding-right: 0.2em;padding-left: 0.2em;position: relative;}#sk-container-id-1 div.sk-item {position: relative;z-index: 1;}#sk-container-id-1 div.sk-parallel {display: flex;align-items: stretch;justify-content: center;background-color: white;position: relative;}#sk-container-id-1 div.sk-item::before, #sk-container-id-1 div.sk-parallel-item::before {content: \"\";position: absolute;border-left: 1px solid gray;box-sizing: border-box;top: 0;bottom: 0;left: 50%;z-index: -1;}#sk-container-id-1 div.sk-parallel-item {display: flex;flex-direction: column;z-index: 1;position: relative;background-color: white;}#sk-container-id-1 div.sk-parallel-item:first-child::after {align-self: flex-end;width: 50%;}#sk-container-id-1 div.sk-parallel-item:last-child::after {align-self: flex-start;width: 50%;}#sk-container-id-1 div.sk-parallel-item:only-child::after {width: 0;}#sk-container-id-1 div.sk-dashed-wrapped {border: 1px dashed gray;margin: 0 0.4em 0.5em 0.4em;box-sizing: border-box;padding-bottom: 0.4em;background-color: white;}#sk-container-id-1 div.sk-label label {font-family: monospace;font-weight: bold;display: inline-block;line-height: 1.2em;}#sk-container-id-1 div.sk-label-container {text-align: center;}#sk-container-id-1 div.sk-container {/* jupyter's `normalize.less` sets `[hidden] { display: none; }` but bootstrap.min.css set `[hidden] { display: none !important; }` so we also need the `!important` here to be able to override the default hidden behavior on the sphinx rendered scikit-learn.org. See: https://github.com/scikit-learn/scikit-learn/issues/21755 */display: inline-block !important;position: relative;}#sk-container-id-1 div.sk-text-repr-fallback {display: none;}</style><div id=\"sk-container-id-1\" class=\"sk-top-container\"><div class=\"sk-text-repr-fallback\"><pre>GradientBoostingClassifier(random_state=10)</pre><b>In a Jupyter environment, please rerun this cell to show the HTML representation or trust the notebook. <br />On GitHub, the HTML representation is unable to render, please try loading this page with nbviewer.org.</b></div><div class=\"sk-container\" hidden><div class=\"sk-item\"><div class=\"sk-estimator sk-toggleable\"><input class=\"sk-toggleable__control sk-hidden--visually\" id=\"sk-estimator-id-1\" type=\"checkbox\" checked><label for=\"sk-estimator-id-1\" class=\"sk-toggleable__label sk-toggleable__label-arrow\">GradientBoostingClassifier</label><div class=\"sk-toggleable__content\"><pre>GradientBoostingClassifier(random_state=10)</pre></div></div></div></div></div>"
            ]
          },
          "metadata": {},
          "execution_count": 22
        }
      ]
    },
    {
      "cell_type": "markdown",
      "source": [
        "**9. Referências bibliográficas.**"
      ],
      "metadata": {
        "id": "IM8E9ifi3aAn"
      }
    },
    {
      "cell_type": "markdown",
      "source": [
        "Diabetes Mellitus - Biblioteca Virtual em Saúde. https://bvsms.saude.gov.br. Disponível em: https://bvsms.saude.gov.br/bvs/publicacoes/diabetes_mellitus.PDF. Acesso em 15 de julho de 2023.\n",
        "\n",
        "Diabetes Mellitus. https://www.saude.pr.gov.br. Disponível em: https://www.saude.pr.gov.br/Pagina/Diabetes-diabetes-mellitus#:~:text=A%20glicemia%20alta%20reduz%20a,c%C3%A9lulas%2C%20principalmente%20as%20dos%20neur%C3%B4nios.&text=Pessoas%20com%20diabetes%20podem%20apresentar,e%2Fou%20circula%C3%A7%C3%A3o%20sangu%C3%ADnea%20deficiente. Acesso em 15 de julho de 2023.\n",
        "\n",
        "Diabetes: O que é, Tipos, Sintomas, Como cuidar e mais. https://www.hermespardini.com.br. Disponível em: https://www.hermespardini.com.br/blog/?p=111#:~:text=O%20diabetes%20%C3%A9%20uma%20doen%C3%A7a,altera%C3%A7%C3%A3o%20na%20taxa%20de%20glicemia. Acesso em 15 de julho de 2023."
      ],
      "metadata": {
        "id": "YkZykkAx3gJ_"
      }
    }
  ]
}