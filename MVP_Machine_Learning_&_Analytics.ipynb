{
  "nbformat": 4,
  "nbformat_minor": 0,
  "metadata": {
    "colab": {
      "provenance": [],
      "authorship_tag": "ABX9TyM6YDmj9cthT8zD6X/iV7/C",
      "include_colab_link": true
    },
    "kernelspec": {
      "name": "python3",
      "display_name": "Python 3"
    },
    "language_info": {
      "name": "python"
    }
  },
  "cells": [
    {
      "cell_type": "markdown",
      "metadata": {
        "id": "view-in-github",
        "colab_type": "text"
      },
      "source": [
        "<a href=\"https://colab.research.google.com/github/PedroHudson/PUC_MVP2/blob/main/MVP_Machine_Learning_%26_Analytics.ipynb\" target=\"_parent\"><img src=\"https://colab.research.google.com/assets/colab-badge.svg\" alt=\"Open In Colab\"/></a>"
      ]
    },
    {
      "cell_type": "markdown",
      "source": [
        "**MVP - Machine Learning & Analytics**\n",
        "\n",
        "Este projeto visa treinar dois modelos de Machine Learning, um modelo utilizando os métodos clássicos para um problema de classificação (Projeto A), e outro utilizando Deep Learning para um processamento de linguagem natural (Projeto B)."
      ],
      "metadata": {
        "id": "UmHETL_W42it"
      }
    },
    {
      "cell_type": "markdown",
      "source": [
        "**Projeto A**"
      ],
      "metadata": {
        "id": "lTsBjwwDgGpR"
      }
    },
    {
      "cell_type": "markdown",
      "source": [
        "**1. Definição do Problema:**\n",
        "\n",
        "Para a elaboração desse projeto abordaremos um problema de saúde muito comum e de incidência mundial crescente, o Diabetes.\n",
        "\n",
        "Trata-se de uma síndrome metabólica de origem múltipla, decorrente da incapacidade do pâncreas produzir o hormônio insulina. O papel desse hormônio no nosso organismo é reduzir a glicemia, permitindo que o açucar que está presente no sangue possa penetrar dentro das células, para ser utilizado como fonte de energia. A falta de insulina ocasiona altas taxa de açúcar no sangue (hiperglicemia) de forma permanente podendo gerar probemas renais, oftalmológicos e neuropáticos.\n",
        "\n",
        "O Diabetes é considerado hoje uma epidemia mundial, sendo o combate a essa enfermidade um grande desafio para os sistemas de saúde de todo o mundo. O envelhecimento da população, a urbanização crescente e a adoção de estilos de vida pouco saudáveis como sedentarismo, dieta inadequada e obesidade são os grandes responsáveis pelo aumento da incidência e prevalência do diabetes em todo o mundo.\n",
        "\n",
        "Segundo estimativas da Organização Mundial de Saúde, o número de portadores da doença em todo o mundo era de 177 milhões em 2000, com expectativa\n",
        "de alcançar 350 milhões de pessoas em 2025.\n",
        "\n",
        "As consequências humanas, sociais e econômicas da doença são devastadoras em nossa sociedade: são em torno de 4 milhões de mortes por ano relativas ao diabetes e suas complicações (com muitas ocorrências prematuras), o que representa 9% da mortalidade mundial total. O grande impacto econômico ocorre notadamente nos serviços de saúde, como consequência dos crescentes custos do tratamento da doença e, sobretudo das complicações, como a doença cardiovascular, a diálise por insuficiência renal crônica e as cirurgias para amputações de membros inferiores.\n",
        "\n",
        "Os portadores da enfermidade tem expectativa de vida reduzida em média em 15 anos para o diabetes tipo 1 e em 5 a 7 anos na do tipo 2. Os adultos com diabetes têm risco 2 a 4 vezes maior de doença cardiovascular e acidente vascular cerebral. Diabetes é a causa mais comum de amputações de membros inferiores não traumática, cegueira irreversível e doença renal crônica terminal. Em mulheres, é responsável por maior número de partos prematuros e mortalidade materna.\n",
        "\n",
        "Em um primeiro momento, iremos analisar e identificar quais são os principais fatores para a incidência do Diabates. Posteriormente criaremos modelos de aprendizado de máquina para prever diabetes nos pacientes tomando como base os dados históricos do dataset, possibilitando a identificação de pacientes que podem estar em risco de desenvolver a doença.\n",
        "\n",
        "Para isso, utilizaremos um dataset disponibilizado no Kaggle contendo uma coleção de dados médicos de pacientes, juntamente com seu status de diabetes (positivo ou negativo). Os dados incluem características como idade, sexo, índice de massa corporal (IMC), hipertensão, doenças cardíacas, histórico de tabagismo, nível de HbA1c e nível de glicose no sangue.\n",
        "\n",
        "Portanto, esse projeto de Machine Learning trata de um problema de classificação.\n",
        "\n",
        "**É importante informar que o dataset utilizado é diferente do apresentado nas aulas de Machine Learning, segue o link do dataset**: https://www.kaggle.com/datasets/717451f4573e9c3d8963e626808ade67a89fbd2ee660be008c1aba16b2a2345a.\n"
      ],
      "metadata": {
        "id": "3TqIz7N0fsOG"
      }
    },
    {
      "cell_type": "markdown",
      "source": [
        "**2. Importação das Bibliotecas e Configurações.**"
      ],
      "metadata": {
        "id": "Lm1q_c115_Nm"
      }
    },
    {
      "cell_type": "code",
      "source": [
        "# Configuração para não exibir Warnings\n",
        "import warnings\n",
        "warnings.filterwarnings('ignore')\n",
        "\n",
        "# Importação do Pandas\n",
        "import pandas as pd\n",
        "\n",
        "# Importação do Numpy\n",
        "import numpy as np\n",
        "\n",
        "# Importação do Seaborn\n",
        "import seaborn as sns\n",
        "\n",
        "# Importação do Pyplot\n",
        "import matplotlib.pyplot as plt\n",
        "\n",
        "# Importações dos modelos e configurações para treinamento do modelo, criação de pipelines, ensembles e para a apuração do resultado\n",
        "from sklearn.model_selection import train_test_split\n",
        "from sklearn.model_selection import KFold\n",
        "from sklearn.model_selection import StratifiedKFold\n",
        "from sklearn.model_selection import cross_val_score\n",
        "from sklearn.model_selection import GridSearchCV\n",
        "from sklearn.metrics import accuracy_score\n",
        "from sklearn.pipeline import Pipeline\n",
        "from sklearn.linear_model import LogisticRegression\n",
        "from sklearn.tree import DecisionTreeClassifier\n",
        "from sklearn.neighbors import KNeighborsClassifier\n",
        "from sklearn.naive_bayes import GaussianNB\n",
        "from sklearn.svm import SVC\n",
        "from sklearn.ensemble import BaggingClassifier\n",
        "from sklearn.ensemble import RandomForestClassifier\n",
        "from sklearn.ensemble import ExtraTreesClassifier\n",
        "from sklearn.ensemble import VotingClassifier\n",
        "from sklearn.ensemble import AdaBoostClassifier\n",
        "from sklearn.ensemble import GradientBoostingClassifier\n",
        "\n",
        "# Importações para Feature Selection\n",
        "from sklearn.feature_selection import SelectKBest\n",
        "from sklearn.feature_selection import f_classif\n",
        "\n",
        "# Transformações Númericas\n",
        "\n",
        "# Normalização\n",
        "from sklearn.preprocessing import MinMaxScaler\n",
        "\n",
        "# Padronização\n",
        "from sklearn.preprocessing import StandardScaler"
      ],
      "metadata": {
        "id": "cvqxcu-K6k37"
      },
      "execution_count": 1,
      "outputs": []
    },
    {
      "cell_type": "markdown",
      "source": [
        "**3. Importação do Dataset.**"
      ],
      "metadata": {
        "id": "NVlLlowL_aG0"
      }
    },
    {
      "cell_type": "code",
      "source": [
        "# Importando dados da url para um dataframe\n",
        "\n",
        "# url a importar\n",
        "url_dados = 'https://github.com/PedroHudson/diabetes/blob/main/diabetes.csv?raw=true'\n",
        "\n",
        "# carga do dataset através da url\n",
        "dataset = pd.read_csv(url_dados, sep=',')"
      ],
      "metadata": {
        "id": "b3-hOSp3_cVM"
      },
      "execution_count": 2,
      "outputs": []
    },
    {
      "cell_type": "markdown",
      "source": [
        "**4. Análise Exploratória - Primeiras Visualizações e Análises.**"
      ],
      "metadata": {
        "id": "ABn71qWB_6Rd"
      }
    },
    {
      "cell_type": "code",
      "source": [
        "# Visualização da quantidade de instâncias e atributos do dataset\n",
        "dataset.shape"
      ],
      "metadata": {
        "colab": {
          "base_uri": "https://localhost:8080/"
        },
        "id": "2_AeWhPQ_9mu",
        "outputId": "4191a005-ec72-41a8-e089-ada9a089eb16"
      },
      "execution_count": 3,
      "outputs": [
        {
          "output_type": "execute_result",
          "data": {
            "text/plain": [
              "(100000, 9)"
            ]
          },
          "metadata": {},
          "execution_count": 3
        }
      ]
    },
    {
      "cell_type": "markdown",
      "source": [
        "*Nessa primeira análise verificamos que o dataset tem 9 atributos e 1000 instâncias.*"
      ],
      "metadata": {
        "id": "EeXqLfybioD2"
      }
    },
    {
      "cell_type": "code",
      "source": [
        "# Visualização da quantidade de linhas por coluna\n",
        "dataset.count()"
      ],
      "metadata": {
        "colab": {
          "base_uri": "https://localhost:8080/"
        },
        "id": "A9bXl3lpApkg",
        "outputId": "8c983b39-0e6c-43ab-aab7-e52408c099cc"
      },
      "execution_count": 4,
      "outputs": [
        {
          "output_type": "execute_result",
          "data": {
            "text/plain": [
              "gender                 100000\n",
              "age                    100000\n",
              "hypertension           100000\n",
              "heart_disease          100000\n",
              "smoking_history        100000\n",
              "bmi                    100000\n",
              "HbA1c_level            100000\n",
              "blood_glucose_level    100000\n",
              "diabetes               100000\n",
              "dtype: int64"
            ]
          },
          "metadata": {},
          "execution_count": 4
        }
      ]
    },
    {
      "cell_type": "markdown",
      "source": [
        "*Todas os atributos possuem a mesma quantidade de instâncias.*"
      ],
      "metadata": {
        "id": "8JgfODlQi5dG"
      }
    },
    {
      "cell_type": "code",
      "source": [
        "# Visualização dos tipos de dados\n",
        "dataset.dtypes"
      ],
      "metadata": {
        "colab": {
          "base_uri": "https://localhost:8080/"
        },
        "id": "3jCxfMUbAuK0",
        "outputId": "fbba039b-9863-4796-e4a7-05ecdb69aa95"
      },
      "execution_count": 5,
      "outputs": [
        {
          "output_type": "execute_result",
          "data": {
            "text/plain": [
              "gender                  object\n",
              "age                    float64\n",
              "hypertension             int64\n",
              "heart_disease            int64\n",
              "smoking_history         object\n",
              "bmi                    float64\n",
              "HbA1c_level            float64\n",
              "blood_glucose_level      int64\n",
              "diabetes                 int64\n",
              "dtype: object"
            ]
          },
          "metadata": {},
          "execution_count": 5
        }
      ]
    },
    {
      "cell_type": "markdown",
      "source": [
        "*A visualização dos tipos de dados nos permite verificar que os atributos \"gender\" e \"smoking_history\" são do tipo object.*"
      ],
      "metadata": {
        "id": "0wd-5KDvjDQq"
      }
    },
    {
      "cell_type": "code",
      "source": [
        "# Visualização das primeiras linhas do dataframe\n",
        "dataset.head()"
      ],
      "metadata": {
        "colab": {
          "base_uri": "https://localhost:8080/",
          "height": 206
        },
        "id": "b5yhc0dQAxgI",
        "outputId": "c406a4e9-14a3-48e8-83ac-f38547c7aeff"
      },
      "execution_count": 6,
      "outputs": [
        {
          "output_type": "execute_result",
          "data": {
            "text/plain": [
              "   gender   age  hypertension  heart_disease smoking_history    bmi  \\\n",
              "0  Female  80.0             0              1           never  25.19   \n",
              "1  Female  54.0             0              0         No Info  27.32   \n",
              "2    Male  28.0             0              0           never  27.32   \n",
              "3  Female  36.0             0              0         current  23.45   \n",
              "4    Male  76.0             1              1         current  20.14   \n",
              "\n",
              "   HbA1c_level  blood_glucose_level  diabetes  \n",
              "0          6.6                  140         0  \n",
              "1          6.6                   80         0  \n",
              "2          5.7                  158         0  \n",
              "3          5.0                  155         0  \n",
              "4          4.8                  155         0  "
            ],
            "text/html": [
              "\n",
              "\n",
              "  <div id=\"df-da451d42-5e49-4c07-acf6-0d254b990876\">\n",
              "    <div class=\"colab-df-container\">\n",
              "      <div>\n",
              "<style scoped>\n",
              "    .dataframe tbody tr th:only-of-type {\n",
              "        vertical-align: middle;\n",
              "    }\n",
              "\n",
              "    .dataframe tbody tr th {\n",
              "        vertical-align: top;\n",
              "    }\n",
              "\n",
              "    .dataframe thead th {\n",
              "        text-align: right;\n",
              "    }\n",
              "</style>\n",
              "<table border=\"1\" class=\"dataframe\">\n",
              "  <thead>\n",
              "    <tr style=\"text-align: right;\">\n",
              "      <th></th>\n",
              "      <th>gender</th>\n",
              "      <th>age</th>\n",
              "      <th>hypertension</th>\n",
              "      <th>heart_disease</th>\n",
              "      <th>smoking_history</th>\n",
              "      <th>bmi</th>\n",
              "      <th>HbA1c_level</th>\n",
              "      <th>blood_glucose_level</th>\n",
              "      <th>diabetes</th>\n",
              "    </tr>\n",
              "  </thead>\n",
              "  <tbody>\n",
              "    <tr>\n",
              "      <th>0</th>\n",
              "      <td>Female</td>\n",
              "      <td>80.0</td>\n",
              "      <td>0</td>\n",
              "      <td>1</td>\n",
              "      <td>never</td>\n",
              "      <td>25.19</td>\n",
              "      <td>6.6</td>\n",
              "      <td>140</td>\n",
              "      <td>0</td>\n",
              "    </tr>\n",
              "    <tr>\n",
              "      <th>1</th>\n",
              "      <td>Female</td>\n",
              "      <td>54.0</td>\n",
              "      <td>0</td>\n",
              "      <td>0</td>\n",
              "      <td>No Info</td>\n",
              "      <td>27.32</td>\n",
              "      <td>6.6</td>\n",
              "      <td>80</td>\n",
              "      <td>0</td>\n",
              "    </tr>\n",
              "    <tr>\n",
              "      <th>2</th>\n",
              "      <td>Male</td>\n",
              "      <td>28.0</td>\n",
              "      <td>0</td>\n",
              "      <td>0</td>\n",
              "      <td>never</td>\n",
              "      <td>27.32</td>\n",
              "      <td>5.7</td>\n",
              "      <td>158</td>\n",
              "      <td>0</td>\n",
              "    </tr>\n",
              "    <tr>\n",
              "      <th>3</th>\n",
              "      <td>Female</td>\n",
              "      <td>36.0</td>\n",
              "      <td>0</td>\n",
              "      <td>0</td>\n",
              "      <td>current</td>\n",
              "      <td>23.45</td>\n",
              "      <td>5.0</td>\n",
              "      <td>155</td>\n",
              "      <td>0</td>\n",
              "    </tr>\n",
              "    <tr>\n",
              "      <th>4</th>\n",
              "      <td>Male</td>\n",
              "      <td>76.0</td>\n",
              "      <td>1</td>\n",
              "      <td>1</td>\n",
              "      <td>current</td>\n",
              "      <td>20.14</td>\n",
              "      <td>4.8</td>\n",
              "      <td>155</td>\n",
              "      <td>0</td>\n",
              "    </tr>\n",
              "  </tbody>\n",
              "</table>\n",
              "</div>\n",
              "      <button class=\"colab-df-convert\" onclick=\"convertToInteractive('df-da451d42-5e49-4c07-acf6-0d254b990876')\"\n",
              "              title=\"Convert this dataframe to an interactive table.\"\n",
              "              style=\"display:none;\">\n",
              "\n",
              "  <svg xmlns=\"http://www.w3.org/2000/svg\" height=\"24px\"viewBox=\"0 0 24 24\"\n",
              "       width=\"24px\">\n",
              "    <path d=\"M0 0h24v24H0V0z\" fill=\"none\"/>\n",
              "    <path d=\"M18.56 5.44l.94 2.06.94-2.06 2.06-.94-2.06-.94-.94-2.06-.94 2.06-2.06.94zm-11 1L8.5 8.5l.94-2.06 2.06-.94-2.06-.94L8.5 2.5l-.94 2.06-2.06.94zm10 10l.94 2.06.94-2.06 2.06-.94-2.06-.94-.94-2.06-.94 2.06-2.06.94z\"/><path d=\"M17.41 7.96l-1.37-1.37c-.4-.4-.92-.59-1.43-.59-.52 0-1.04.2-1.43.59L10.3 9.45l-7.72 7.72c-.78.78-.78 2.05 0 2.83L4 21.41c.39.39.9.59 1.41.59.51 0 1.02-.2 1.41-.59l7.78-7.78 2.81-2.81c.8-.78.8-2.07 0-2.86zM5.41 20L4 18.59l7.72-7.72 1.47 1.35L5.41 20z\"/>\n",
              "  </svg>\n",
              "      </button>\n",
              "\n",
              "\n",
              "\n",
              "    <div id=\"df-b7e8df77-d534-4e36-bd09-04331a1ca4b7\">\n",
              "      <button class=\"colab-df-quickchart\" onclick=\"quickchart('df-b7e8df77-d534-4e36-bd09-04331a1ca4b7')\"\n",
              "              title=\"Suggest charts.\"\n",
              "              style=\"display:none;\">\n",
              "\n",
              "<svg xmlns=\"http://www.w3.org/2000/svg\" height=\"24px\"viewBox=\"0 0 24 24\"\n",
              "     width=\"24px\">\n",
              "    <g>\n",
              "        <path d=\"M19 3H5c-1.1 0-2 .9-2 2v14c0 1.1.9 2 2 2h14c1.1 0 2-.9 2-2V5c0-1.1-.9-2-2-2zM9 17H7v-7h2v7zm4 0h-2V7h2v10zm4 0h-2v-4h2v4z\"/>\n",
              "    </g>\n",
              "</svg>\n",
              "      </button>\n",
              "    </div>\n",
              "\n",
              "<style>\n",
              "  .colab-df-quickchart {\n",
              "    background-color: #E8F0FE;\n",
              "    border: none;\n",
              "    border-radius: 50%;\n",
              "    cursor: pointer;\n",
              "    display: none;\n",
              "    fill: #1967D2;\n",
              "    height: 32px;\n",
              "    padding: 0 0 0 0;\n",
              "    width: 32px;\n",
              "  }\n",
              "\n",
              "  .colab-df-quickchart:hover {\n",
              "    background-color: #E2EBFA;\n",
              "    box-shadow: 0px 1px 2px rgba(60, 64, 67, 0.3), 0px 1px 3px 1px rgba(60, 64, 67, 0.15);\n",
              "    fill: #174EA6;\n",
              "  }\n",
              "\n",
              "  [theme=dark] .colab-df-quickchart {\n",
              "    background-color: #3B4455;\n",
              "    fill: #D2E3FC;\n",
              "  }\n",
              "\n",
              "  [theme=dark] .colab-df-quickchart:hover {\n",
              "    background-color: #434B5C;\n",
              "    box-shadow: 0px 1px 3px 1px rgba(0, 0, 0, 0.15);\n",
              "    filter: drop-shadow(0px 1px 2px rgba(0, 0, 0, 0.3));\n",
              "    fill: #FFFFFF;\n",
              "  }\n",
              "</style>\n",
              "\n",
              "    <script>\n",
              "      async function quickchart(key) {\n",
              "        const containerElement = document.querySelector('#' + key);\n",
              "        const charts = await google.colab.kernel.invokeFunction(\n",
              "            'suggestCharts', [key], {});\n",
              "      }\n",
              "    </script>\n",
              "\n",
              "      <script>\n",
              "\n",
              "function displayQuickchartButton(domScope) {\n",
              "  let quickchartButtonEl =\n",
              "    domScope.querySelector('#df-b7e8df77-d534-4e36-bd09-04331a1ca4b7 button.colab-df-quickchart');\n",
              "  quickchartButtonEl.style.display =\n",
              "    google.colab.kernel.accessAllowed ? 'block' : 'none';\n",
              "}\n",
              "\n",
              "        displayQuickchartButton(document);\n",
              "      </script>\n",
              "      <style>\n",
              "    .colab-df-container {\n",
              "      display:flex;\n",
              "      flex-wrap:wrap;\n",
              "      gap: 12px;\n",
              "    }\n",
              "\n",
              "    .colab-df-convert {\n",
              "      background-color: #E8F0FE;\n",
              "      border: none;\n",
              "      border-radius: 50%;\n",
              "      cursor: pointer;\n",
              "      display: none;\n",
              "      fill: #1967D2;\n",
              "      height: 32px;\n",
              "      padding: 0 0 0 0;\n",
              "      width: 32px;\n",
              "    }\n",
              "\n",
              "    .colab-df-convert:hover {\n",
              "      background-color: #E2EBFA;\n",
              "      box-shadow: 0px 1px 2px rgba(60, 64, 67, 0.3), 0px 1px 3px 1px rgba(60, 64, 67, 0.15);\n",
              "      fill: #174EA6;\n",
              "    }\n",
              "\n",
              "    [theme=dark] .colab-df-convert {\n",
              "      background-color: #3B4455;\n",
              "      fill: #D2E3FC;\n",
              "    }\n",
              "\n",
              "    [theme=dark] .colab-df-convert:hover {\n",
              "      background-color: #434B5C;\n",
              "      box-shadow: 0px 1px 3px 1px rgba(0, 0, 0, 0.15);\n",
              "      filter: drop-shadow(0px 1px 2px rgba(0, 0, 0, 0.3));\n",
              "      fill: #FFFFFF;\n",
              "    }\n",
              "  </style>\n",
              "\n",
              "      <script>\n",
              "        const buttonEl =\n",
              "          document.querySelector('#df-da451d42-5e49-4c07-acf6-0d254b990876 button.colab-df-convert');\n",
              "        buttonEl.style.display =\n",
              "          google.colab.kernel.accessAllowed ? 'block' : 'none';\n",
              "\n",
              "        async function convertToInteractive(key) {\n",
              "          const element = document.querySelector('#df-da451d42-5e49-4c07-acf6-0d254b990876');\n",
              "          const dataTable =\n",
              "            await google.colab.kernel.invokeFunction('convertToInteractive',\n",
              "                                                     [key], {});\n",
              "          if (!dataTable) return;\n",
              "\n",
              "          const docLinkHtml = 'Like what you see? Visit the ' +\n",
              "            '<a target=\"_blank\" href=https://colab.research.google.com/notebooks/data_table.ipynb>data table notebook</a>'\n",
              "            + ' to learn more about interactive tables.';\n",
              "          element.innerHTML = '';\n",
              "          dataTable['output_type'] = 'display_data';\n",
              "          await google.colab.output.renderOutput(dataTable, element);\n",
              "          const docLink = document.createElement('div');\n",
              "          docLink.innerHTML = docLinkHtml;\n",
              "          element.appendChild(docLink);\n",
              "        }\n",
              "      </script>\n",
              "    </div>\n",
              "  </div>\n"
            ]
          },
          "metadata": {},
          "execution_count": 6
        }
      ]
    },
    {
      "cell_type": "code",
      "source": [
        "# Visualização das últimas linhas do dataframe\n",
        "dataset.tail()"
      ],
      "metadata": {
        "colab": {
          "base_uri": "https://localhost:8080/",
          "height": 206
        },
        "id": "Ko2kKSRnA0hp",
        "outputId": "8ecaddc6-b2bf-42b9-cf53-79bc9f97c98a"
      },
      "execution_count": 7,
      "outputs": [
        {
          "output_type": "execute_result",
          "data": {
            "text/plain": [
              "       gender   age  hypertension  heart_disease smoking_history    bmi  \\\n",
              "99995  Female  80.0             0              0         No Info  27.32   \n",
              "99996  Female   2.0             0              0         No Info  17.37   \n",
              "99997    Male  66.0             0              0          former  27.83   \n",
              "99998  Female  24.0             0              0           never  35.42   \n",
              "99999  Female  57.0             0              0         current  22.43   \n",
              "\n",
              "       HbA1c_level  blood_glucose_level  diabetes  \n",
              "99995          6.2                   90         0  \n",
              "99996          6.5                  100         0  \n",
              "99997          5.7                  155         0  \n",
              "99998          4.0                  100         0  \n",
              "99999          6.6                   90         0  "
            ],
            "text/html": [
              "\n",
              "\n",
              "  <div id=\"df-50bc5f82-8fc1-464c-9c92-80b282fb465e\">\n",
              "    <div class=\"colab-df-container\">\n",
              "      <div>\n",
              "<style scoped>\n",
              "    .dataframe tbody tr th:only-of-type {\n",
              "        vertical-align: middle;\n",
              "    }\n",
              "\n",
              "    .dataframe tbody tr th {\n",
              "        vertical-align: top;\n",
              "    }\n",
              "\n",
              "    .dataframe thead th {\n",
              "        text-align: right;\n",
              "    }\n",
              "</style>\n",
              "<table border=\"1\" class=\"dataframe\">\n",
              "  <thead>\n",
              "    <tr style=\"text-align: right;\">\n",
              "      <th></th>\n",
              "      <th>gender</th>\n",
              "      <th>age</th>\n",
              "      <th>hypertension</th>\n",
              "      <th>heart_disease</th>\n",
              "      <th>smoking_history</th>\n",
              "      <th>bmi</th>\n",
              "      <th>HbA1c_level</th>\n",
              "      <th>blood_glucose_level</th>\n",
              "      <th>diabetes</th>\n",
              "    </tr>\n",
              "  </thead>\n",
              "  <tbody>\n",
              "    <tr>\n",
              "      <th>99995</th>\n",
              "      <td>Female</td>\n",
              "      <td>80.0</td>\n",
              "      <td>0</td>\n",
              "      <td>0</td>\n",
              "      <td>No Info</td>\n",
              "      <td>27.32</td>\n",
              "      <td>6.2</td>\n",
              "      <td>90</td>\n",
              "      <td>0</td>\n",
              "    </tr>\n",
              "    <tr>\n",
              "      <th>99996</th>\n",
              "      <td>Female</td>\n",
              "      <td>2.0</td>\n",
              "      <td>0</td>\n",
              "      <td>0</td>\n",
              "      <td>No Info</td>\n",
              "      <td>17.37</td>\n",
              "      <td>6.5</td>\n",
              "      <td>100</td>\n",
              "      <td>0</td>\n",
              "    </tr>\n",
              "    <tr>\n",
              "      <th>99997</th>\n",
              "      <td>Male</td>\n",
              "      <td>66.0</td>\n",
              "      <td>0</td>\n",
              "      <td>0</td>\n",
              "      <td>former</td>\n",
              "      <td>27.83</td>\n",
              "      <td>5.7</td>\n",
              "      <td>155</td>\n",
              "      <td>0</td>\n",
              "    </tr>\n",
              "    <tr>\n",
              "      <th>99998</th>\n",
              "      <td>Female</td>\n",
              "      <td>24.0</td>\n",
              "      <td>0</td>\n",
              "      <td>0</td>\n",
              "      <td>never</td>\n",
              "      <td>35.42</td>\n",
              "      <td>4.0</td>\n",
              "      <td>100</td>\n",
              "      <td>0</td>\n",
              "    </tr>\n",
              "    <tr>\n",
              "      <th>99999</th>\n",
              "      <td>Female</td>\n",
              "      <td>57.0</td>\n",
              "      <td>0</td>\n",
              "      <td>0</td>\n",
              "      <td>current</td>\n",
              "      <td>22.43</td>\n",
              "      <td>6.6</td>\n",
              "      <td>90</td>\n",
              "      <td>0</td>\n",
              "    </tr>\n",
              "  </tbody>\n",
              "</table>\n",
              "</div>\n",
              "      <button class=\"colab-df-convert\" onclick=\"convertToInteractive('df-50bc5f82-8fc1-464c-9c92-80b282fb465e')\"\n",
              "              title=\"Convert this dataframe to an interactive table.\"\n",
              "              style=\"display:none;\">\n",
              "\n",
              "  <svg xmlns=\"http://www.w3.org/2000/svg\" height=\"24px\"viewBox=\"0 0 24 24\"\n",
              "       width=\"24px\">\n",
              "    <path d=\"M0 0h24v24H0V0z\" fill=\"none\"/>\n",
              "    <path d=\"M18.56 5.44l.94 2.06.94-2.06 2.06-.94-2.06-.94-.94-2.06-.94 2.06-2.06.94zm-11 1L8.5 8.5l.94-2.06 2.06-.94-2.06-.94L8.5 2.5l-.94 2.06-2.06.94zm10 10l.94 2.06.94-2.06 2.06-.94-2.06-.94-.94-2.06-.94 2.06-2.06.94z\"/><path d=\"M17.41 7.96l-1.37-1.37c-.4-.4-.92-.59-1.43-.59-.52 0-1.04.2-1.43.59L10.3 9.45l-7.72 7.72c-.78.78-.78 2.05 0 2.83L4 21.41c.39.39.9.59 1.41.59.51 0 1.02-.2 1.41-.59l7.78-7.78 2.81-2.81c.8-.78.8-2.07 0-2.86zM5.41 20L4 18.59l7.72-7.72 1.47 1.35L5.41 20z\"/>\n",
              "  </svg>\n",
              "      </button>\n",
              "\n",
              "\n",
              "\n",
              "    <div id=\"df-793fb798-426d-404b-b81c-00e295b8aea2\">\n",
              "      <button class=\"colab-df-quickchart\" onclick=\"quickchart('df-793fb798-426d-404b-b81c-00e295b8aea2')\"\n",
              "              title=\"Suggest charts.\"\n",
              "              style=\"display:none;\">\n",
              "\n",
              "<svg xmlns=\"http://www.w3.org/2000/svg\" height=\"24px\"viewBox=\"0 0 24 24\"\n",
              "     width=\"24px\">\n",
              "    <g>\n",
              "        <path d=\"M19 3H5c-1.1 0-2 .9-2 2v14c0 1.1.9 2 2 2h14c1.1 0 2-.9 2-2V5c0-1.1-.9-2-2-2zM9 17H7v-7h2v7zm4 0h-2V7h2v10zm4 0h-2v-4h2v4z\"/>\n",
              "    </g>\n",
              "</svg>\n",
              "      </button>\n",
              "    </div>\n",
              "\n",
              "<style>\n",
              "  .colab-df-quickchart {\n",
              "    background-color: #E8F0FE;\n",
              "    border: none;\n",
              "    border-radius: 50%;\n",
              "    cursor: pointer;\n",
              "    display: none;\n",
              "    fill: #1967D2;\n",
              "    height: 32px;\n",
              "    padding: 0 0 0 0;\n",
              "    width: 32px;\n",
              "  }\n",
              "\n",
              "  .colab-df-quickchart:hover {\n",
              "    background-color: #E2EBFA;\n",
              "    box-shadow: 0px 1px 2px rgba(60, 64, 67, 0.3), 0px 1px 3px 1px rgba(60, 64, 67, 0.15);\n",
              "    fill: #174EA6;\n",
              "  }\n",
              "\n",
              "  [theme=dark] .colab-df-quickchart {\n",
              "    background-color: #3B4455;\n",
              "    fill: #D2E3FC;\n",
              "  }\n",
              "\n",
              "  [theme=dark] .colab-df-quickchart:hover {\n",
              "    background-color: #434B5C;\n",
              "    box-shadow: 0px 1px 3px 1px rgba(0, 0, 0, 0.15);\n",
              "    filter: drop-shadow(0px 1px 2px rgba(0, 0, 0, 0.3));\n",
              "    fill: #FFFFFF;\n",
              "  }\n",
              "</style>\n",
              "\n",
              "    <script>\n",
              "      async function quickchart(key) {\n",
              "        const containerElement = document.querySelector('#' + key);\n",
              "        const charts = await google.colab.kernel.invokeFunction(\n",
              "            'suggestCharts', [key], {});\n",
              "      }\n",
              "    </script>\n",
              "\n",
              "      <script>\n",
              "\n",
              "function displayQuickchartButton(domScope) {\n",
              "  let quickchartButtonEl =\n",
              "    domScope.querySelector('#df-793fb798-426d-404b-b81c-00e295b8aea2 button.colab-df-quickchart');\n",
              "  quickchartButtonEl.style.display =\n",
              "    google.colab.kernel.accessAllowed ? 'block' : 'none';\n",
              "}\n",
              "\n",
              "        displayQuickchartButton(document);\n",
              "      </script>\n",
              "      <style>\n",
              "    .colab-df-container {\n",
              "      display:flex;\n",
              "      flex-wrap:wrap;\n",
              "      gap: 12px;\n",
              "    }\n",
              "\n",
              "    .colab-df-convert {\n",
              "      background-color: #E8F0FE;\n",
              "      border: none;\n",
              "      border-radius: 50%;\n",
              "      cursor: pointer;\n",
              "      display: none;\n",
              "      fill: #1967D2;\n",
              "      height: 32px;\n",
              "      padding: 0 0 0 0;\n",
              "      width: 32px;\n",
              "    }\n",
              "\n",
              "    .colab-df-convert:hover {\n",
              "      background-color: #E2EBFA;\n",
              "      box-shadow: 0px 1px 2px rgba(60, 64, 67, 0.3), 0px 1px 3px 1px rgba(60, 64, 67, 0.15);\n",
              "      fill: #174EA6;\n",
              "    }\n",
              "\n",
              "    [theme=dark] .colab-df-convert {\n",
              "      background-color: #3B4455;\n",
              "      fill: #D2E3FC;\n",
              "    }\n",
              "\n",
              "    [theme=dark] .colab-df-convert:hover {\n",
              "      background-color: #434B5C;\n",
              "      box-shadow: 0px 1px 3px 1px rgba(0, 0, 0, 0.15);\n",
              "      filter: drop-shadow(0px 1px 2px rgba(0, 0, 0, 0.3));\n",
              "      fill: #FFFFFF;\n",
              "    }\n",
              "  </style>\n",
              "\n",
              "      <script>\n",
              "        const buttonEl =\n",
              "          document.querySelector('#df-50bc5f82-8fc1-464c-9c92-80b282fb465e button.colab-df-convert');\n",
              "        buttonEl.style.display =\n",
              "          google.colab.kernel.accessAllowed ? 'block' : 'none';\n",
              "\n",
              "        async function convertToInteractive(key) {\n",
              "          const element = document.querySelector('#df-50bc5f82-8fc1-464c-9c92-80b282fb465e');\n",
              "          const dataTable =\n",
              "            await google.colab.kernel.invokeFunction('convertToInteractive',\n",
              "                                                     [key], {});\n",
              "          if (!dataTable) return;\n",
              "\n",
              "          const docLinkHtml = 'Like what you see? Visit the ' +\n",
              "            '<a target=\"_blank\" href=https://colab.research.google.com/notebooks/data_table.ipynb>data table notebook</a>'\n",
              "            + ' to learn more about interactive tables.';\n",
              "          element.innerHTML = '';\n",
              "          dataTable['output_type'] = 'display_data';\n",
              "          await google.colab.output.renderOutput(dataTable, element);\n",
              "          const docLink = document.createElement('div');\n",
              "          docLink.innerHTML = docLinkHtml;\n",
              "          element.appendChild(docLink);\n",
              "        }\n",
              "      </script>\n",
              "    </div>\n",
              "  </div>\n"
            ]
          },
          "metadata": {},
          "execution_count": 7
        }
      ]
    },
    {
      "cell_type": "code",
      "source": [
        "# Visualiação da distribuição dos dados da coluna Diabetes\n",
        "dataset_distrib = dataset['diabetes'].value_counts()/len(dataset)\n",
        "dataset_distrib"
      ],
      "metadata": {
        "colab": {
          "base_uri": "https://localhost:8080/"
        },
        "id": "iLTq0f6fBFI4",
        "outputId": "ed9fa20f-9bcd-46d5-cc39-92da91020d44"
      },
      "execution_count": 8,
      "outputs": [
        {
          "output_type": "execute_result",
          "data": {
            "text/plain": [
              "0    0.915\n",
              "1    0.085\n",
              "Name: diabetes, dtype: float64"
            ]
          },
          "metadata": {},
          "execution_count": 8
        }
      ]
    },
    {
      "cell_type": "markdown",
      "source": [
        "*Verificamos que o dataset está desbalanceado, tendo a grande maioria das instâncias o status não diabetes.*"
      ],
      "metadata": {
        "id": "uAk-aakDjlaz"
      }
    },
    {
      "cell_type": "code",
      "source": [
        "# Plotando gráfico de pizza para a visualização da distribuição\n",
        "plt.pie(dataset_distrib, labels = ['Não Diabético', 'Diabético'],\n",
        "       autopct = '%1.1f%%')\n",
        "plt.title(\"Distribuição de Diabéticos no Dataset\")\n",
        "plt.show()"
      ],
      "metadata": {
        "colab": {
          "base_uri": "https://localhost:8080/",
          "height": 429
        },
        "id": "90HfJfFYBSUd",
        "outputId": "399c46a7-e618-4805-8a61-f0358816cc96"
      },
      "execution_count": 9,
      "outputs": [
        {
          "output_type": "display_data",
          "data": {
            "text/plain": [
              "<Figure size 640x480 with 1 Axes>"
            ],
            "image/png": "[encoded data removed]"
          },
          "metadata": {}
        }
      ]
    },
    {
      "cell_type": "markdown",
      "source": [
        "**5. Pré-processamento: (a) Balanceamento do Dataset; (b) Visualizações dos Dados Balanceados; (c) Primeira Seleção dos Atributos, Criação do novo Dataset; (d) Divisão do Dataset em Conjuntos de Treino e Teste; (e) Análise dos Atributos com SelectKBest; (f) Criação do Dataset Final.**"
      ],
      "metadata": {
        "id": "7bGhjBqoFA4x"
      }
    },
    {
      "cell_type": "markdown",
      "source": [
        "**(a) Balanceamento do Dataset.**"
      ],
      "metadata": {
        "id": "ZEXDJwUPIloE"
      }
    },
    {
      "cell_type": "code",
      "source": [
        "# Balanceamento do dataset\n",
        "neg_diab = dataset[dataset['diabetes']==0].sample(8500)\n",
        "pos_diab = dataset[dataset['diabetes']==1]\n",
        "dataset_balanceado = pd.concat([neg_diab,pos_diab],axis=0)"
      ],
      "metadata": {
        "id": "4Wz_HEjfCMIF"
      },
      "execution_count": 10,
      "outputs": []
    },
    {
      "cell_type": "markdown",
      "source": [
        "*Visando obter um melhor resultado e evitar o overfitting, realizamos um balanceamento do dataset.*"
      ],
      "metadata": {
        "id": "UrDlFEG3kQpt"
      }
    },
    {
      "cell_type": "markdown",
      "source": [
        "**(b) Visualizações dos Dados Balanceados.**"
      ],
      "metadata": {
        "id": "zcRnjDrHIrCc"
      }
    },
    {
      "cell_type": "code",
      "source": [
        "# Visualização da distribuição dos dados da coluna Diabetes após o balanceamento\n",
        "dataset_dist = dataset_balanceado['diabetes'].value_counts()/len(dataset)\n",
        "dataset_dist"
      ],
      "metadata": {
        "colab": {
          "base_uri": "https://localhost:8080/"
        },
        "id": "ehCabs0KCbW-",
        "outputId": "d9ff58b2-876c-4e3b-989e-ebb72c382180"
      },
      "execution_count": 11,
      "outputs": [
        {
          "output_type": "execute_result",
          "data": {
            "text/plain": [
              "0    0.085\n",
              "1    0.085\n",
              "Name: diabetes, dtype: float64"
            ]
          },
          "metadata": {},
          "execution_count": 11
        }
      ]
    },
    {
      "cell_type": "markdown",
      "source": [
        "*Com o tratamento realizado o dataset agora possui a mesma quantidade de instâncias para os dois resultados da coluna.*"
      ],
      "metadata": {
        "id": "y6hO0ANtkulv"
      }
    },
    {
      "cell_type": "code",
      "source": [
        "# Plotando gráfico de pizza para a visualização da nova distribuição\n",
        "plt.pie(dataset_dist, labels = ['Não Diabético', 'Diabético'],\n",
        "       autopct = '%1.1f%%')\n",
        "plt.title(\"Distribuição de Diabéticos no Dataset\")\n",
        "plt.show()"
      ],
      "metadata": {
        "colab": {
          "base_uri": "https://localhost:8080/",
          "height": 429
        },
        "id": "I2xwy53sCtUX",
        "outputId": "2e3b5461-82e6-49f6-d39b-3a2240e3c881"
      },
      "execution_count": 12,
      "outputs": [
        {
          "output_type": "display_data",
          "data": {
            "text/plain": [
              "<Figure size 640x480 with 1 Axes>"
            ],
            "image/png": "[encoded data removed]"
          },
          "metadata": {}
        }
      ]
    },
    {
      "cell_type": "code",
      "source": [
        "# Grafico de correlação com Seaborn\n",
        "plt.figure(figsize = (15,10))\n",
        "sns.heatmap(dataset_balanceado.corr(), annot=True, cmap= 'RdBu', vmin=-1, vmax=1, linewidths=3,linecolor='white');"
      ],
      "metadata": {
        "colab": {
          "base_uri": "https://localhost:8080/",
          "height": 836
        },
        "id": "jC-hgaeZC7fL",
        "outputId": "d8ed0ba9-b8ea-4c28-9f9e-2f9a0817b932"
      },
      "execution_count": 13,
      "outputs": [
        {
          "output_type": "display_data",
          "data": {
            "text/plain": [
              "<Figure size 1500x1000 with 2 Axes>"
            ],
            "image/png": "[encoded data removed]"
          },
          "metadata": {}
        }
      ]
    },
    {
      "cell_type": "markdown",
      "source": [
        "*Através do Gráfico de Correlação podemos visualizar quais atributos tem uma correlação maior com a coluna Diabetes.*"
      ],
      "metadata": {
        "id": "FcgDfYJVlHsD"
      }
    },
    {
      "cell_type": "markdown",
      "source": [
        "**(c) Primeira Seleção dos Atributos, Criação do novo Dataset.**"
      ],
      "metadata": {
        "id": "WmvQRegxI2m9"
      }
    },
    {
      "cell_type": "code",
      "source": [
        "# Seleção dos atributos para a criação do novo dataframe\n",
        "dataset_novo = dataset_balanceado[['age', 'hypertension', 'heart_disease', 'bmi', 'HbA1c_level', 'blood_glucose_level','diabetes']]"
      ],
      "metadata": {
        "id": "d5QuTsDBG5ok"
      },
      "execution_count": 14,
      "outputs": []
    },
    {
      "cell_type": "markdown",
      "source": [
        "*Diante das informações obtidas através do Gráfico de Correlação, foi criado um novo dataset.*"
      ],
      "metadata": {
        "id": "yZK25QQulXY2"
      }
    },
    {
      "cell_type": "markdown",
      "source": [
        "**(d) Divisão do Dataset em Conjuntos de Treino e Teste.**"
      ],
      "metadata": {
        "id": "xesTNpj5JTOb"
      }
    },
    {
      "cell_type": "code",
      "source": [
        "# Separação em bases de treino e teste (holdout)\n",
        "array = dataset_novo.values\n",
        "X = array[:,0:6]\n",
        "y = array[:,6]"
      ],
      "metadata": {
        "id": "lHj1GUgxHBFM"
      },
      "execution_count": 15,
      "outputs": []
    },
    {
      "cell_type": "markdown",
      "source": [
        "**(e) Análise dos Atributos com SelectKBest.**"
      ],
      "metadata": {
        "id": "Z8ChEBToJdbE"
      }
    },
    {
      "cell_type": "code",
      "source": [
        "# SelectKBest\n",
        "\n",
        "# Seleção de atributos com SelectKBest\n",
        "best_var = SelectKBest(score_func=f_classif, k=4)\n",
        "\n",
        "# Executa a função de pontuação em (X, y) e obtém os atributos selecionados\n",
        "fit = best_var.fit(X, y)\n",
        "\n",
        "# Reduz X para os atributos selecionados\n",
        "features = fit.transform(X)\n",
        "\n",
        "# Resultados\n",
        "print('\\nNúmero original de atributos:', X.shape[1])\n",
        "print('\\nNúmero reduzido de atributos:', features.shape[1])\n",
        "\n",
        "# Exibe os atributos originais\n",
        "print(\"\\nAtributos Originais:\", dataset_novo.columns[0:6])\n",
        "\n",
        "# Exibe as pontuações de cada atributo e os 4 escolhidos (com pontuação mais altas)\n",
        "np.set_printoptions(precision=3) # 3 casas decimais\n",
        "print(\"\\nScores dos Atributos Originais:\", fit.scores_)\n",
        "print(\"\\nAtributos Selecionados:\", best_var.get_feature_names_out(input_features=dataset_novo.columns[0:6]))"
      ],
      "metadata": {
        "colab": {
          "base_uri": "https://localhost:8080/"
        },
        "id": "lzznCmeWHGQS",
        "outputId": "f5a552be-718a-481a-fe12-4f007dc13b96"
      },
      "execution_count": 16,
      "outputs": [
        {
          "output_type": "stream",
          "name": "stdout",
          "text": [
            "\n",
            "Número original de atributos: 6\n",
            "\n",
            "Número reduzido de atributos: 4\n",
            "\n",
            "Atributos Originais: Index(['age', 'hypertension', 'heart_disease', 'bmi', 'HbA1c_level',\n",
            "       'blood_glucose_level'],\n",
            "      dtype='object')\n",
            "\n",
            "Scores dos Atributos Originais: [5421.647 1177.354  791.42  2258.403 9614.225 6823.821]\n",
            "\n",
            "Atributos Selecionados: ['age' 'bmi' 'HbA1c_level' 'blood_glucose_level']\n"
          ]
        }
      ]
    },
    {
      "cell_type": "markdown",
      "source": [
        "*A seleção de atributos através do SelectKBest tem como objetivo a redução do overfitting (minimizando o ruído), a melhoria dos resultados, a redução do tempo de treinamento e a melhoria da interpretabilidade do modelo.*"
      ],
      "metadata": {
        "id": "6AGgBk2nl5qa"
      }
    },
    {
      "cell_type": "markdown",
      "source": [
        "**(f) Criação do Dataset Final.**"
      ],
      "metadata": {
        "id": "FRwAyeJOJjfS"
      }
    },
    {
      "cell_type": "code",
      "source": [
        "# Seleção das colunas para a criação do dataframe final.\n",
        "dataset_final = dataset_novo[['age', 'bmi', 'HbA1c_level', 'blood_glucose_level','diabetes']]"
      ],
      "metadata": {
        "id": "TVWbN5ZdJqMD"
      },
      "execution_count": 17,
      "outputs": []
    },
    {
      "cell_type": "markdown",
      "source": [
        "**6. Modelagem e Inferência: (a) Separação do Conjunto de Treino e Teste; (b) Criação e Avaliação dos Modelos.**"
      ],
      "metadata": {
        "id": "RqL7UtxqKH_7"
      }
    },
    {
      "cell_type": "markdown",
      "source": [
        "**(a) Separação do Conjunto de Treino e Teste.**"
      ],
      "metadata": {
        "id": "-G89_vS_LfGV"
      }
    },
    {
      "cell_type": "code",
      "source": [
        "# Separação em conjunto de treino e teste com holdout\n",
        "\n",
        "test_size = 0.20 # tamanho do conjunto de teste\n",
        "seed = 7 # semente aleatória\n",
        "\n",
        "# separação em conjunto de treino e teste\n",
        "array = dataset_final.values\n",
        "X = array[:,0:4]\n",
        "y = array[:,4]\n",
        "X_train, X_test, y_train, y_test = train_test_split(X, y, test_size=test_size, shuffle=True, random_state=seed, stratify=y) # holdout com estratificação\n",
        "\n",
        "# Parâmetros e partições da validação cruzada\n",
        "scoring = 'accuracy'\n",
        "num_particoes = 10\n",
        "kfold = StratifiedKFold(n_splits=num_particoes, shuffle=True, random_state=seed) # validação cruzada com estratificação"
      ],
      "metadata": {
        "id": "VRhpkcwpLYuW"
      },
      "execution_count": 18,
      "outputs": []
    },
    {
      "cell_type": "markdown",
      "source": [
        "*Foram utilizadas as técnicas Holdout e Validação Cruzada para obtermos os melhores resultados.*"
      ],
      "metadata": {
        "id": "kp94z7hUpQhH"
      }
    },
    {
      "cell_type": "markdown",
      "source": [
        "**(b) Criação e Avaliação dos Modelos.**"
      ],
      "metadata": {
        "id": "Ju968wDaLkW5"
      }
    },
    {
      "cell_type": "code",
      "source": [
        "np.random.seed(7) # definindo uma semente global\n",
        "\n",
        "# Lista que armazenará os modelos\n",
        "models = []\n",
        "\n",
        "# Criando os modelos e adicionando-os na lista de modelos\n",
        "models.append(('LR', LogisticRegression(max_iter=200)))\n",
        "models.append(('KNN', KNeighborsClassifier()))\n",
        "models.append(('CART', DecisionTreeClassifier()))\n",
        "models.append(('NB', GaussianNB()))\n",
        "models.append(('SVM', SVC()))\n",
        "\n",
        "\n",
        "# Definindo os parâmetros do classificador base para o BaggingClassifier\n",
        "base = DecisionTreeClassifier()\n",
        "num_trees = 100\n",
        "max_features = 3\n",
        "\n",
        "# Criando os modelos para o VotingClassifier\n",
        "bases = []\n",
        "model1 = LogisticRegression(max_iter=200)\n",
        "bases.append(('logistic', model1))\n",
        "model2 = DecisionTreeClassifier()\n",
        "bases.append(('cart', model2))\n",
        "model3 = SVC()\n",
        "bases.append(('svm', model3))\n",
        "\n",
        "# Criando os ensembles e adicionando-os na lista de modelos\n",
        "models.append(('Bagging', BaggingClassifier(base_estimator=base, n_estimators=num_trees)))\n",
        "models.append(('RF', RandomForestClassifier(n_estimators=num_trees, max_features=max_features)))\n",
        "models.append(('ET', ExtraTreesClassifier(n_estimators=num_trees, max_features=max_features)))\n",
        "models.append(('Ada', AdaBoostClassifier(n_estimators=num_trees)))\n",
        "models.append(('GB', GradientBoostingClassifier(n_estimators=num_trees)))\n",
        "models.append(('Voting', VotingClassifier(bases)))\n",
        "\n",
        "# Listas para armazenar os resultados\n",
        "results = []\n",
        "names = []\n",
        "\n",
        "# Avaliação dos modelos\n",
        "for name, model in models:\n",
        "  cv_results = cross_val_score(model, X_train, y_train, cv=kfold, scoring=scoring)\n",
        "  results.append(cv_results)\n",
        "  names.append(name)\n",
        "  msg = \"%s: %f (%f)\" % (name, cv_results.mean(), cv_results.std())\n",
        "  print(msg)\n",
        "\n",
        "# Boxplot de comparação dos modelos\n",
        "fig = plt.figure(figsize=(15,10))\n",
        "fig.suptitle('Comparação dos Modelos')\n",
        "ax = fig.add_subplot(111)\n",
        "plt.boxplot(results)\n",
        "ax.set_xticklabels(names)\n",
        "plt.show()"
      ],
      "metadata": {
        "colab": {
          "base_uri": "https://localhost:8080/",
          "height": 1000
        },
        "id": "xBloeZxALqfj",
        "outputId": "8e559c7c-26c5-4eed-8cef-fade6143e420"
      },
      "execution_count": 19,
      "outputs": [
        {
          "output_type": "stream",
          "name": "stdout",
          "text": [
            "LR: 0.882059 (0.011548)\n",
            "KNN: 0.864118 (0.010387)\n",
            "CART: 0.877721 (0.009394)\n",
            "NB: 0.868015 (0.014026)\n",
            "SVM: 0.868603 (0.014662)\n",
            "Bagging: 0.898676 (0.011504)\n",
            "RF: 0.899118 (0.010935)\n",
            "ET: 0.895588 (0.009160)\n",
            "Ada: 0.910735 (0.008645)\n",
            "GB: 0.913162 (0.010100)\n",
            "Voting: 0.897647 (0.012338)\n"
          ]
        },
        {
          "output_type": "display_data",
          "data": {
            "text/plain": [
              "<Figure size 1500x1000 with 1 Axes>"
            ],
            "image/png": "[encoded data removed]"
          },
          "metadata": {}
        }
      ]
    },
    {
      "cell_type": "markdown",
      "source": [
        "*(A) Para a criação dos modelos foram utilizados os seguintes algoritmos clássicos preditivos de classificação: Regressão Logística, KNN, Árvore de Classificação, Naive Bayes e SVM.\n",
        "Foram criados também ensembles visando a obtenção de melhores resultados.*"
      ],
      "metadata": {
        "id": "uzUhMJFkrKEZ"
      }
    },
    {
      "cell_type": "markdown",
      "source": [
        "*(B) Os resultados de acurácia dos modelos foram bons, demonstrando que o tratamento realizado através do feature selection ajudou na performance dos modelos. Outro aspecto a ser apontado é que o resultado positivo pode ter sido influenciado também devido a quantidade pequena e a correlação positiva dos atributos.\n",
        "O melhor resultado ocorreu através do algortimo Gradient Boosting Classifier.*"
      ],
      "metadata": {
        "id": "fjEaWI5ttb-H"
      }
    },
    {
      "cell_type": "code",
      "source": [
        "# Criação e avaliação de modelos: dados padronizados e normalizados\n",
        "\n",
        "np.random.seed(7) # definindo uma semente global para este bloco\n",
        "\n",
        "# Listas para armazenar os pipelines e os resultados para todas as visões do dataset\n",
        "pipelines = []\n",
        "results = []\n",
        "names = []\n",
        "\n",
        "# Criando os elementos do pipeline\n",
        "\n",
        "# Algoritmos que serão utilizados\n",
        "reg_log = ('LR', LogisticRegression(max_iter=200))\n",
        "knn = ('KNN', KNeighborsClassifier())\n",
        "cart = ('CART', DecisionTreeClassifier())\n",
        "naive_bayes = ('NB', GaussianNB())\n",
        "svm = ('SVM', SVC())\n",
        "bagging = ('Bag', BaggingClassifier(base_estimator=base, n_estimators=num_trees))\n",
        "random_forest = ('RF', RandomForestClassifier(n_estimators=num_trees, max_features=max_features))\n",
        "extra_trees = ('ET', ExtraTreesClassifier(n_estimators=num_trees, max_features=max_features))\n",
        "adaboost = ('Ada', AdaBoostClassifier(n_estimators=num_trees))\n",
        "gradient_boosting = ('GB', GradientBoostingClassifier(n_estimators=num_trees))\n",
        "voting = ('Voting', VotingClassifier(bases))\n",
        "\n",
        "# Transformações que serão utilizadas\n",
        "standard_scaler = ('StandardScaler', StandardScaler())\n",
        "min_max_scaler = ('MinMaxScaler', MinMaxScaler())\n",
        "\n",
        "# Montando os pipelines\n",
        "\n",
        "# Dataset Original\n",
        "pipelines.append(('LR-orig', Pipeline([reg_log])))\n",
        "pipelines.append(('KNN-orig', Pipeline([knn])))\n",
        "pipelines.append(('CART-orig', Pipeline([cart])))\n",
        "pipelines.append(('NB-orig', Pipeline([naive_bayes])))\n",
        "pipelines.append(('SVM-orig', Pipeline([svm])))\n",
        "pipelines.append(('Bag-orig', Pipeline([bagging])))\n",
        "pipelines.append(('RF-orig', Pipeline([random_forest])))\n",
        "pipelines.append(('ET-orig', Pipeline([extra_trees])))\n",
        "pipelines.append(('Ada-orig', Pipeline([adaboost])))\n",
        "pipelines.append(('GB-orig', Pipeline([gradient_boosting])))\n",
        "pipelines.append(('Vot-orig', Pipeline([voting])))\n",
        "\n",
        "# Dataset Padronizado\n",
        "pipelines.append(('LR-padr', Pipeline([standard_scaler, reg_log])))\n",
        "pipelines.append(('KNN-padr', Pipeline([standard_scaler, knn])))\n",
        "pipelines.append(('CART-padr', Pipeline([standard_scaler, cart])))\n",
        "pipelines.append(('NB-padr', Pipeline([standard_scaler, naive_bayes])))\n",
        "pipelines.append(('SVM-padr', Pipeline([standard_scaler, svm])))\n",
        "pipelines.append(('Bag-padr', Pipeline([standard_scaler, bagging])))\n",
        "pipelines.append(('RF-padr', Pipeline([standard_scaler, random_forest])))\n",
        "pipelines.append(('ET-padr', Pipeline([standard_scaler, extra_trees])))\n",
        "pipelines.append(('Ada-padr', Pipeline([standard_scaler, adaboost])))\n",
        "pipelines.append(('GB-padr', Pipeline([standard_scaler, gradient_boosting])))\n",
        "pipelines.append(('Vot-padr', Pipeline([standard_scaler, voting])))\n",
        "\n",
        "#Dataset Normalizado\n",
        "pipelines.append(('LR-norm', Pipeline([min_max_scaler, reg_log])))\n",
        "pipelines.append(('KNN-norm', Pipeline([min_max_scaler, knn])))\n",
        "pipelines.append(('CART-norm', Pipeline([min_max_scaler, cart])))\n",
        "pipelines.append(('NB-norm', Pipeline([min_max_scaler, naive_bayes])))\n",
        "pipelines.append(('SVM-norm', Pipeline([min_max_scaler, svm])))\n",
        "pipelines.append(('Bag-norm', Pipeline([min_max_scaler, bagging])))\n",
        "pipelines.append(('RF-norm', Pipeline([min_max_scaler, random_forest])))\n",
        "pipelines.append(('ET-norm', Pipeline([min_max_scaler, extra_trees])))\n",
        "pipelines.append(('Ada-norm', Pipeline([min_max_scaler, adaboost])))\n",
        "pipelines.append(('GB-norm', Pipeline([min_max_scaler, gradient_boosting])))\n",
        "pipelines.append(('Vot-norm', Pipeline([min_max_scaler, voting])))\n",
        "\n",
        "# Executando os pipelines\n",
        "for name, model in pipelines:\n",
        "  cv_results = cross_val_score(model, X_train, y_train, cv=kfold, scoring=scoring)\n",
        "  results.append(cv_results)\n",
        "  names.append(name)\n",
        "  msg = \"%s: %.3f (%.3f)\" % (name, cv_results.mean(), cv_results.std()) # formatando para 3 casas decimais\n",
        "  print(msg)\n",
        "\n",
        "# Boxplot de comparação dos modelos\n",
        "fig = plt.figure(figsize=(25,6))\n",
        "fig.suptitle('Comparação dos Modelos - Dataset Original, Padronizado e Normalizado')\n",
        "ax = fig.add_subplot(111)\n",
        "plt.boxplot(results)\n",
        "ax.set_xticklabels(names, rotation=90)\n",
        "plt.show()"
      ],
      "metadata": {
        "colab": {
          "base_uri": "https://localhost:8080/",
          "height": 1000
        },
        "id": "eh4x_FgPMPAc",
        "outputId": "94f2f35e-052f-4342-b4b3-3097d5f289a9"
      },
      "execution_count": 20,
      "outputs": [
        {
          "output_type": "stream",
          "name": "stdout",
          "text": [
            "LR-orig: 0.882 (0.012)\n",
            "KNN-orig: 0.864 (0.010)\n",
            "CART-orig: 0.878 (0.009)\n",
            "NB-orig: 0.868 (0.014)\n",
            "SVM-orig: 0.869 (0.015)\n",
            "Bag-orig: 0.899 (0.012)\n",
            "RF-orig: 0.899 (0.011)\n",
            "ET-orig: 0.896 (0.009)\n",
            "Ada-orig: 0.911 (0.009)\n",
            "GB-orig: 0.913 (0.010)\n",
            "Vot-orig: 0.898 (0.012)\n",
            "LR-padr: 0.882 (0.012)\n",
            "KNN-padr: 0.890 (0.014)\n",
            "CART-padr: 0.878 (0.009)\n",
            "NB-padr: 0.868 (0.014)\n",
            "SVM-padr: 0.901 (0.012)\n",
            "Bag-padr: 0.898 (0.011)\n",
            "RF-padr: 0.900 (0.012)\n",
            "ET-padr: 0.896 (0.009)\n",
            "Ada-padr: 0.911 (0.009)\n",
            "GB-padr: 0.913 (0.010)\n",
            "Vot-padr: 0.898 (0.011)\n",
            "LR-norm: 0.882 (0.012)\n",
            "KNN-norm: 0.889 (0.012)\n",
            "CART-norm: 0.878 (0.008)\n",
            "NB-norm: 0.868 (0.014)\n",
            "SVM-norm: 0.900 (0.012)\n",
            "Bag-norm: 0.897 (0.013)\n",
            "RF-norm: 0.899 (0.011)\n",
            "ET-norm: 0.896 (0.010)\n",
            "Ada-norm: 0.911 (0.009)\n",
            "GB-norm: 0.913 (0.010)\n",
            "Vot-norm: 0.898 (0.011)\n"
          ]
        },
        {
          "output_type": "display_data",
          "data": {
            "text/plain": [
              "<Figure size 2500x600 with 1 Axes>"
            ],
            "image/png": "[encoded data removed]"
          },
          "metadata": {}
        }
      ]
    },
    {
      "cell_type": "markdown",
      "source": [
        "*(A) Nessa nova etapa do projeto os algoritmos foram testados novamente dessa vez comparando com os dados originais com os tratados através da normalização e padronização. Foram utilizados também pipelines com o objetivo de evitar a ocorrência de data leakage.*"
      ],
      "metadata": {
        "id": "_rjq_In0yQXi"
      }
    },
    {
      "cell_type": "markdown",
      "source": [
        "*(B) O algoritmo Gradient Boosting Classifier permaneceu com a melhor acurácia.*"
      ],
      "metadata": {
        "id": "CPeb6qKPzZ93"
      }
    },
    {
      "cell_type": "markdown",
      "source": [
        "**7. Otimização de Hiperparâmetros.**"
      ],
      "metadata": {
        "id": "fu153BcZMqXX"
      }
    },
    {
      "cell_type": "markdown",
      "source": [
        "*Diante do excelente resultado obtido através do algortimo Gradient Boosting Classifier, não vemos como necessária a otimização dos hiperparâmetros do modelo. Apenas para demonstração, foi realizado o Tuning através do algoritmo KNN.*"
      ],
      "metadata": {
        "id": "UxvbwCggQRwN"
      }
    },
    {
      "cell_type": "code",
      "source": [
        "# Otimização de Hiperparâmetros\n",
        "\n",
        "# Tuning do KNN (não rodar)\n",
        "\n",
        "np.random.seed(7) # definindo uma semente global para este bloco\n",
        "\n",
        "pipelines = []\n",
        "\n",
        "# Definindo os componentes do pipeline\n",
        "knn = ('KNN', KNeighborsClassifier())\n",
        "standard_scaler = ('StandardScaler', StandardScaler())\n",
        "min_max_scaler = ('MinMaxScaler', MinMaxScaler())\n",
        "\n",
        "pipelines.append(('knn-orig', Pipeline(steps=[knn])))\n",
        "pipelines.append(('knn-padr', Pipeline(steps=[standard_scaler, knn])))\n",
        "pipelines.append(('knn-norm', Pipeline(steps=[min_max_scaler, knn])))\n",
        "\n",
        "param_grid = {\n",
        "    'KNN__n_neighbors': [1,3,5,7,9,11,13,15,17,19,21],\n",
        "    'KNN__metric': [\"euclidean\", \"manhattan\", \"minkowski\"],\n",
        "}\n",
        "\n",
        "# Prepara e executa o GridSearchCV\n",
        "\n",
        "for name, model in pipelines:\n",
        "  grid = GridSearchCV(estimator=model, param_grid=param_grid, scoring=scoring, cv=kfold)\n",
        "  grid.fit(X_train, y_train)\n",
        "  # imprime a melhor configuração\n",
        "  print(\"Sem tratamento de missings: %s - Melhor: %f usando %s\" % (name, grid.best_score_, grid.best_params_))"
      ],
      "metadata": {
        "colab": {
          "base_uri": "https://localhost:8080/"
        },
        "id": "eiOzbddIpnM6",
        "outputId": "18e0688c-4606-468d-f368-e9889d15edae"
      },
      "execution_count": null,
      "outputs": [
        {
          "output_type": "stream",
          "name": "stdout",
          "text": [
            "Sem tratamento de missings: knn-orig - Melhor: 0.867868 usando {'KNN__metric': 'manhattan', 'KNN__n_neighbors': 9}\n",
            "Sem tratamento de missings: knn-padr - Melhor: 0.897059 usando {'KNN__metric': 'euclidean', 'KNN__n_neighbors': 19}\n",
            "Sem tratamento de missings: knn-norm - Melhor: 0.896985 usando {'KNN__metric': 'manhattan', 'KNN__n_neighbors': 19}\n"
          ]
        }
      ]
    },
    {
      "cell_type": "markdown",
      "source": [
        "*A otimização dos hiperparâmetros gerou uma melhor acurácia no modelo KNN, tendo o melhor resultado através do modelo padronizado.*"
      ],
      "metadata": {
        "id": "pPeDB7g92OCM"
      }
    },
    {
      "cell_type": "markdown",
      "source": [
        "**8. Pós-processamento: (a) Predição no Conjunto de Teste (Validação Final); (b) Salvamento do Modelo para uso posterior.**"
      ],
      "metadata": {
        "id": "jxlfWazKQmtl"
      }
    },
    {
      "cell_type": "markdown",
      "source": [
        "**(a) Predição no Conjunto de Teste (Validação Final).**\n",
        "\n"
      ],
      "metadata": {
        "id": "KFdc-6xZ88rs"
      }
    },
    {
      "cell_type": "code",
      "source": [
        "# Finalização do Modelo\n",
        "\n",
        "# Avaliação do modelo com o conjunto de testes\n",
        "\n",
        "# Preparação do modelo\n",
        "scaler = StandardScaler().fit(X_train) # ajuste do scaler com o conjunto de treino\n",
        "rescaledX = scaler.transform(X_train) # aplicação da padronização no conjunto de treino\n",
        "model = GradientBoostingClassifier(random_state=10)\n",
        "model.fit(rescaledX, y_train)\n",
        "\n",
        "# Estimativa da acurácia no conjunto de teste\n",
        "rescaledTestX = scaler.transform(X_test) # aplicação da padronização no conjunto de teste\n",
        "predictions = model.predict(rescaledTestX)\n",
        "print(accuracy_score(y_test, predictions))"
      ],
      "metadata": {
        "colab": {
          "base_uri": "https://localhost:8080/"
        },
        "id": "Pmr3NcU0QkQf",
        "outputId": "b36f7ad4-5b18-4a0e-b5fc-cd0e5ab3040b"
      },
      "execution_count": 21,
      "outputs": [
        {
          "output_type": "stream",
          "name": "stdout",
          "text": [
            "0.9094117647058824\n"
          ]
        }
      ]
    },
    {
      "cell_type": "markdown",
      "source": [
        "*O modelo Gradient Boosting Classifier foi avaliado com os dados de teste e obteve uma acurácia muito próxima da avaliação realizada nos dados de treinamento.*"
      ],
      "metadata": {
        "id": "ricD0XmN29fb"
      }
    },
    {
      "cell_type": "markdown",
      "source": [
        "**(b) Salvamento do Modelo para uso posterior.**"
      ],
      "metadata": {
        "id": "vRbhnu979LMk"
      }
    },
    {
      "cell_type": "code",
      "source": [
        "# Preparação do modelo com todo o dataset\n",
        "scaler = StandardScaler().fit(X) # ajuste do scaler com todo o dataset\n",
        "rescaledX = scaler.transform(X) # aplicação da padronização com todo o dataset\n",
        "model.fit(rescaledX, y)"
      ],
      "metadata": {
        "colab": {
          "base_uri": "https://localhost:8080/",
          "height": 74
        },
        "id": "eFhTTrwxRUgr",
        "outputId": "baaa38cd-0840-4883-d5e2-0cfce6104329"
      },
      "execution_count": 22,
      "outputs": [
        {
          "output_type": "execute_result",
          "data": {
            "text/plain": [
              "GradientBoostingClassifier(random_state=10)"
            ],
            "text/html": [
              "<style>#sk-container-id-1 {color: black;background-color: white;}#sk-container-id-1 pre{padding: 0;}#sk-container-id-1 div.sk-toggleable {background-color: white;}#sk-container-id-1 label.sk-toggleable__label {cursor: pointer;display: block;width: 100%;margin-bottom: 0;padding: 0.3em;box-sizing: border-box;text-align: center;}#sk-container-id-1 label.sk-toggleable__label-arrow:before {content: \"▸\";float: left;margin-right: 0.25em;color: #696969;}#sk-container-id-1 label.sk-toggleable__label-arrow:hover:before {color: black;}#sk-container-id-1 div.sk-estimator:hover label.sk-toggleable__label-arrow:before {color: black;}#sk-container-id-1 div.sk-toggleable__content {max-height: 0;max-width: 0;overflow: hidden;text-align: left;background-color: #f0f8ff;}#sk-container-id-1 div.sk-toggleable__content pre {margin: 0.2em;color: black;border-radius: 0.25em;background-color: #f0f8ff;}#sk-container-id-1 input.sk-toggleable__control:checked~div.sk-toggleable__content {max-height: 200px;max-width: 100%;overflow: auto;}#sk-container-id-1 input.sk-toggleable__control:checked~label.sk-toggleable__label-arrow:before {content: \"▾\";}#sk-container-id-1 div.sk-estimator input.sk-toggleable__control:checked~label.sk-toggleable__label {background-color: #d4ebff;}#sk-container-id-1 div.sk-label input.sk-toggleable__control:checked~label.sk-toggleable__label {background-color: #d4ebff;}#sk-container-id-1 input.sk-hidden--visually {border: 0;clip: rect(1px 1px 1px 1px);clip: rect(1px, 1px, 1px, 1px);height: 1px;margin: -1px;overflow: hidden;padding: 0;position: absolute;width: 1px;}#sk-container-id-1 div.sk-estimator {font-family: monospace;background-color: #f0f8ff;border: 1px dotted black;border-radius: 0.25em;box-sizing: border-box;margin-bottom: 0.5em;}#sk-container-id-1 div.sk-estimator:hover {background-color: #d4ebff;}#sk-container-id-1 div.sk-parallel-item::after {content: \"\";width: 100%;border-bottom: 1px solid gray;flex-grow: 1;}#sk-container-id-1 div.sk-label:hover label.sk-toggleable__label {background-color: #d4ebff;}#sk-container-id-1 div.sk-serial::before {content: \"\";position: absolute;border-left: 1px solid gray;box-sizing: border-box;top: 0;bottom: 0;left: 50%;z-index: 0;}#sk-container-id-1 div.sk-serial {display: flex;flex-direction: column;align-items: center;background-color: white;padding-right: 0.2em;padding-left: 0.2em;position: relative;}#sk-container-id-1 div.sk-item {position: relative;z-index: 1;}#sk-container-id-1 div.sk-parallel {display: flex;align-items: stretch;justify-content: center;background-color: white;position: relative;}#sk-container-id-1 div.sk-item::before, #sk-container-id-1 div.sk-parallel-item::before {content: \"\";position: absolute;border-left: 1px solid gray;box-sizing: border-box;top: 0;bottom: 0;left: 50%;z-index: -1;}#sk-container-id-1 div.sk-parallel-item {display: flex;flex-direction: column;z-index: 1;position: relative;background-color: white;}#sk-container-id-1 div.sk-parallel-item:first-child::after {align-self: flex-end;width: 50%;}#sk-container-id-1 div.sk-parallel-item:last-child::after {align-self: flex-start;width: 50%;}#sk-container-id-1 div.sk-parallel-item:only-child::after {width: 0;}#sk-container-id-1 div.sk-dashed-wrapped {border: 1px dashed gray;margin: 0 0.4em 0.5em 0.4em;box-sizing: border-box;padding-bottom: 0.4em;background-color: white;}#sk-container-id-1 div.sk-label label {font-family: monospace;font-weight: bold;display: inline-block;line-height: 1.2em;}#sk-container-id-1 div.sk-label-container {text-align: center;}#sk-container-id-1 div.sk-container {/* jupyter's `normalize.less` sets `[hidden] { display: none; }` but bootstrap.min.css set `[hidden] { display: none !important; }` so we also need the `!important` here to be able to override the default hidden behavior on the sphinx rendered scikit-learn.org. See: https://github.com/scikit-learn/scikit-learn/issues/21755 */display: inline-block !important;position: relative;}#sk-container-id-1 div.sk-text-repr-fallback {display: none;}</style><div id=\"sk-container-id-1\" class=\"sk-top-container\"><div class=\"sk-text-repr-fallback\"><pre>GradientBoostingClassifier(random_state=10)</pre><b>In a Jupyter environment, please rerun this cell to show the HTML representation or trust the notebook. <br />On GitHub, the HTML representation is unable to render, please try loading this page with nbviewer.org.</b></div><div class=\"sk-container\" hidden><div class=\"sk-item\"><div class=\"sk-estimator sk-toggleable\"><input class=\"sk-toggleable__control sk-hidden--visually\" id=\"sk-estimator-id-1\" type=\"checkbox\" checked><label for=\"sk-estimator-id-1\" class=\"sk-toggleable__label sk-toggleable__label-arrow\">GradientBoostingClassifier</label><div class=\"sk-toggleable__content\"><pre>GradientBoostingClassifier(random_state=10)</pre></div></div></div></div></div>"
            ]
          },
          "metadata": {},
          "execution_count": 22
        }
      ]
    },
    {
      "cell_type": "markdown",
      "source": [
        "**9. Referências bibliográficas.**"
      ],
      "metadata": {
        "id": "IM8E9ifi3aAn"
      }
    },
    {
      "cell_type": "markdown",
      "source": [
        "Diabetes Mellitus - Biblioteca Virtual em Saúde. https://bvsms.saude.gov.br. Disponível em: https://bvsms.saude.gov.br/bvs/publicacoes/diabetes_mellitus.PDF. Acesso em 15 de julho de 2023.\n",
        "\n",
        "Diabetes Mellitus. https://www.saude.pr.gov.br. Disponível em: https://www.saude.pr.gov.br/Pagina/Diabetes-diabetes-mellitus#:~:text=A%20glicemia%20alta%20reduz%20a,c%C3%A9lulas%2C%20principalmente%20as%20dos%20neur%C3%B4nios.&text=Pessoas%20com%20diabetes%20podem%20apresentar,e%2Fou%20circula%C3%A7%C3%A3o%20sangu%C3%ADnea%20deficiente. Acesso em 15 de julho de 2023.\n",
        "\n",
        "Diabetes: O que é, Tipos, Sintomas, Como cuidar e mais. https://www.hermespardini.com.br. Disponível em: https://www.hermespardini.com.br/blog/?p=111#:~:text=O%20diabetes%20%C3%A9%20uma%20doen%C3%A7a,altera%C3%A7%C3%A3o%20na%20taxa%20de%20glicemia. Acesso em 15 de julho de 2023."
      ],
      "metadata": {
        "id": "YkZykkAx3gJ_"
      }
    },
    {
      "cell_type": "markdown",
      "source": [
        "**Projeto B**"
      ],
      "metadata": {
        "id": "K6kt26wzYA2T"
      }
    },
    {
      "cell_type": "markdown",
      "source": [
        "**1. Definição do Problema:**\n",
        "\n",
        "Nesse segundo projeto iremos treinar um modelo de Machine Learning utilizando Deep Learning para o processamento de linguagem natural (PLN).\n",
        "\n",
        "Para isso, utilizaremos um dataset do Kaggle que trata das emoções geradas através de textos. O dataset contém 2 colunas, uma com textos e outra com a classificação da emoção (happy, sadness, anger, fear, love e surprise)."
      ],
      "metadata": {
        "id": "6lyMcqp9YGiy"
      }
    },
    {
      "cell_type": "markdown",
      "source": [
        "**2. Importação das Bibliotecas e Configurações.**"
      ],
      "metadata": {
        "id": "Y8Du5564YMAT"
      }
    },
    {
      "cell_type": "code",
      "source": [
        "# Configuração para não exibir Warnings\n",
        "import warnings\n",
        "warnings.filterwarnings('ignore')\n",
        "\n",
        "# Importação do Pandas\n",
        "import pandas as pd\n",
        "\n",
        "# Importação do Numpy\n",
        "import numpy as np\n",
        "\n",
        "# Importação do Pyplot\n",
        "import matplotlib.pyplot as plt\n",
        "\n",
        "# Importação do MissingNo para tratamento de missings\n",
        "import missingno as ms\n",
        "\n",
        "# Importações dos modelos, framework e configurações para treinamento do modelo e apuração do resultado\n",
        "from sklearn.model_selection import train_test_split\n",
        "import tensorflow as tf\n",
        "from tensorflow.keras.preprocessing.text import Tokenizer\n",
        "from tensorflow.keras.preprocessing.sequence import pad_sequences\n",
        "from tensorflow.keras.preprocessing.text import one_hot\n",
        "from tensorflow.keras import Sequential\n",
        "from tensorflow.keras.layers import Embedding, Dense, Dropout, BatchNormalization, Flatten, LSTM\n",
        "from tensorflow.keras.callbacks import Callback, ReduceLROnPlateau"
      ],
      "metadata": {
        "id": "ubsa58rLYQ1i"
      },
      "execution_count": 23,
      "outputs": []
    },
    {
      "cell_type": "markdown",
      "source": [
        "**3. Importação do Dataset.**"
      ],
      "metadata": {
        "id": "gic4lsL3YWug"
      }
    },
    {
      "cell_type": "code",
      "source": [
        "# Importando dados da url para um dataframe\n",
        "\n",
        "# url a importar\n",
        "\n",
        "url_dados = 'https://github.com/PedroHudson/Deep_Learning/blob/main/emotion.csv?raw=true'\n",
        "\n",
        "# carga do dataset através da url\n",
        "dataset = pd.read_csv(url_dados, sep=';', encoding = 'ISO-8859-1')\n",
        "dataset[['Text', 'Emotion']] = dataset['Text,Emotion'].str.split(',', 1, expand=True)\n",
        "dataset = dataset[['Text', 'Emotion']]"
      ],
      "metadata": {
        "id": "6S2gMadiYZp3"
      },
      "execution_count": 24,
      "outputs": []
    },
    {
      "cell_type": "markdown",
      "source": [
        "**4. Análise Exploratória - Primeiras Visualizações e Análises.**"
      ],
      "metadata": {
        "id": "MPpeGpSnYcog"
      }
    },
    {
      "cell_type": "code",
      "source": [
        "# Visualização da quantidade de instâncias e atributos do dataset\n",
        "dataset.shape"
      ],
      "metadata": {
        "colab": {
          "base_uri": "https://localhost:8080/"
        },
        "id": "d9c8DKOTYgGP",
        "outputId": "1af6deb3-d1b0-462f-96d8-de603940c638"
      },
      "execution_count": 25,
      "outputs": [
        {
          "output_type": "execute_result",
          "data": {
            "text/plain": [
              "(21459, 2)"
            ]
          },
          "metadata": {},
          "execution_count": 25
        }
      ]
    },
    {
      "cell_type": "markdown",
      "source": [
        "*Conforme informado anteriormente, o dataset tem 2 colunas.*"
      ],
      "metadata": {
        "id": "lNLbJdjdYkDE"
      }
    },
    {
      "cell_type": "code",
      "source": [
        "# Visualização das primeiras linhas do dataframe\n",
        "dataset.head()"
      ],
      "metadata": {
        "colab": {
          "base_uri": "https://localhost:8080/",
          "height": 206
        },
        "id": "JHqXyrLWYnyo",
        "outputId": "7b609cb8-a87a-42e9-8978-2b44d700b206"
      },
      "execution_count": 26,
      "outputs": [
        {
          "output_type": "execute_result",
          "data": {
            "text/plain": [
              "                                                Text  Emotion\n",
              "0                            i didnt feel humiliated  sadness\n",
              "1  i can go from feeling so hopeless to so damned...  sadness\n",
              "2   im grabbing a minute to post i feel greedy wrong    anger\n",
              "3  i am ever feeling nostalgic about the fireplac...     love\n",
              "4                               i am feeling grouchy    anger"
            ],
            "text/html": [
              "\n",
              "\n",
              "  <div id=\"df-b3421e81-507b-483e-8437-b437faf45837\">\n",
              "    <div class=\"colab-df-container\">\n",
              "      <div>\n",
              "<style scoped>\n",
              "    .dataframe tbody tr th:only-of-type {\n",
              "        vertical-align: middle;\n",
              "    }\n",
              "\n",
              "    .dataframe tbody tr th {\n",
              "        vertical-align: top;\n",
              "    }\n",
              "\n",
              "    .dataframe thead th {\n",
              "        text-align: right;\n",
              "    }\n",
              "</style>\n",
              "<table border=\"1\" class=\"dataframe\">\n",
              "  <thead>\n",
              "    <tr style=\"text-align: right;\">\n",
              "      <th></th>\n",
              "      <th>Text</th>\n",
              "      <th>Emotion</th>\n",
              "    </tr>\n",
              "  </thead>\n",
              "  <tbody>\n",
              "    <tr>\n",
              "      <th>0</th>\n",
              "      <td>i didnt feel humiliated</td>\n",
              "      <td>sadness</td>\n",
              "    </tr>\n",
              "    <tr>\n",
              "      <th>1</th>\n",
              "      <td>i can go from feeling so hopeless to so damned...</td>\n",
              "      <td>sadness</td>\n",
              "    </tr>\n",
              "    <tr>\n",
              "      <th>2</th>\n",
              "      <td>im grabbing a minute to post i feel greedy wrong</td>\n",
              "      <td>anger</td>\n",
              "    </tr>\n",
              "    <tr>\n",
              "      <th>3</th>\n",
              "      <td>i am ever feeling nostalgic about the fireplac...</td>\n",
              "      <td>love</td>\n",
              "    </tr>\n",
              "    <tr>\n",
              "      <th>4</th>\n",
              "      <td>i am feeling grouchy</td>\n",
              "      <td>anger</td>\n",
              "    </tr>\n",
              "  </tbody>\n",
              "</table>\n",
              "</div>\n",
              "      <button class=\"colab-df-convert\" onclick=\"convertToInteractive('df-b3421e81-507b-483e-8437-b437faf45837')\"\n",
              "              title=\"Convert this dataframe to an interactive table.\"\n",
              "              style=\"display:none;\">\n",
              "\n",
              "  <svg xmlns=\"http://www.w3.org/2000/svg\" height=\"24px\"viewBox=\"0 0 24 24\"\n",
              "       width=\"24px\">\n",
              "    <path d=\"M0 0h24v24H0V0z\" fill=\"none\"/>\n",
              "    <path d=\"M18.56 5.44l.94 2.06.94-2.06 2.06-.94-2.06-.94-.94-2.06-.94 2.06-2.06.94zm-11 1L8.5 8.5l.94-2.06 2.06-.94-2.06-.94L8.5 2.5l-.94 2.06-2.06.94zm10 10l.94 2.06.94-2.06 2.06-.94-2.06-.94-.94-2.06-.94 2.06-2.06.94z\"/><path d=\"M17.41 7.96l-1.37-1.37c-.4-.4-.92-.59-1.43-.59-.52 0-1.04.2-1.43.59L10.3 9.45l-7.72 7.72c-.78.78-.78 2.05 0 2.83L4 21.41c.39.39.9.59 1.41.59.51 0 1.02-.2 1.41-.59l7.78-7.78 2.81-2.81c.8-.78.8-2.07 0-2.86zM5.41 20L4 18.59l7.72-7.72 1.47 1.35L5.41 20z\"/>\n",
              "  </svg>\n",
              "      </button>\n",
              "\n",
              "\n",
              "\n",
              "    <div id=\"df-24089501-abfe-40a2-be9b-53b8970319f8\">\n",
              "      <button class=\"colab-df-quickchart\" onclick=\"quickchart('df-24089501-abfe-40a2-be9b-53b8970319f8')\"\n",
              "              title=\"Suggest charts.\"\n",
              "              style=\"display:none;\">\n",
              "\n",
              "<svg xmlns=\"http://www.w3.org/2000/svg\" height=\"24px\"viewBox=\"0 0 24 24\"\n",
              "     width=\"24px\">\n",
              "    <g>\n",
              "        <path d=\"M19 3H5c-1.1 0-2 .9-2 2v14c0 1.1.9 2 2 2h14c1.1 0 2-.9 2-2V5c0-1.1-.9-2-2-2zM9 17H7v-7h2v7zm4 0h-2V7h2v10zm4 0h-2v-4h2v4z\"/>\n",
              "    </g>\n",
              "</svg>\n",
              "      </button>\n",
              "    </div>\n",
              "\n",
              "<style>\n",
              "  .colab-df-quickchart {\n",
              "    background-color: #E8F0FE;\n",
              "    border: none;\n",
              "    border-radius: 50%;\n",
              "    cursor: pointer;\n",
              "    display: none;\n",
              "    fill: #1967D2;\n",
              "    height: 32px;\n",
              "    padding: 0 0 0 0;\n",
              "    width: 32px;\n",
              "  }\n",
              "\n",
              "  .colab-df-quickchart:hover {\n",
              "    background-color: #E2EBFA;\n",
              "    box-shadow: 0px 1px 2px rgba(60, 64, 67, 0.3), 0px 1px 3px 1px rgba(60, 64, 67, 0.15);\n",
              "    fill: #174EA6;\n",
              "  }\n",
              "\n",
              "  [theme=dark] .colab-df-quickchart {\n",
              "    background-color: #3B4455;\n",
              "    fill: #D2E3FC;\n",
              "  }\n",
              "\n",
              "  [theme=dark] .colab-df-quickchart:hover {\n",
              "    background-color: #434B5C;\n",
              "    box-shadow: 0px 1px 3px 1px rgba(0, 0, 0, 0.15);\n",
              "    filter: drop-shadow(0px 1px 2px rgba(0, 0, 0, 0.3));\n",
              "    fill: #FFFFFF;\n",
              "  }\n",
              "</style>\n",
              "\n",
              "    <script>\n",
              "      async function quickchart(key) {\n",
              "        const containerElement = document.querySelector('#' + key);\n",
              "        const charts = await google.colab.kernel.invokeFunction(\n",
              "            'suggestCharts', [key], {});\n",
              "      }\n",
              "    </script>\n",
              "\n",
              "      <script>\n",
              "\n",
              "function displayQuickchartButton(domScope) {\n",
              "  let quickchartButtonEl =\n",
              "    domScope.querySelector('#df-24089501-abfe-40a2-be9b-53b8970319f8 button.colab-df-quickchart');\n",
              "  quickchartButtonEl.style.display =\n",
              "    google.colab.kernel.accessAllowed ? 'block' : 'none';\n",
              "}\n",
              "\n",
              "        displayQuickchartButton(document);\n",
              "      </script>\n",
              "      <style>\n",
              "    .colab-df-container {\n",
              "      display:flex;\n",
              "      flex-wrap:wrap;\n",
              "      gap: 12px;\n",
              "    }\n",
              "\n",
              "    .colab-df-convert {\n",
              "      background-color: #E8F0FE;\n",
              "      border: none;\n",
              "      border-radius: 50%;\n",
              "      cursor: pointer;\n",
              "      display: none;\n",
              "      fill: #1967D2;\n",
              "      height: 32px;\n",
              "      padding: 0 0 0 0;\n",
              "      width: 32px;\n",
              "    }\n",
              "\n",
              "    .colab-df-convert:hover {\n",
              "      background-color: #E2EBFA;\n",
              "      box-shadow: 0px 1px 2px rgba(60, 64, 67, 0.3), 0px 1px 3px 1px rgba(60, 64, 67, 0.15);\n",
              "      fill: #174EA6;\n",
              "    }\n",
              "\n",
              "    [theme=dark] .colab-df-convert {\n",
              "      background-color: #3B4455;\n",
              "      fill: #D2E3FC;\n",
              "    }\n",
              "\n",
              "    [theme=dark] .colab-df-convert:hover {\n",
              "      background-color: #434B5C;\n",
              "      box-shadow: 0px 1px 3px 1px rgba(0, 0, 0, 0.15);\n",
              "      filter: drop-shadow(0px 1px 2px rgba(0, 0, 0, 0.3));\n",
              "      fill: #FFFFFF;\n",
              "    }\n",
              "  </style>\n",
              "\n",
              "      <script>\n",
              "        const buttonEl =\n",
              "          document.querySelector('#df-b3421e81-507b-483e-8437-b437faf45837 button.colab-df-convert');\n",
              "        buttonEl.style.display =\n",
              "          google.colab.kernel.accessAllowed ? 'block' : 'none';\n",
              "\n",
              "        async function convertToInteractive(key) {\n",
              "          const element = document.querySelector('#df-b3421e81-507b-483e-8437-b437faf45837');\n",
              "          const dataTable =\n",
              "            await google.colab.kernel.invokeFunction('convertToInteractive',\n",
              "                                                     [key], {});\n",
              "          if (!dataTable) return;\n",
              "\n",
              "          const docLinkHtml = 'Like what you see? Visit the ' +\n",
              "            '<a target=\"_blank\" href=https://colab.research.google.com/notebooks/data_table.ipynb>data table notebook</a>'\n",
              "            + ' to learn more about interactive tables.';\n",
              "          element.innerHTML = '';\n",
              "          dataTable['output_type'] = 'display_data';\n",
              "          await google.colab.output.renderOutput(dataTable, element);\n",
              "          const docLink = document.createElement('div');\n",
              "          docLink.innerHTML = docLinkHtml;\n",
              "          element.appendChild(docLink);\n",
              "        }\n",
              "      </script>\n",
              "    </div>\n",
              "  </div>\n"
            ]
          },
          "metadata": {},
          "execution_count": 26
        }
      ]
    },
    {
      "cell_type": "code",
      "source": [
        "# Visualização das últimas linhas do dataframe\n",
        "dataset.tail()"
      ],
      "metadata": {
        "colab": {
          "base_uri": "https://localhost:8080/",
          "height": 206
        },
        "id": "s53e_AFjYrlw",
        "outputId": "4dcbda0c-b84e-462e-d349-3e28a3a684d1"
      },
      "execution_count": 27,
      "outputs": [
        {
          "output_type": "execute_result",
          "data": {
            "text/plain": [
              "                                                    Text  \\\n",
              "21454               Melissa stared at her friend in dism   \n",
              "21455  Successive state elections have seen the gover...   \n",
              "21456               Vincent was irritated but not dismay   \n",
              "21457  Kendall-Hume turned back to face the dismayed ...   \n",
              "21458                                     I am dismayed    \n",
              "\n",
              "                     Emotion  \n",
              "21454                   fear  \n",
              "21455                   fear  \n",
              "21456                   fear  \n",
              "21457                   fear  \n",
              "21458   but not surpris,fear  "
            ],
            "text/html": [
              "\n",
              "\n",
              "  <div id=\"df-deaf561b-4f71-488a-b648-561310175a77\">\n",
              "    <div class=\"colab-df-container\">\n",
              "      <div>\n",
              "<style scoped>\n",
              "    .dataframe tbody tr th:only-of-type {\n",
              "        vertical-align: middle;\n",
              "    }\n",
              "\n",
              "    .dataframe tbody tr th {\n",
              "        vertical-align: top;\n",
              "    }\n",
              "\n",
              "    .dataframe thead th {\n",
              "        text-align: right;\n",
              "    }\n",
              "</style>\n",
              "<table border=\"1\" class=\"dataframe\">\n",
              "  <thead>\n",
              "    <tr style=\"text-align: right;\">\n",
              "      <th></th>\n",
              "      <th>Text</th>\n",
              "      <th>Emotion</th>\n",
              "    </tr>\n",
              "  </thead>\n",
              "  <tbody>\n",
              "    <tr>\n",
              "      <th>21454</th>\n",
              "      <td>Melissa stared at her friend in dism</td>\n",
              "      <td>fear</td>\n",
              "    </tr>\n",
              "    <tr>\n",
              "      <th>21455</th>\n",
              "      <td>Successive state elections have seen the gover...</td>\n",
              "      <td>fear</td>\n",
              "    </tr>\n",
              "    <tr>\n",
              "      <th>21456</th>\n",
              "      <td>Vincent was irritated but not dismay</td>\n",
              "      <td>fear</td>\n",
              "    </tr>\n",
              "    <tr>\n",
              "      <th>21457</th>\n",
              "      <td>Kendall-Hume turned back to face the dismayed ...</td>\n",
              "      <td>fear</td>\n",
              "    </tr>\n",
              "    <tr>\n",
              "      <th>21458</th>\n",
              "      <td>I am dismayed</td>\n",
              "      <td>but not surpris,fear</td>\n",
              "    </tr>\n",
              "  </tbody>\n",
              "</table>\n",
              "</div>\n",
              "      <button class=\"colab-df-convert\" onclick=\"convertToInteractive('df-deaf561b-4f71-488a-b648-561310175a77')\"\n",
              "              title=\"Convert this dataframe to an interactive table.\"\n",
              "              style=\"display:none;\">\n",
              "\n",
              "  <svg xmlns=\"http://www.w3.org/2000/svg\" height=\"24px\"viewBox=\"0 0 24 24\"\n",
              "       width=\"24px\">\n",
              "    <path d=\"M0 0h24v24H0V0z\" fill=\"none\"/>\n",
              "    <path d=\"M18.56 5.44l.94 2.06.94-2.06 2.06-.94-2.06-.94-.94-2.06-.94 2.06-2.06.94zm-11 1L8.5 8.5l.94-2.06 2.06-.94-2.06-.94L8.5 2.5l-.94 2.06-2.06.94zm10 10l.94 2.06.94-2.06 2.06-.94-2.06-.94-.94-2.06-.94 2.06-2.06.94z\"/><path d=\"M17.41 7.96l-1.37-1.37c-.4-.4-.92-.59-1.43-.59-.52 0-1.04.2-1.43.59L10.3 9.45l-7.72 7.72c-.78.78-.78 2.05 0 2.83L4 21.41c.39.39.9.59 1.41.59.51 0 1.02-.2 1.41-.59l7.78-7.78 2.81-2.81c.8-.78.8-2.07 0-2.86zM5.41 20L4 18.59l7.72-7.72 1.47 1.35L5.41 20z\"/>\n",
              "  </svg>\n",
              "      </button>\n",
              "\n",
              "\n",
              "\n",
              "    <div id=\"df-1091f366-c5f6-4344-bee3-432cdd81a2a2\">\n",
              "      <button class=\"colab-df-quickchart\" onclick=\"quickchart('df-1091f366-c5f6-4344-bee3-432cdd81a2a2')\"\n",
              "              title=\"Suggest charts.\"\n",
              "              style=\"display:none;\">\n",
              "\n",
              "<svg xmlns=\"http://www.w3.org/2000/svg\" height=\"24px\"viewBox=\"0 0 24 24\"\n",
              "     width=\"24px\">\n",
              "    <g>\n",
              "        <path d=\"M19 3H5c-1.1 0-2 .9-2 2v14c0 1.1.9 2 2 2h14c1.1 0 2-.9 2-2V5c0-1.1-.9-2-2-2zM9 17H7v-7h2v7zm4 0h-2V7h2v10zm4 0h-2v-4h2v4z\"/>\n",
              "    </g>\n",
              "</svg>\n",
              "      </button>\n",
              "    </div>\n",
              "\n",
              "<style>\n",
              "  .colab-df-quickchart {\n",
              "    background-color: #E8F0FE;\n",
              "    border: none;\n",
              "    border-radius: 50%;\n",
              "    cursor: pointer;\n",
              "    display: none;\n",
              "    fill: #1967D2;\n",
              "    height: 32px;\n",
              "    padding: 0 0 0 0;\n",
              "    width: 32px;\n",
              "  }\n",
              "\n",
              "  .colab-df-quickchart:hover {\n",
              "    background-color: #E2EBFA;\n",
              "    box-shadow: 0px 1px 2px rgba(60, 64, 67, 0.3), 0px 1px 3px 1px rgba(60, 64, 67, 0.15);\n",
              "    fill: #174EA6;\n",
              "  }\n",
              "\n",
              "  [theme=dark] .colab-df-quickchart {\n",
              "    background-color: #3B4455;\n",
              "    fill: #D2E3FC;\n",
              "  }\n",
              "\n",
              "  [theme=dark] .colab-df-quickchart:hover {\n",
              "    background-color: #434B5C;\n",
              "    box-shadow: 0px 1px 3px 1px rgba(0, 0, 0, 0.15);\n",
              "    filter: drop-shadow(0px 1px 2px rgba(0, 0, 0, 0.3));\n",
              "    fill: #FFFFFF;\n",
              "  }\n",
              "</style>\n",
              "\n",
              "    <script>\n",
              "      async function quickchart(key) {\n",
              "        const containerElement = document.querySelector('#' + key);\n",
              "        const charts = await google.colab.kernel.invokeFunction(\n",
              "            'suggestCharts', [key], {});\n",
              "      }\n",
              "    </script>\n",
              "\n",
              "      <script>\n",
              "\n",
              "function displayQuickchartButton(domScope) {\n",
              "  let quickchartButtonEl =\n",
              "    domScope.querySelector('#df-1091f366-c5f6-4344-bee3-432cdd81a2a2 button.colab-df-quickchart');\n",
              "  quickchartButtonEl.style.display =\n",
              "    google.colab.kernel.accessAllowed ? 'block' : 'none';\n",
              "}\n",
              "\n",
              "        displayQuickchartButton(document);\n",
              "      </script>\n",
              "      <style>\n",
              "    .colab-df-container {\n",
              "      display:flex;\n",
              "      flex-wrap:wrap;\n",
              "      gap: 12px;\n",
              "    }\n",
              "\n",
              "    .colab-df-convert {\n",
              "      background-color: #E8F0FE;\n",
              "      border: none;\n",
              "      border-radius: 50%;\n",
              "      cursor: pointer;\n",
              "      display: none;\n",
              "      fill: #1967D2;\n",
              "      height: 32px;\n",
              "      padding: 0 0 0 0;\n",
              "      width: 32px;\n",
              "    }\n",
              "\n",
              "    .colab-df-convert:hover {\n",
              "      background-color: #E2EBFA;\n",
              "      box-shadow: 0px 1px 2px rgba(60, 64, 67, 0.3), 0px 1px 3px 1px rgba(60, 64, 67, 0.15);\n",
              "      fill: #174EA6;\n",
              "    }\n",
              "\n",
              "    [theme=dark] .colab-df-convert {\n",
              "      background-color: #3B4455;\n",
              "      fill: #D2E3FC;\n",
              "    }\n",
              "\n",
              "    [theme=dark] .colab-df-convert:hover {\n",
              "      background-color: #434B5C;\n",
              "      box-shadow: 0px 1px 3px 1px rgba(0, 0, 0, 0.15);\n",
              "      filter: drop-shadow(0px 1px 2px rgba(0, 0, 0, 0.3));\n",
              "      fill: #FFFFFF;\n",
              "    }\n",
              "  </style>\n",
              "\n",
              "      <script>\n",
              "        const buttonEl =\n",
              "          document.querySelector('#df-deaf561b-4f71-488a-b648-561310175a77 button.colab-df-convert');\n",
              "        buttonEl.style.display =\n",
              "          google.colab.kernel.accessAllowed ? 'block' : 'none';\n",
              "\n",
              "        async function convertToInteractive(key) {\n",
              "          const element = document.querySelector('#df-deaf561b-4f71-488a-b648-561310175a77');\n",
              "          const dataTable =\n",
              "            await google.colab.kernel.invokeFunction('convertToInteractive',\n",
              "                                                     [key], {});\n",
              "          if (!dataTable) return;\n",
              "\n",
              "          const docLinkHtml = 'Like what you see? Visit the ' +\n",
              "            '<a target=\"_blank\" href=https://colab.research.google.com/notebooks/data_table.ipynb>data table notebook</a>'\n",
              "            + ' to learn more about interactive tables.';\n",
              "          element.innerHTML = '';\n",
              "          dataTable['output_type'] = 'display_data';\n",
              "          await google.colab.output.renderOutput(dataTable, element);\n",
              "          const docLink = document.createElement('div');\n",
              "          docLink.innerHTML = docLinkHtml;\n",
              "          element.appendChild(docLink);\n",
              "        }\n",
              "      </script>\n",
              "    </div>\n",
              "  </div>\n"
            ]
          },
          "metadata": {},
          "execution_count": 27
        }
      ]
    },
    {
      "cell_type": "code",
      "source": [
        "dataset.info()"
      ],
      "metadata": {
        "colab": {
          "base_uri": "https://localhost:8080/"
        },
        "id": "e8wOPklrYuX8",
        "outputId": "d0eef753-6c3e-452c-9e4b-c7b871720e22"
      },
      "execution_count": 28,
      "outputs": [
        {
          "output_type": "stream",
          "name": "stdout",
          "text": [
            "<class 'pandas.core.frame.DataFrame'>\n",
            "RangeIndex: 21459 entries, 0 to 21458\n",
            "Data columns (total 2 columns):\n",
            " #   Column   Non-Null Count  Dtype \n",
            "---  ------   --------------  ----- \n",
            " 0   Text     21459 non-null  object\n",
            " 1   Emotion  21444 non-null  object\n",
            "dtypes: object(2)\n",
            "memory usage: 335.4+ KB\n"
          ]
        }
      ]
    },
    {
      "cell_type": "code",
      "source": [
        "# Visualização dos tipos de dados\n",
        "dataset.dtypes"
      ],
      "metadata": {
        "colab": {
          "base_uri": "https://localhost:8080/"
        },
        "id": "8pydfIJmYxZO",
        "outputId": "fe06e486-91df-4327-c119-440a437aeb74"
      },
      "execution_count": 29,
      "outputs": [
        {
          "output_type": "execute_result",
          "data": {
            "text/plain": [
              "Text       object\n",
              "Emotion    object\n",
              "dtype: object"
            ]
          },
          "metadata": {},
          "execution_count": 29
        }
      ]
    },
    {
      "cell_type": "code",
      "source": [
        "# Visualização da quantidade de linhas por coluna\n",
        "dataset.count()"
      ],
      "metadata": {
        "colab": {
          "base_uri": "https://localhost:8080/"
        },
        "id": "Rrp2yolQY0nM",
        "outputId": "9af1a0b0-9acf-4a06-acda-ff25d5c8dacb"
      },
      "execution_count": 30,
      "outputs": [
        {
          "output_type": "execute_result",
          "data": {
            "text/plain": [
              "Text       21459\n",
              "Emotion    21444\n",
              "dtype: int64"
            ]
          },
          "metadata": {},
          "execution_count": 30
        }
      ]
    },
    {
      "cell_type": "code",
      "source": [
        "# Verificação de nulls do dataset\n",
        "dataset.isnull().sum()"
      ],
      "metadata": {
        "colab": {
          "base_uri": "https://localhost:8080/"
        },
        "id": "xZf4qG2aY3Ts",
        "outputId": "f9dd7129-c8c7-4f72-b8fb-6a2534e8d09d"
      },
      "execution_count": 31,
      "outputs": [
        {
          "output_type": "execute_result",
          "data": {
            "text/plain": [
              "Text        0\n",
              "Emotion    15\n",
              "dtype: int64"
            ]
          },
          "metadata": {},
          "execution_count": 31
        }
      ]
    },
    {
      "cell_type": "markdown",
      "source": [
        "*Através das duas últimas visualizações verificamos que a coluna Emotion tem linhas com null.*"
      ],
      "metadata": {
        "id": "eoI-egnNY6zY"
      }
    },
    {
      "cell_type": "markdown",
      "source": [
        "**5. Pré-processamento. (a) Tratamento de Missings; (b) Transformação Categórica; (c) Separação dos dados entre treino e teste; (d) Tokenização - limpeza e transformação dos dados em informações estruturadas.**"
      ],
      "metadata": {
        "id": "ZnEmDNG3Y-4K"
      }
    },
    {
      "cell_type": "markdown",
      "source": [
        "**(a) Tratamento de Missings.**"
      ],
      "metadata": {
        "id": "yMGVs1cyZCB3"
      }
    },
    {
      "cell_type": "code",
      "source": [
        "# Dataset antes do tratamento\n",
        "dataset_antes = dataset.shape\n",
        "print(\"Antes do tratamento:\\t\", dataset_antes)\n",
        "\n",
        "dataset.dropna(subset=['Emotion'], inplace=True)\n",
        "\n",
        "# Dataset depois do tratamento\n",
        "dataset_depois = dataset.shape\n",
        "print(\"Depois do tratamento:\\t\", dataset_depois)"
      ],
      "metadata": {
        "colab": {
          "base_uri": "https://localhost:8080/"
        },
        "id": "k2srOlYoZFFm",
        "outputId": "955cf442-99c0-411b-d594-61a5810370a7"
      },
      "execution_count": 32,
      "outputs": [
        {
          "output_type": "stream",
          "name": "stdout",
          "text": [
            "Antes do tratamento:\t (21459, 2)\n",
            "Depois do tratamento:\t (21444, 2)\n"
          ]
        }
      ]
    },
    {
      "cell_type": "markdown",
      "source": [
        "*Foi efetuado um tratamento para a eliminação dos nulls através do metódo dropna. Com isso o dataset passou a ter a mesma quantidade de linhas para ambas colunas.*"
      ],
      "metadata": {
        "id": "kK1JvhadZIUF"
      }
    },
    {
      "cell_type": "code",
      "source": [
        "# Verificação dos nulls após o tratamento\n",
        "dataset.isnull().sum()"
      ],
      "metadata": {
        "colab": {
          "base_uri": "https://localhost:8080/"
        },
        "id": "tz4CcdbxZL0A",
        "outputId": "6f4be970-871e-4dfb-d3ad-fe82bdb1d35c"
      },
      "execution_count": 33,
      "outputs": [
        {
          "output_type": "execute_result",
          "data": {
            "text/plain": [
              "Text       0\n",
              "Emotion    0\n",
              "dtype: int64"
            ]
          },
          "metadata": {},
          "execution_count": 33
        }
      ]
    },
    {
      "cell_type": "code",
      "source": [
        "# Visualização da quantidade de linhas por coluna após o tratamento\n",
        "dataset.count()"
      ],
      "metadata": {
        "colab": {
          "base_uri": "https://localhost:8080/"
        },
        "id": "0rEBUT_lZPBq",
        "outputId": "8ad319d9-f324-426c-dbad-bea0f541c737"
      },
      "execution_count": 34,
      "outputs": [
        {
          "output_type": "execute_result",
          "data": {
            "text/plain": [
              "Text       21444\n",
              "Emotion    21444\n",
              "dtype: int64"
            ]
          },
          "metadata": {},
          "execution_count": 34
        }
      ]
    },
    {
      "cell_type": "markdown",
      "source": [
        "*As duas últimas visualizações confirmam que o tratamento foi eficaz.*"
      ],
      "metadata": {
        "id": "5516UQGDZSiq"
      }
    },
    {
      "cell_type": "markdown",
      "source": [
        "**(b) Transformação Categórica.**"
      ],
      "metadata": {
        "id": "dPJnz50CZVWu"
      }
    },
    {
      "cell_type": "code",
      "source": [
        "# One Hot Encoding\n",
        "category = pd.get_dummies(dataset.Emotion)\n",
        "dataset1 = pd.concat([dataset, category], axis=1)\n",
        "dataset1 = dataset1.drop(columns='Emotion')"
      ],
      "metadata": {
        "id": "JMHjmNR3ZYqx"
      },
      "execution_count": 35,
      "outputs": []
    },
    {
      "cell_type": "markdown",
      "source": [
        "*Transformando dados categóricos em dados numéricos.*"
      ],
      "metadata": {
        "id": "WbZsPvZ0Zbie"
      }
    },
    {
      "cell_type": "markdown",
      "source": [
        "**(c) Separação dos dados entre treino e teste.**"
      ],
      "metadata": {
        "id": "D4nhHzDqZecB"
      }
    },
    {
      "cell_type": "code",
      "source": [
        "X = dataset1['Text'].values\n",
        "y = dataset1[['happy', 'sadness', 'anger', 'fear', 'love', 'surprise']].values"
      ],
      "metadata": {
        "id": "mEtV0bV5Zh-x"
      },
      "execution_count": 36,
      "outputs": []
    },
    {
      "cell_type": "code",
      "source": [
        "X_train, X_test, y_train, y_test = train_test_split(X, y, test_size=0.2, random_state=1)"
      ],
      "metadata": {
        "id": "DjYzk7TWZk-A"
      },
      "execution_count": 37,
      "outputs": []
    },
    {
      "cell_type": "markdown",
      "source": [
        "**(d) Tokenização - limpeza e transformação dos dados em informações estruturadas.**"
      ],
      "metadata": {
        "id": "-ln7fDTnZp_3"
      }
    },
    {
      "cell_type": "code",
      "source": [
        "tokenizer = Tokenizer(num_words = 5000, oov_token='<x>', filters='!\"#$%&()*+,-./:;<=>?@[\\\\]^_`{|}~\\t\\n', lower=True)\n",
        "tokenizer.fit_on_texts(X_train)\n",
        "tokenizer.fit_on_texts(X_test)\n",
        "\n",
        "Seq_train = tokenizer.texts_to_sequences(X_train)\n",
        "Seq_test = tokenizer.texts_to_sequences(X_test)\n",
        "\n",
        "Pad_train = pad_sequences(Seq_train)\n",
        "Pad_test = pad_sequences(Seq_test)"
      ],
      "metadata": {
        "id": "K05jW1lpZtKM"
      },
      "execution_count": 38,
      "outputs": []
    },
    {
      "cell_type": "markdown",
      "source": [
        "**6. Modelagem e Inferência.**"
      ],
      "metadata": {
        "id": "DN2v5LBnZwtw"
      }
    },
    {
      "cell_type": "code",
      "source": [
        "model = Sequential([\n",
        "    Embedding(input_dim = 5000, output_dim = 24),\n",
        "    BatchNormalization(),\n",
        "    LSTM(128, return_sequences=True),\n",
        "    BatchNormalization(),\n",
        "    LSTM(128),\n",
        "    Dropout(0.2),\n",
        "    BatchNormalization(),\n",
        "    Dense(1024, activation='relu'),\n",
        "    Dropout(0.2),\n",
        "    BatchNormalization(),\n",
        "    Dense(512, activation='relu'),\n",
        "    Dropout(0.2),\n",
        "    BatchNormalization(),\n",
        "    Dense(256, activation='relu'),\n",
        "    Dropout(0.2),\n",
        "    BatchNormalization(),\n",
        "    Dense(128, activation='relu'),\n",
        "    Dropout(0.2),\n",
        "    BatchNormalization(),\n",
        "    Dense(64, activation='relu'),\n",
        "    Dropout(0.2),\n",
        "    BatchNormalization(),\n",
        "    Dense(6, activation='softmax')\n",
        "])"
      ],
      "metadata": {
        "id": "xzZSuqBIZzi_"
      },
      "execution_count": 39,
      "outputs": []
    },
    {
      "cell_type": "markdown",
      "source": [
        "*Criação do modelo e camadas com as funções de ativação relu e softmax.*"
      ],
      "metadata": {
        "id": "Pc4UadszZ2iC"
      }
    },
    {
      "cell_type": "code",
      "source": [
        "class callbackTarget(Callback):\n",
        "  def on_epoch_end(self, epoch, logs={}):\n",
        "    if(logs.get('val_accuracy') >= 0.91 and logs.get('accuracy') >= 0.91):\n",
        "      print('\\nVal_accuracy and accuracy has reached >= 91%!')\n",
        "      self.model.stop_training = True\n",
        "\n",
        "callbacks = callbackTarget()\n",
        "\n",
        "LR_reduction = ReduceLROnPlateau(\n",
        "    monitor = 'val_loss',\n",
        "    patience = 3,\n",
        "    verbose = 1,\n",
        "    factor = 0.2,\n",
        "    min_lr = 0.000003\n",
        ")"
      ],
      "metadata": {
        "id": "_-kDzFz4Z6UA"
      },
      "execution_count": 40,
      "outputs": []
    },
    {
      "cell_type": "code",
      "source": [
        "model.compile(\n",
        "    optimizer='adam',\n",
        "    loss='categorical_crossentropy',\n",
        "    metrics=['accuracy']\n",
        ")"
      ],
      "metadata": {
        "id": "5dMkBKBkZ9m0"
      },
      "execution_count": 41,
      "outputs": []
    },
    {
      "cell_type": "markdown",
      "source": [
        "**7. Treinamento do Modelo.**"
      ],
      "metadata": {
        "id": "wwD3g9w8aAFv"
      }
    },
    {
      "cell_type": "code",
      "source": [
        "history = model.fit(\n",
        "    Pad_train, y_train,\n",
        "    epochs = 100,\n",
        "    batch_size = 128,\n",
        "    validation_data = (Pad_test, y_test),\n",
        "    verbose = 1,\n",
        "    callbacks = [callbacks, LR_reduction]\n",
        ")"
      ],
      "metadata": {
        "colab": {
          "base_uri": "https://localhost:8080/"
        },
        "id": "2uy9VsikaD8j",
        "outputId": "ef354d92-c83a-41f2-e52f-d60a5951e2e4"
      },
      "execution_count": 42,
      "outputs": [
        {
          "output_type": "stream",
          "name": "stdout",
          "text": [
            "Epoch 1/100\n",
            "135/135 [==============================] - 77s 500ms/step - loss: 1.8764 - accuracy: 0.2311 - val_loss: 1.5488 - val_accuracy: 0.3574 - lr: 0.0010\n",
            "Epoch 2/100\n",
            "135/135 [==============================] - 68s 506ms/step - loss: 1.5905 - accuracy: 0.3337 - val_loss: 1.5255 - val_accuracy: 0.2882 - lr: 0.0010\n",
            "Epoch 3/100\n",
            "135/135 [==============================] - 71s 529ms/step - loss: 1.4146 - accuracy: 0.4480 - val_loss: 2.0801 - val_accuracy: 0.3350 - lr: 0.0010\n",
            "Epoch 4/100\n",
            "135/135 [==============================] - 67s 496ms/step - loss: 1.1506 - accuracy: 0.5609 - val_loss: 1.8950 - val_accuracy: 0.4045 - lr: 0.0010\n",
            "Epoch 5/100\n",
            "135/135 [==============================] - 68s 501ms/step - loss: 0.9307 - accuracy: 0.6339 - val_loss: 0.9584 - val_accuracy: 0.5917 - lr: 0.0010\n",
            "Epoch 6/100\n",
            "135/135 [==============================] - 67s 496ms/step - loss: 0.7396 - accuracy: 0.6849 - val_loss: 0.7542 - val_accuracy: 0.6587 - lr: 0.0010\n",
            "Epoch 7/100\n",
            "135/135 [==============================] - 67s 497ms/step - loss: 0.6705 - accuracy: 0.7002 - val_loss: 0.6789 - val_accuracy: 0.7034 - lr: 0.0010\n",
            "Epoch 8/100\n",
            "135/135 [==============================] - 73s 539ms/step - loss: 0.6119 - accuracy: 0.7202 - val_loss: 0.8493 - val_accuracy: 0.6934 - lr: 0.0010\n",
            "Epoch 9/100\n",
            "135/135 [==============================] - 67s 494ms/step - loss: 0.6656 - accuracy: 0.7101 - val_loss: 1.5108 - val_accuracy: 0.5703 - lr: 0.0010\n",
            "Epoch 10/100\n",
            "135/135 [==============================] - ETA: 0s - loss: 0.7266 - accuracy: 0.6936\n",
            "Epoch 10: ReduceLROnPlateau reducing learning rate to 0.00020000000949949026.\n",
            "135/135 [==============================] - 73s 539ms/step - loss: 0.7266 - accuracy: 0.6936 - val_loss: 0.8340 - val_accuracy: 0.6722 - lr: 0.0010\n",
            "Epoch 11/100\n",
            "135/135 [==============================] - 67s 497ms/step - loss: 0.5577 - accuracy: 0.7446 - val_loss: 0.5894 - val_accuracy: 0.7235 - lr: 2.0000e-04\n",
            "Epoch 12/100\n",
            "135/135 [==============================] - 72s 529ms/step - loss: 0.5752 - accuracy: 0.7407 - val_loss: 0.5541 - val_accuracy: 0.7321 - lr: 2.0000e-04\n",
            "Epoch 13/100\n",
            "135/135 [==============================] - 67s 499ms/step - loss: 0.5282 - accuracy: 0.7488 - val_loss: 0.5476 - val_accuracy: 0.7375 - lr: 2.0000e-04\n",
            "Epoch 14/100\n",
            "135/135 [==============================] - 72s 536ms/step - loss: 0.5211 - accuracy: 0.7560 - val_loss: 0.5428 - val_accuracy: 0.7382 - lr: 2.0000e-04\n",
            "Epoch 15/100\n",
            "135/135 [==============================] - 68s 504ms/step - loss: 0.5227 - accuracy: 0.7518 - val_loss: 0.5539 - val_accuracy: 0.7372 - lr: 2.0000e-04\n",
            "Epoch 16/100\n",
            "135/135 [==============================] - 72s 533ms/step - loss: 0.5188 - accuracy: 0.7579 - val_loss: 0.5470 - val_accuracy: 0.7412 - lr: 2.0000e-04\n",
            "Epoch 17/100\n",
            "135/135 [==============================] - ETA: 0s - loss: 0.4957 - accuracy: 0.7644\n",
            "Epoch 17: ReduceLROnPlateau reducing learning rate to 4.0000001899898055e-05.\n",
            "135/135 [==============================] - 67s 496ms/step - loss: 0.4957 - accuracy: 0.7644 - val_loss: 0.5489 - val_accuracy: 0.7428 - lr: 2.0000e-04\n",
            "Epoch 18/100\n",
            "135/135 [==============================] - 68s 508ms/step - loss: 0.4838 - accuracy: 0.7680 - val_loss: 0.5439 - val_accuracy: 0.7398 - lr: 4.0000e-05\n",
            "Epoch 19/100\n",
            "135/135 [==============================] - 66s 492ms/step - loss: 0.4902 - accuracy: 0.7651 - val_loss: 0.5392 - val_accuracy: 0.7414 - lr: 4.0000e-05\n",
            "Epoch 20/100\n",
            "135/135 [==============================] - 67s 495ms/step - loss: 0.4876 - accuracy: 0.7632 - val_loss: 0.5389 - val_accuracy: 0.7414 - lr: 4.0000e-05\n",
            "Epoch 21/100\n",
            "135/135 [==============================] - 68s 505ms/step - loss: 0.4945 - accuracy: 0.7655 - val_loss: 0.5420 - val_accuracy: 0.7417 - lr: 4.0000e-05\n",
            "Epoch 22/100\n",
            "135/135 [==============================] - 71s 527ms/step - loss: 0.5056 - accuracy: 0.7601 - val_loss: 0.5525 - val_accuracy: 0.7370 - lr: 4.0000e-05\n",
            "Epoch 23/100\n",
            "135/135 [==============================] - ETA: 0s - loss: 0.4904 - accuracy: 0.7630\n",
            "Epoch 23: ReduceLROnPlateau reducing learning rate to 8.000000525498762e-06.\n",
            "135/135 [==============================] - 68s 504ms/step - loss: 0.4904 - accuracy: 0.7630 - val_loss: 0.5467 - val_accuracy: 0.7363 - lr: 4.0000e-05\n",
            "Epoch 24/100\n",
            "135/135 [==============================] - 67s 493ms/step - loss: 0.4855 - accuracy: 0.7652 - val_loss: 0.5461 - val_accuracy: 0.7377 - lr: 8.0000e-06\n",
            "Epoch 25/100\n",
            "135/135 [==============================] - 67s 498ms/step - loss: 0.4867 - accuracy: 0.7631 - val_loss: 0.5463 - val_accuracy: 0.7363 - lr: 8.0000e-06\n",
            "Epoch 26/100\n",
            "135/135 [==============================] - ETA: 0s - loss: 0.4888 - accuracy: 0.7667\n",
            "Epoch 26: ReduceLROnPlateau reducing learning rate to 3e-06.\n",
            "135/135 [==============================] - 68s 504ms/step - loss: 0.4888 - accuracy: 0.7667 - val_loss: 0.5460 - val_accuracy: 0.7365 - lr: 8.0000e-06\n",
            "Epoch 27/100\n",
            "135/135 [==============================] - 72s 531ms/step - loss: 0.4806 - accuracy: 0.7653 - val_loss: 0.5457 - val_accuracy: 0.7368 - lr: 3.0000e-06\n",
            "Epoch 28/100\n",
            "135/135 [==============================] - 68s 501ms/step - loss: 0.4860 - accuracy: 0.7665 - val_loss: 0.5460 - val_accuracy: 0.7365 - lr: 3.0000e-06\n",
            "Epoch 29/100\n",
            "135/135 [==============================] - 72s 537ms/step - loss: 0.4874 - accuracy: 0.7650 - val_loss: 0.5461 - val_accuracy: 0.7361 - lr: 3.0000e-06\n",
            "Epoch 30/100\n",
            "135/135 [==============================] - 67s 497ms/step - loss: 0.4835 - accuracy: 0.7675 - val_loss: 0.5461 - val_accuracy: 0.7358 - lr: 3.0000e-06\n",
            "Epoch 31/100\n",
            "135/135 [==============================] - 73s 543ms/step - loss: 0.4854 - accuracy: 0.7670 - val_loss: 0.5458 - val_accuracy: 0.7368 - lr: 3.0000e-06\n",
            "Epoch 32/100\n",
            "135/135 [==============================] - 67s 498ms/step - loss: 0.4831 - accuracy: 0.7644 - val_loss: 0.5454 - val_accuracy: 0.7370 - lr: 3.0000e-06\n",
            "Epoch 33/100\n",
            "135/135 [==============================] - 74s 546ms/step - loss: 0.4839 - accuracy: 0.7668 - val_loss: 0.5454 - val_accuracy: 0.7365 - lr: 3.0000e-06\n",
            "Epoch 34/100\n",
            "135/135 [==============================] - 67s 498ms/step - loss: 0.4874 - accuracy: 0.7650 - val_loss: 0.5445 - val_accuracy: 0.7358 - lr: 3.0000e-06\n",
            "Epoch 35/100\n",
            "135/135 [==============================] - 70s 518ms/step - loss: 0.4798 - accuracy: 0.7674 - val_loss: 0.5448 - val_accuracy: 0.7363 - lr: 3.0000e-06\n",
            "Epoch 36/100\n",
            "135/135 [==============================] - 71s 530ms/step - loss: 0.4807 - accuracy: 0.7643 - val_loss: 0.5449 - val_accuracy: 0.7365 - lr: 3.0000e-06\n",
            "Epoch 37/100\n",
            "135/135 [==============================] - 72s 530ms/step - loss: 0.4847 - accuracy: 0.7658 - val_loss: 0.5446 - val_accuracy: 0.7370 - lr: 3.0000e-06\n",
            "Epoch 38/100\n",
            "135/135 [==============================] - 77s 571ms/step - loss: 0.4773 - accuracy: 0.7687 - val_loss: 0.5453 - val_accuracy: 0.7365 - lr: 3.0000e-06\n",
            "Epoch 39/100\n",
            "135/135 [==============================] - 76s 561ms/step - loss: 0.4759 - accuracy: 0.7682 - val_loss: 0.5440 - val_accuracy: 0.7377 - lr: 3.0000e-06\n",
            "Epoch 40/100\n",
            "135/135 [==============================] - 76s 563ms/step - loss: 0.4832 - accuracy: 0.7693 - val_loss: 0.5453 - val_accuracy: 0.7372 - lr: 3.0000e-06\n",
            "Epoch 41/100\n",
            "135/135 [==============================] - 69s 510ms/step - loss: 0.4819 - accuracy: 0.7661 - val_loss: 0.5442 - val_accuracy: 0.7382 - lr: 3.0000e-06\n",
            "Epoch 42/100\n",
            "135/135 [==============================] - 73s 542ms/step - loss: 0.4824 - accuracy: 0.7643 - val_loss: 0.5439 - val_accuracy: 0.7386 - lr: 3.0000e-06\n",
            "Epoch 43/100\n",
            "135/135 [==============================] - 74s 548ms/step - loss: 0.4853 - accuracy: 0.7667 - val_loss: 0.5439 - val_accuracy: 0.7382 - lr: 3.0000e-06\n",
            "Epoch 44/100\n",
            "135/135 [==============================] - 67s 500ms/step - loss: 0.4861 - accuracy: 0.7654 - val_loss: 0.5433 - val_accuracy: 0.7386 - lr: 3.0000e-06\n",
            "Epoch 45/100\n",
            "135/135 [==============================] - 74s 547ms/step - loss: 0.4756 - accuracy: 0.7727 - val_loss: 0.5435 - val_accuracy: 0.7384 - lr: 3.0000e-06\n",
            "Epoch 46/100\n",
            "135/135 [==============================] - 79s 585ms/step - loss: 0.4744 - accuracy: 0.7655 - val_loss: 0.5439 - val_accuracy: 0.7391 - lr: 3.0000e-06\n",
            "Epoch 47/100\n",
            "135/135 [==============================] - 68s 505ms/step - loss: 0.4737 - accuracy: 0.7668 - val_loss: 0.5435 - val_accuracy: 0.7372 - lr: 3.0000e-06\n",
            "Epoch 48/100\n",
            "135/135 [==============================] - 72s 536ms/step - loss: 0.4791 - accuracy: 0.7701 - val_loss: 0.5439 - val_accuracy: 0.7391 - lr: 3.0000e-06\n",
            "Epoch 49/100\n",
            "135/135 [==============================] - 67s 495ms/step - loss: 0.4821 - accuracy: 0.7664 - val_loss: 0.5435 - val_accuracy: 0.7386 - lr: 3.0000e-06\n",
            "Epoch 50/100\n",
            "135/135 [==============================] - 74s 547ms/step - loss: 0.4771 - accuracy: 0.7681 - val_loss: 0.5437 - val_accuracy: 0.7386 - lr: 3.0000e-06\n",
            "Epoch 51/100\n",
            "135/135 [==============================] - 68s 502ms/step - loss: 0.4776 - accuracy: 0.7718 - val_loss: 0.5435 - val_accuracy: 0.7400 - lr: 3.0000e-06\n",
            "Epoch 52/100\n",
            "135/135 [==============================] - 74s 544ms/step - loss: 0.4862 - accuracy: 0.7653 - val_loss: 0.5434 - val_accuracy: 0.7386 - lr: 3.0000e-06\n",
            "Epoch 53/100\n",
            "135/135 [==============================] - 68s 503ms/step - loss: 0.4742 - accuracy: 0.7695 - val_loss: 0.5432 - val_accuracy: 0.7393 - lr: 3.0000e-06\n",
            "Epoch 54/100\n",
            "135/135 [==============================] - 72s 531ms/step - loss: 0.4861 - accuracy: 0.7676 - val_loss: 0.5430 - val_accuracy: 0.7393 - lr: 3.0000e-06\n",
            "Epoch 55/100\n",
            "135/135 [==============================] - 68s 505ms/step - loss: 0.4775 - accuracy: 0.7681 - val_loss: 0.5432 - val_accuracy: 0.7398 - lr: 3.0000e-06\n",
            "Epoch 56/100\n",
            "135/135 [==============================] - 72s 532ms/step - loss: 0.4835 - accuracy: 0.7631 - val_loss: 0.5436 - val_accuracy: 0.7398 - lr: 3.0000e-06\n",
            "Epoch 57/100\n",
            "135/135 [==============================] - 68s 507ms/step - loss: 0.4735 - accuracy: 0.7687 - val_loss: 0.5429 - val_accuracy: 0.7393 - lr: 3.0000e-06\n",
            "Epoch 58/100\n",
            "135/135 [==============================] - 72s 531ms/step - loss: 0.4747 - accuracy: 0.7672 - val_loss: 0.5433 - val_accuracy: 0.7393 - lr: 3.0000e-06\n",
            "Epoch 59/100\n",
            "135/135 [==============================] - 74s 546ms/step - loss: 0.4822 - accuracy: 0.7681 - val_loss: 0.5438 - val_accuracy: 0.7379 - lr: 3.0000e-06\n",
            "Epoch 60/100\n",
            "135/135 [==============================] - 67s 498ms/step - loss: 0.4801 - accuracy: 0.7692 - val_loss: 0.5429 - val_accuracy: 0.7393 - lr: 3.0000e-06\n",
            "Epoch 61/100\n",
            "135/135 [==============================] - 67s 499ms/step - loss: 0.4787 - accuracy: 0.7666 - val_loss: 0.5430 - val_accuracy: 0.7405 - lr: 3.0000e-06\n",
            "Epoch 62/100\n",
            "135/135 [==============================] - 68s 502ms/step - loss: 0.4714 - accuracy: 0.7688 - val_loss: 0.5431 - val_accuracy: 0.7396 - lr: 3.0000e-06\n",
            "Epoch 63/100\n",
            "135/135 [==============================] - 67s 498ms/step - loss: 0.4784 - accuracy: 0.7686 - val_loss: 0.5447 - val_accuracy: 0.7386 - lr: 3.0000e-06\n",
            "Epoch 64/100\n",
            "135/135 [==============================] - 74s 545ms/step - loss: 0.4809 - accuracy: 0.7664 - val_loss: 0.5448 - val_accuracy: 0.7389 - lr: 3.0000e-06\n",
            "Epoch 65/100\n",
            "135/135 [==============================] - 66s 492ms/step - loss: 0.4816 - accuracy: 0.7678 - val_loss: 0.5434 - val_accuracy: 0.7396 - lr: 3.0000e-06\n",
            "Epoch 66/100\n",
            "135/135 [==============================] - 67s 497ms/step - loss: 0.4767 - accuracy: 0.7693 - val_loss: 0.5435 - val_accuracy: 0.7400 - lr: 3.0000e-06\n",
            "Epoch 67/100\n",
            "135/135 [==============================] - 73s 541ms/step - loss: 0.4741 - accuracy: 0.7701 - val_loss: 0.5436 - val_accuracy: 0.7389 - lr: 3.0000e-06\n",
            "Epoch 68/100\n",
            "135/135 [==============================] - 72s 535ms/step - loss: 0.4693 - accuracy: 0.7723 - val_loss: 0.5433 - val_accuracy: 0.7396 - lr: 3.0000e-06\n",
            "Epoch 69/100\n",
            "135/135 [==============================] - 68s 506ms/step - loss: 0.4784 - accuracy: 0.7679 - val_loss: 0.5429 - val_accuracy: 0.7405 - lr: 3.0000e-06\n",
            "Epoch 70/100\n",
            "135/135 [==============================] - 67s 499ms/step - loss: 0.4784 - accuracy: 0.7686 - val_loss: 0.5432 - val_accuracy: 0.7386 - lr: 3.0000e-06\n",
            "Epoch 71/100\n",
            "135/135 [==============================] - 68s 506ms/step - loss: 0.4739 - accuracy: 0.7673 - val_loss: 0.5430 - val_accuracy: 0.7400 - lr: 3.0000e-06\n",
            "Epoch 72/100\n",
            "135/135 [==============================] - 66s 491ms/step - loss: 0.4731 - accuracy: 0.7711 - val_loss: 0.5436 - val_accuracy: 0.7400 - lr: 3.0000e-06\n",
            "Epoch 73/100\n",
            "135/135 [==============================] - 67s 497ms/step - loss: 0.4759 - accuracy: 0.7692 - val_loss: 0.5431 - val_accuracy: 0.7398 - lr: 3.0000e-06\n",
            "Epoch 74/100\n",
            "135/135 [==============================] - 73s 538ms/step - loss: 0.4775 - accuracy: 0.7707 - val_loss: 0.5428 - val_accuracy: 0.7400 - lr: 3.0000e-06\n",
            "Epoch 75/100\n",
            "135/135 [==============================] - 72s 536ms/step - loss: 0.4754 - accuracy: 0.7696 - val_loss: 0.5437 - val_accuracy: 0.7393 - lr: 3.0000e-06\n",
            "Epoch 76/100\n",
            "135/135 [==============================] - 68s 505ms/step - loss: 0.4839 - accuracy: 0.7657 - val_loss: 0.5444 - val_accuracy: 0.7398 - lr: 3.0000e-06\n",
            "Epoch 77/100\n",
            "135/135 [==============================] - 72s 535ms/step - loss: 0.4786 - accuracy: 0.7718 - val_loss: 0.5445 - val_accuracy: 0.7396 - lr: 3.0000e-06\n",
            "Epoch 78/100\n",
            "135/135 [==============================] - 68s 502ms/step - loss: 0.4729 - accuracy: 0.7671 - val_loss: 0.5446 - val_accuracy: 0.7393 - lr: 3.0000e-06\n",
            "Epoch 79/100\n",
            "135/135 [==============================] - 72s 534ms/step - loss: 0.4758 - accuracy: 0.7704 - val_loss: 0.5449 - val_accuracy: 0.7400 - lr: 3.0000e-06\n",
            "Epoch 80/100\n",
            "135/135 [==============================] - 67s 498ms/step - loss: 0.4798 - accuracy: 0.7679 - val_loss: 0.5439 - val_accuracy: 0.7398 - lr: 3.0000e-06\n",
            "Epoch 81/100\n",
            "135/135 [==============================] - 73s 543ms/step - loss: 0.4742 - accuracy: 0.7711 - val_loss: 0.5440 - val_accuracy: 0.7396 - lr: 3.0000e-06\n",
            "Epoch 82/100\n",
            "135/135 [==============================] - 77s 572ms/step - loss: 0.4705 - accuracy: 0.7740 - val_loss: 0.5444 - val_accuracy: 0.7400 - lr: 3.0000e-06\n",
            "Epoch 83/100\n",
            "135/135 [==============================] - 68s 506ms/step - loss: 0.4747 - accuracy: 0.7688 - val_loss: 0.5440 - val_accuracy: 0.7396 - lr: 3.0000e-06\n",
            "Epoch 84/100\n",
            "135/135 [==============================] - 75s 553ms/step - loss: 0.4700 - accuracy: 0.7682 - val_loss: 0.5450 - val_accuracy: 0.7386 - lr: 3.0000e-06\n",
            "Epoch 85/100\n",
            "135/135 [==============================] - 74s 551ms/step - loss: 0.4781 - accuracy: 0.7663 - val_loss: 0.5440 - val_accuracy: 0.7396 - lr: 3.0000e-06\n",
            "Epoch 86/100\n",
            "135/135 [==============================] - 69s 509ms/step - loss: 0.4742 - accuracy: 0.7690 - val_loss: 0.5439 - val_accuracy: 0.7400 - lr: 3.0000e-06\n",
            "Epoch 87/100\n",
            "135/135 [==============================] - 72s 534ms/step - loss: 0.4672 - accuracy: 0.7734 - val_loss: 0.5448 - val_accuracy: 0.7396 - lr: 3.0000e-06\n",
            "Epoch 88/100\n",
            "135/135 [==============================] - 67s 496ms/step - loss: 0.4694 - accuracy: 0.7699 - val_loss: 0.5446 - val_accuracy: 0.7400 - lr: 3.0000e-06\n",
            "Epoch 89/100\n",
            "135/135 [==============================] - 75s 553ms/step - loss: 0.4692 - accuracy: 0.7721 - val_loss: 0.5446 - val_accuracy: 0.7410 - lr: 3.0000e-06\n",
            "Epoch 90/100\n",
            "135/135 [==============================] - 69s 508ms/step - loss: 0.4706 - accuracy: 0.7661 - val_loss: 0.5445 - val_accuracy: 0.7403 - lr: 3.0000e-06\n",
            "Epoch 91/100\n",
            "135/135 [==============================] - 67s 496ms/step - loss: 0.4669 - accuracy: 0.7734 - val_loss: 0.5443 - val_accuracy: 0.7403 - lr: 3.0000e-06\n",
            "Epoch 92/100\n",
            "135/135 [==============================] - 74s 549ms/step - loss: 0.4750 - accuracy: 0.7686 - val_loss: 0.5442 - val_accuracy: 0.7400 - lr: 3.0000e-06\n",
            "Epoch 93/100\n",
            "135/135 [==============================] - 66s 491ms/step - loss: 0.4659 - accuracy: 0.7745 - val_loss: 0.5455 - val_accuracy: 0.7403 - lr: 3.0000e-06\n",
            "Epoch 94/100\n",
            "135/135 [==============================] - 67s 496ms/step - loss: 0.4693 - accuracy: 0.7692 - val_loss: 0.5456 - val_accuracy: 0.7393 - lr: 3.0000e-06\n",
            "Epoch 95/100\n",
            "135/135 [==============================] - 71s 529ms/step - loss: 0.4726 - accuracy: 0.7732 - val_loss: 0.5453 - val_accuracy: 0.7400 - lr: 3.0000e-06\n",
            "Epoch 96/100\n",
            "135/135 [==============================] - 67s 494ms/step - loss: 0.4717 - accuracy: 0.7686 - val_loss: 0.5453 - val_accuracy: 0.7396 - lr: 3.0000e-06\n",
            "Epoch 97/100\n",
            "135/135 [==============================] - 67s 498ms/step - loss: 0.4715 - accuracy: 0.7723 - val_loss: 0.5449 - val_accuracy: 0.7400 - lr: 3.0000e-06\n",
            "Epoch 98/100\n",
            "135/135 [==============================] - 72s 537ms/step - loss: 0.4699 - accuracy: 0.7700 - val_loss: 0.5443 - val_accuracy: 0.7400 - lr: 3.0000e-06\n",
            "Epoch 99/100\n",
            "135/135 [==============================] - 82s 609ms/step - loss: 0.4714 - accuracy: 0.7692 - val_loss: 0.5449 - val_accuracy: 0.7405 - lr: 3.0000e-06\n",
            "Epoch 100/100\n",
            "135/135 [==============================] - 77s 570ms/step - loss: 0.4682 - accuracy: 0.7713 - val_loss: 0.5454 - val_accuracy: 0.7400 - lr: 3.0000e-06\n"
          ]
        }
      ]
    },
    {
      "cell_type": "markdown",
      "source": [
        "**8. Avaliação.**"
      ],
      "metadata": {
        "id": "qYbvfcl4aGkN"
      }
    },
    {
      "cell_type": "code",
      "source": [
        "plt.plot(history.history['loss'])\n",
        "plt.plot(history.history['val_loss'])\n",
        "plt.title('Model Loss')\n",
        "plt.ylabel('Loss')\n",
        "plt.xlabel('Epochs')\n",
        "plt.legend(['train', 'test'], loc = 'upper right')\n",
        "plt.show()\n",
        "\n",
        "plt.plot(history.history['accuracy'])\n",
        "plt.plot(history.history['val_accuracy'])\n",
        "plt.title('Model Accuracy')\n",
        "plt.ylabel('Accuracy')\n",
        "plt.xlabel('Epoch')\n",
        "plt.legend(['train', 'test'], loc='lower right')\n",
        "plt.show()"
      ],
      "metadata": {
        "colab": {
          "base_uri": "https://localhost:8080/",
          "height": 927
        },
        "id": "ajODLXq2aKPm",
        "outputId": "7c0704c3-2b25-443b-f135-2ce7e0fdc8b1"
      },
      "execution_count": 43,
      "outputs": [
        {
          "output_type": "display_data",
          "data": {
            "text/plain": [
              "<Figure size 640x480 with 1 Axes>"
            ],
            "image/png": "[encoded data removed]"
          },
          "metadata": {}
        },
        {
          "output_type": "display_data",
          "data": {
            "text/plain": [
              "<Figure size 640x480 with 1 Axes>"
            ],
            "image/png": "[encoded data removed]"
          },
          "metadata": {}
        }
      ]
    },
    {
      "cell_type": "markdown",
      "source": [
        "*Atráves dos gráficos podemos verificar que o modelo teve desempenho similar nos dados de treinamento e teste, obtendo uma acurácia razoável.*"
      ],
      "metadata": {
        "id": "noSigQvSaOBG"
      }
    }
  ]
}