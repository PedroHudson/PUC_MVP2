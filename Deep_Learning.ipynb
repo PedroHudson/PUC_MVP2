{
  "nbformat": 4,
  "nbformat_minor": 0,
  "metadata": {
    "colab": {
      "provenance": [],
      "authorship_tag": "ABX9TyOjpXucSJGo/SaHyjdDnqMY",
      "include_colab_link": true
    },
    "kernelspec": {
      "name": "python3",
      "display_name": "Python 3"
    },
    "language_info": {
      "name": "python"
    }
  },
  "cells": [
    {
      "cell_type": "markdown",
      "metadata": {
        "id": "view-in-github",
        "colab_type": "text"
      },
      "source": [
        "<a href=\"https://colab.research.google.com/github/PedroHudson/PUC_MVP2/blob/main/Deep_Learning.ipynb\" target=\"_parent\"><img src=\"https://colab.research.google.com/assets/colab-badge.svg\" alt=\"Open In Colab\"/></a>"
      ]
    },
    {
      "cell_type": "code",
      "execution_count": null,
      "metadata": {
        "id": "DC8GLu97-fyw"
      },
      "outputs": [],
      "source": [
        "# Configuração para não exibir Warnings\n",
        "import warnings\n",
        "warnings.filterwarnings('ignore')\n",
        "\n",
        "# Importação do Pandas\n",
        "import pandas as pd\n",
        "\n",
        "# Importação do Numpy\n",
        "import numpy as np\n",
        "\n",
        "# Importação do MissingNo para tratamento de missings\n",
        "import missingno as ms\n"
      ]
    },
    {
      "cell_type": "code",
      "source": [
        "# Importando dados da url para um dataframe\n",
        "\n",
        "# url a importar\n",
        "\n",
        "url_dados = 'https://github.com/PedroHudson/Deep_Learning/blob/main/emotion.csv?raw=true'\n",
        "\n",
        "# carga do dataset através da url\n",
        "dataset = pd.read_csv(url_dados, sep=';', encoding = 'ISO-8859-1')\n",
        "dataset[['Text', 'Emotion']] = dataset['Text,Emotion'].str.split(',', 1, expand=True)\n",
        "dataset = dataset[['Text', 'Emotion']]\n"
      ],
      "metadata": {
        "id": "UseVEA_y8Hy3"
      },
      "execution_count": null,
      "outputs": []
    },
    {
      "cell_type": "code",
      "source": [
        "dataset.info()"
      ],
      "metadata": {
        "colab": {
          "base_uri": "https://localhost:8080/"
        },
        "id": "wDRLXB2xJAng",
        "outputId": "45e0e63f-1ca1-43de-e682-3f65182eff83"
      },
      "execution_count": null,
      "outputs": [
        {
          "output_type": "stream",
          "name": "stdout",
          "text": [
            "<class 'pandas.core.frame.DataFrame'>\n",
            "RangeIndex: 21459 entries, 0 to 21458\n",
            "Data columns (total 2 columns):\n",
            " #   Column   Non-Null Count  Dtype \n",
            "---  ------   --------------  ----- \n",
            " 0   Text     21459 non-null  object\n",
            " 1   Emotion  21444 non-null  object\n",
            "dtypes: object(2)\n",
            "memory usage: 335.4+ KB\n"
          ]
        }
      ]
    },
    {
      "cell_type": "code",
      "source": [
        "# Visualização da quantidade de instâncias e atributos do dataset\n",
        "dataset.shape"
      ],
      "metadata": {
        "colab": {
          "base_uri": "https://localhost:8080/"
        },
        "id": "4gFS4TSCCwz5",
        "outputId": "be3ca176-6ef7-4fdb-ac38-e728d7d6f4c4"
      },
      "execution_count": null,
      "outputs": [
        {
          "output_type": "execute_result",
          "data": {
            "text/plain": [
              "(21459, 2)"
            ]
          },
          "metadata": {},
          "execution_count": 4
        }
      ]
    },
    {
      "cell_type": "code",
      "source": [
        "# Visualização da quantidade de linhas por coluna\n",
        "dataset.count()"
      ],
      "metadata": {
        "colab": {
          "base_uri": "https://localhost:8080/"
        },
        "id": "vj3lHC_fC61W",
        "outputId": "77450a1f-b734-4be6-fc2c-572cb348e4b2"
      },
      "execution_count": null,
      "outputs": [
        {
          "output_type": "execute_result",
          "data": {
            "text/plain": [
              "Text       21459\n",
              "Emotion    21444\n",
              "dtype: int64"
            ]
          },
          "metadata": {},
          "execution_count": 5
        }
      ]
    },
    {
      "cell_type": "code",
      "source": [
        "# Visualização dos tipos de dados\n",
        "dataset.dtypes"
      ],
      "metadata": {
        "colab": {
          "base_uri": "https://localhost:8080/"
        },
        "id": "nIrwRyWfDBHD",
        "outputId": "59dfb812-7928-425a-d5bd-222c0070c8f6"
      },
      "execution_count": null,
      "outputs": [
        {
          "output_type": "execute_result",
          "data": {
            "text/plain": [
              "Text       object\n",
              "Emotion    object\n",
              "dtype: object"
            ]
          },
          "metadata": {},
          "execution_count": 6
        }
      ]
    },
    {
      "cell_type": "code",
      "source": [
        "# Visualização das primeiras linhas do dataframe\n",
        "dataset.head()"
      ],
      "metadata": {
        "colab": {
          "base_uri": "https://localhost:8080/",
          "height": 206
        },
        "id": "7GUmfOOkDGop",
        "outputId": "c8addd88-d314-4972-9042-950df7e88bad"
      },
      "execution_count": null,
      "outputs": [
        {
          "output_type": "execute_result",
          "data": {
            "text/plain": [
              "                                                Text  Emotion\n",
              "0                            i didnt feel humiliated  sadness\n",
              "1  i can go from feeling so hopeless to so damned...  sadness\n",
              "2   im grabbing a minute to post i feel greedy wrong    anger\n",
              "3  i am ever feeling nostalgic about the fireplac...     love\n",
              "4                               i am feeling grouchy    anger"
            ],
            "text/html": [
              "\n",
              "\n",
              "  <div id=\"df-9266dc07-6521-4fa3-b9fb-68ed8db3ed3e\">\n",
              "    <div class=\"colab-df-container\">\n",
              "      <div>\n",
              "<style scoped>\n",
              "    .dataframe tbody tr th:only-of-type {\n",
              "        vertical-align: middle;\n",
              "    }\n",
              "\n",
              "    .dataframe tbody tr th {\n",
              "        vertical-align: top;\n",
              "    }\n",
              "\n",
              "    .dataframe thead th {\n",
              "        text-align: right;\n",
              "    }\n",
              "</style>\n",
              "<table border=\"1\" class=\"dataframe\">\n",
              "  <thead>\n",
              "    <tr style=\"text-align: right;\">\n",
              "      <th></th>\n",
              "      <th>Text</th>\n",
              "      <th>Emotion</th>\n",
              "    </tr>\n",
              "  </thead>\n",
              "  <tbody>\n",
              "    <tr>\n",
              "      <th>0</th>\n",
              "      <td>i didnt feel humiliated</td>\n",
              "      <td>sadness</td>\n",
              "    </tr>\n",
              "    <tr>\n",
              "      <th>1</th>\n",
              "      <td>i can go from feeling so hopeless to so damned...</td>\n",
              "      <td>sadness</td>\n",
              "    </tr>\n",
              "    <tr>\n",
              "      <th>2</th>\n",
              "      <td>im grabbing a minute to post i feel greedy wrong</td>\n",
              "      <td>anger</td>\n",
              "    </tr>\n",
              "    <tr>\n",
              "      <th>3</th>\n",
              "      <td>i am ever feeling nostalgic about the fireplac...</td>\n",
              "      <td>love</td>\n",
              "    </tr>\n",
              "    <tr>\n",
              "      <th>4</th>\n",
              "      <td>i am feeling grouchy</td>\n",
              "      <td>anger</td>\n",
              "    </tr>\n",
              "  </tbody>\n",
              "</table>\n",
              "</div>\n",
              "      <button class=\"colab-df-convert\" onclick=\"convertToInteractive('df-9266dc07-6521-4fa3-b9fb-68ed8db3ed3e')\"\n",
              "              title=\"Convert this dataframe to an interactive table.\"\n",
              "              style=\"display:none;\">\n",
              "\n",
              "  <svg xmlns=\"http://www.w3.org/2000/svg\" height=\"24px\"viewBox=\"0 0 24 24\"\n",
              "       width=\"24px\">\n",
              "    <path d=\"M0 0h24v24H0V0z\" fill=\"none\"/>\n",
              "    <path d=\"M18.56 5.44l.94 2.06.94-2.06 2.06-.94-2.06-.94-.94-2.06-.94 2.06-2.06.94zm-11 1L8.5 8.5l.94-2.06 2.06-.94-2.06-.94L8.5 2.5l-.94 2.06-2.06.94zm10 10l.94 2.06.94-2.06 2.06-.94-2.06-.94-.94-2.06-.94 2.06-2.06.94z\"/><path d=\"M17.41 7.96l-1.37-1.37c-.4-.4-.92-.59-1.43-.59-.52 0-1.04.2-1.43.59L10.3 9.45l-7.72 7.72c-.78.78-.78 2.05 0 2.83L4 21.41c.39.39.9.59 1.41.59.51 0 1.02-.2 1.41-.59l7.78-7.78 2.81-2.81c.8-.78.8-2.07 0-2.86zM5.41 20L4 18.59l7.72-7.72 1.47 1.35L5.41 20z\"/>\n",
              "  </svg>\n",
              "      </button>\n",
              "\n",
              "\n",
              "\n",
              "    <div id=\"df-5408e2bb-4ee2-4e4a-ab5e-67c58b1e2eda\">\n",
              "      <button class=\"colab-df-quickchart\" onclick=\"quickchart('df-5408e2bb-4ee2-4e4a-ab5e-67c58b1e2eda')\"\n",
              "              title=\"Suggest charts.\"\n",
              "              style=\"display:none;\">\n",
              "\n",
              "<svg xmlns=\"http://www.w3.org/2000/svg\" height=\"24px\"viewBox=\"0 0 24 24\"\n",
              "     width=\"24px\">\n",
              "    <g>\n",
              "        <path d=\"M19 3H5c-1.1 0-2 .9-2 2v14c0 1.1.9 2 2 2h14c1.1 0 2-.9 2-2V5c0-1.1-.9-2-2-2zM9 17H7v-7h2v7zm4 0h-2V7h2v10zm4 0h-2v-4h2v4z\"/>\n",
              "    </g>\n",
              "</svg>\n",
              "      </button>\n",
              "    </div>\n",
              "\n",
              "<style>\n",
              "  .colab-df-quickchart {\n",
              "    background-color: #E8F0FE;\n",
              "    border: none;\n",
              "    border-radius: 50%;\n",
              "    cursor: pointer;\n",
              "    display: none;\n",
              "    fill: #1967D2;\n",
              "    height: 32px;\n",
              "    padding: 0 0 0 0;\n",
              "    width: 32px;\n",
              "  }\n",
              "\n",
              "  .colab-df-quickchart:hover {\n",
              "    background-color: #E2EBFA;\n",
              "    box-shadow: 0px 1px 2px rgba(60, 64, 67, 0.3), 0px 1px 3px 1px rgba(60, 64, 67, 0.15);\n",
              "    fill: #174EA6;\n",
              "  }\n",
              "\n",
              "  [theme=dark] .colab-df-quickchart {\n",
              "    background-color: #3B4455;\n",
              "    fill: #D2E3FC;\n",
              "  }\n",
              "\n",
              "  [theme=dark] .colab-df-quickchart:hover {\n",
              "    background-color: #434B5C;\n",
              "    box-shadow: 0px 1px 3px 1px rgba(0, 0, 0, 0.15);\n",
              "    filter: drop-shadow(0px 1px 2px rgba(0, 0, 0, 0.3));\n",
              "    fill: #FFFFFF;\n",
              "  }\n",
              "</style>\n",
              "\n",
              "    <script>\n",
              "      async function quickchart(key) {\n",
              "        const containerElement = document.querySelector('#' + key);\n",
              "        const charts = await google.colab.kernel.invokeFunction(\n",
              "            'suggestCharts', [key], {});\n",
              "      }\n",
              "    </script>\n",
              "\n",
              "      <script>\n",
              "\n",
              "function displayQuickchartButton(domScope) {\n",
              "  let quickchartButtonEl =\n",
              "    domScope.querySelector('#df-5408e2bb-4ee2-4e4a-ab5e-67c58b1e2eda button.colab-df-quickchart');\n",
              "  quickchartButtonEl.style.display =\n",
              "    google.colab.kernel.accessAllowed ? 'block' : 'none';\n",
              "}\n",
              "\n",
              "        displayQuickchartButton(document);\n",
              "      </script>\n",
              "      <style>\n",
              "    .colab-df-container {\n",
              "      display:flex;\n",
              "      flex-wrap:wrap;\n",
              "      gap: 12px;\n",
              "    }\n",
              "\n",
              "    .colab-df-convert {\n",
              "      background-color: #E8F0FE;\n",
              "      border: none;\n",
              "      border-radius: 50%;\n",
              "      cursor: pointer;\n",
              "      display: none;\n",
              "      fill: #1967D2;\n",
              "      height: 32px;\n",
              "      padding: 0 0 0 0;\n",
              "      width: 32px;\n",
              "    }\n",
              "\n",
              "    .colab-df-convert:hover {\n",
              "      background-color: #E2EBFA;\n",
              "      box-shadow: 0px 1px 2px rgba(60, 64, 67, 0.3), 0px 1px 3px 1px rgba(60, 64, 67, 0.15);\n",
              "      fill: #174EA6;\n",
              "    }\n",
              "\n",
              "    [theme=dark] .colab-df-convert {\n",
              "      background-color: #3B4455;\n",
              "      fill: #D2E3FC;\n",
              "    }\n",
              "\n",
              "    [theme=dark] .colab-df-convert:hover {\n",
              "      background-color: #434B5C;\n",
              "      box-shadow: 0px 1px 3px 1px rgba(0, 0, 0, 0.15);\n",
              "      filter: drop-shadow(0px 1px 2px rgba(0, 0, 0, 0.3));\n",
              "      fill: #FFFFFF;\n",
              "    }\n",
              "  </style>\n",
              "\n",
              "      <script>\n",
              "        const buttonEl =\n",
              "          document.querySelector('#df-9266dc07-6521-4fa3-b9fb-68ed8db3ed3e button.colab-df-convert');\n",
              "        buttonEl.style.display =\n",
              "          google.colab.kernel.accessAllowed ? 'block' : 'none';\n",
              "\n",
              "        async function convertToInteractive(key) {\n",
              "          const element = document.querySelector('#df-9266dc07-6521-4fa3-b9fb-68ed8db3ed3e');\n",
              "          const dataTable =\n",
              "            await google.colab.kernel.invokeFunction('convertToInteractive',\n",
              "                                                     [key], {});\n",
              "          if (!dataTable) return;\n",
              "\n",
              "          const docLinkHtml = 'Like what you see? Visit the ' +\n",
              "            '<a target=\"_blank\" href=https://colab.research.google.com/notebooks/data_table.ipynb>data table notebook</a>'\n",
              "            + ' to learn more about interactive tables.';\n",
              "          element.innerHTML = '';\n",
              "          dataTable['output_type'] = 'display_data';\n",
              "          await google.colab.output.renderOutput(dataTable, element);\n",
              "          const docLink = document.createElement('div');\n",
              "          docLink.innerHTML = docLinkHtml;\n",
              "          element.appendChild(docLink);\n",
              "        }\n",
              "      </script>\n",
              "    </div>\n",
              "  </div>\n"
            ]
          },
          "metadata": {},
          "execution_count": 7
        }
      ]
    },
    {
      "cell_type": "code",
      "source": [
        "# Visualização das últimas linhas do dataframe\n",
        "dataset.tail()"
      ],
      "metadata": {
        "colab": {
          "base_uri": "https://localhost:8080/",
          "height": 206
        },
        "id": "ATkhwJjwDMz0",
        "outputId": "cf5ef06a-7d2d-4f05-8211-b03eb74ef5f5"
      },
      "execution_count": null,
      "outputs": [
        {
          "output_type": "execute_result",
          "data": {
            "text/plain": [
              "                                                    Text  \\\n",
              "21454               Melissa stared at her friend in dism   \n",
              "21455  Successive state elections have seen the gover...   \n",
              "21456               Vincent was irritated but not dismay   \n",
              "21457  Kendall-Hume turned back to face the dismayed ...   \n",
              "21458                                     I am dismayed    \n",
              "\n",
              "                     Emotion  \n",
              "21454                   fear  \n",
              "21455                   fear  \n",
              "21456                   fear  \n",
              "21457                   fear  \n",
              "21458   but not surpris,fear  "
            ],
            "text/html": [
              "\n",
              "\n",
              "  <div id=\"df-2d9d82f0-6447-4fd9-b7f1-5b267f208e78\">\n",
              "    <div class=\"colab-df-container\">\n",
              "      <div>\n",
              "<style scoped>\n",
              "    .dataframe tbody tr th:only-of-type {\n",
              "        vertical-align: middle;\n",
              "    }\n",
              "\n",
              "    .dataframe tbody tr th {\n",
              "        vertical-align: top;\n",
              "    }\n",
              "\n",
              "    .dataframe thead th {\n",
              "        text-align: right;\n",
              "    }\n",
              "</style>\n",
              "<table border=\"1\" class=\"dataframe\">\n",
              "  <thead>\n",
              "    <tr style=\"text-align: right;\">\n",
              "      <th></th>\n",
              "      <th>Text</th>\n",
              "      <th>Emotion</th>\n",
              "    </tr>\n",
              "  </thead>\n",
              "  <tbody>\n",
              "    <tr>\n",
              "      <th>21454</th>\n",
              "      <td>Melissa stared at her friend in dism</td>\n",
              "      <td>fear</td>\n",
              "    </tr>\n",
              "    <tr>\n",
              "      <th>21455</th>\n",
              "      <td>Successive state elections have seen the gover...</td>\n",
              "      <td>fear</td>\n",
              "    </tr>\n",
              "    <tr>\n",
              "      <th>21456</th>\n",
              "      <td>Vincent was irritated but not dismay</td>\n",
              "      <td>fear</td>\n",
              "    </tr>\n",
              "    <tr>\n",
              "      <th>21457</th>\n",
              "      <td>Kendall-Hume turned back to face the dismayed ...</td>\n",
              "      <td>fear</td>\n",
              "    </tr>\n",
              "    <tr>\n",
              "      <th>21458</th>\n",
              "      <td>I am dismayed</td>\n",
              "      <td>but not surpris,fear</td>\n",
              "    </tr>\n",
              "  </tbody>\n",
              "</table>\n",
              "</div>\n",
              "      <button class=\"colab-df-convert\" onclick=\"convertToInteractive('df-2d9d82f0-6447-4fd9-b7f1-5b267f208e78')\"\n",
              "              title=\"Convert this dataframe to an interactive table.\"\n",
              "              style=\"display:none;\">\n",
              "\n",
              "  <svg xmlns=\"http://www.w3.org/2000/svg\" height=\"24px\"viewBox=\"0 0 24 24\"\n",
              "       width=\"24px\">\n",
              "    <path d=\"M0 0h24v24H0V0z\" fill=\"none\"/>\n",
              "    <path d=\"M18.56 5.44l.94 2.06.94-2.06 2.06-.94-2.06-.94-.94-2.06-.94 2.06-2.06.94zm-11 1L8.5 8.5l.94-2.06 2.06-.94-2.06-.94L8.5 2.5l-.94 2.06-2.06.94zm10 10l.94 2.06.94-2.06 2.06-.94-2.06-.94-.94-2.06-.94 2.06-2.06.94z\"/><path d=\"M17.41 7.96l-1.37-1.37c-.4-.4-.92-.59-1.43-.59-.52 0-1.04.2-1.43.59L10.3 9.45l-7.72 7.72c-.78.78-.78 2.05 0 2.83L4 21.41c.39.39.9.59 1.41.59.51 0 1.02-.2 1.41-.59l7.78-7.78 2.81-2.81c.8-.78.8-2.07 0-2.86zM5.41 20L4 18.59l7.72-7.72 1.47 1.35L5.41 20z\"/>\n",
              "  </svg>\n",
              "      </button>\n",
              "\n",
              "\n",
              "\n",
              "    <div id=\"df-91f8b3c1-e9e2-4588-9a0a-81443546e4c5\">\n",
              "      <button class=\"colab-df-quickchart\" onclick=\"quickchart('df-91f8b3c1-e9e2-4588-9a0a-81443546e4c5')\"\n",
              "              title=\"Suggest charts.\"\n",
              "              style=\"display:none;\">\n",
              "\n",
              "<svg xmlns=\"http://www.w3.org/2000/svg\" height=\"24px\"viewBox=\"0 0 24 24\"\n",
              "     width=\"24px\">\n",
              "    <g>\n",
              "        <path d=\"M19 3H5c-1.1 0-2 .9-2 2v14c0 1.1.9 2 2 2h14c1.1 0 2-.9 2-2V5c0-1.1-.9-2-2-2zM9 17H7v-7h2v7zm4 0h-2V7h2v10zm4 0h-2v-4h2v4z\"/>\n",
              "    </g>\n",
              "</svg>\n",
              "      </button>\n",
              "    </div>\n",
              "\n",
              "<style>\n",
              "  .colab-df-quickchart {\n",
              "    background-color: #E8F0FE;\n",
              "    border: none;\n",
              "    border-radius: 50%;\n",
              "    cursor: pointer;\n",
              "    display: none;\n",
              "    fill: #1967D2;\n",
              "    height: 32px;\n",
              "    padding: 0 0 0 0;\n",
              "    width: 32px;\n",
              "  }\n",
              "\n",
              "  .colab-df-quickchart:hover {\n",
              "    background-color: #E2EBFA;\n",
              "    box-shadow: 0px 1px 2px rgba(60, 64, 67, 0.3), 0px 1px 3px 1px rgba(60, 64, 67, 0.15);\n",
              "    fill: #174EA6;\n",
              "  }\n",
              "\n",
              "  [theme=dark] .colab-df-quickchart {\n",
              "    background-color: #3B4455;\n",
              "    fill: #D2E3FC;\n",
              "  }\n",
              "\n",
              "  [theme=dark] .colab-df-quickchart:hover {\n",
              "    background-color: #434B5C;\n",
              "    box-shadow: 0px 1px 3px 1px rgba(0, 0, 0, 0.15);\n",
              "    filter: drop-shadow(0px 1px 2px rgba(0, 0, 0, 0.3));\n",
              "    fill: #FFFFFF;\n",
              "  }\n",
              "</style>\n",
              "\n",
              "    <script>\n",
              "      async function quickchart(key) {\n",
              "        const containerElement = document.querySelector('#' + key);\n",
              "        const charts = await google.colab.kernel.invokeFunction(\n",
              "            'suggestCharts', [key], {});\n",
              "      }\n",
              "    </script>\n",
              "\n",
              "      <script>\n",
              "\n",
              "function displayQuickchartButton(domScope) {\n",
              "  let quickchartButtonEl =\n",
              "    domScope.querySelector('#df-91f8b3c1-e9e2-4588-9a0a-81443546e4c5 button.colab-df-quickchart');\n",
              "  quickchartButtonEl.style.display =\n",
              "    google.colab.kernel.accessAllowed ? 'block' : 'none';\n",
              "}\n",
              "\n",
              "        displayQuickchartButton(document);\n",
              "      </script>\n",
              "      <style>\n",
              "    .colab-df-container {\n",
              "      display:flex;\n",
              "      flex-wrap:wrap;\n",
              "      gap: 12px;\n",
              "    }\n",
              "\n",
              "    .colab-df-convert {\n",
              "      background-color: #E8F0FE;\n",
              "      border: none;\n",
              "      border-radius: 50%;\n",
              "      cursor: pointer;\n",
              "      display: none;\n",
              "      fill: #1967D2;\n",
              "      height: 32px;\n",
              "      padding: 0 0 0 0;\n",
              "      width: 32px;\n",
              "    }\n",
              "\n",
              "    .colab-df-convert:hover {\n",
              "      background-color: #E2EBFA;\n",
              "      box-shadow: 0px 1px 2px rgba(60, 64, 67, 0.3), 0px 1px 3px 1px rgba(60, 64, 67, 0.15);\n",
              "      fill: #174EA6;\n",
              "    }\n",
              "\n",
              "    [theme=dark] .colab-df-convert {\n",
              "      background-color: #3B4455;\n",
              "      fill: #D2E3FC;\n",
              "    }\n",
              "\n",
              "    [theme=dark] .colab-df-convert:hover {\n",
              "      background-color: #434B5C;\n",
              "      box-shadow: 0px 1px 3px 1px rgba(0, 0, 0, 0.15);\n",
              "      filter: drop-shadow(0px 1px 2px rgba(0, 0, 0, 0.3));\n",
              "      fill: #FFFFFF;\n",
              "    }\n",
              "  </style>\n",
              "\n",
              "      <script>\n",
              "        const buttonEl =\n",
              "          document.querySelector('#df-2d9d82f0-6447-4fd9-b7f1-5b267f208e78 button.colab-df-convert');\n",
              "        buttonEl.style.display =\n",
              "          google.colab.kernel.accessAllowed ? 'block' : 'none';\n",
              "\n",
              "        async function convertToInteractive(key) {\n",
              "          const element = document.querySelector('#df-2d9d82f0-6447-4fd9-b7f1-5b267f208e78');\n",
              "          const dataTable =\n",
              "            await google.colab.kernel.invokeFunction('convertToInteractive',\n",
              "                                                     [key], {});\n",
              "          if (!dataTable) return;\n",
              "\n",
              "          const docLinkHtml = 'Like what you see? Visit the ' +\n",
              "            '<a target=\"_blank\" href=https://colab.research.google.com/notebooks/data_table.ipynb>data table notebook</a>'\n",
              "            + ' to learn more about interactive tables.';\n",
              "          element.innerHTML = '';\n",
              "          dataTable['output_type'] = 'display_data';\n",
              "          await google.colab.output.renderOutput(dataTable, element);\n",
              "          const docLink = document.createElement('div');\n",
              "          docLink.innerHTML = docLinkHtml;\n",
              "          element.appendChild(docLink);\n",
              "        }\n",
              "      </script>\n",
              "    </div>\n",
              "  </div>\n"
            ]
          },
          "metadata": {},
          "execution_count": 8
        }
      ]
    },
    {
      "cell_type": "markdown",
      "source": [
        "**Data Preprocessing**"
      ],
      "metadata": {
        "id": "tzxMIuC4HG7l"
      }
    },
    {
      "cell_type": "code",
      "source": [
        "dataset.isnull().sum()"
      ],
      "metadata": {
        "colab": {
          "base_uri": "https://localhost:8080/"
        },
        "id": "2IQlfsFZFEi-",
        "outputId": "958c2661-129a-4469-a802-5cb7e9c47326"
      },
      "execution_count": null,
      "outputs": [
        {
          "output_type": "execute_result",
          "data": {
            "text/plain": [
              "Text        0\n",
              "Emotion    15\n",
              "dtype: int64"
            ]
          },
          "metadata": {},
          "execution_count": 9
        }
      ]
    },
    {
      "cell_type": "code",
      "source": [
        "# Ver o shape antes\n",
        "dataset_antes = dataset.shape\n",
        "print(\"Antes:\\t\", dataset_antes)\n",
        "\n",
        "dataset.dropna(subset=['Emotion'], inplace=True)\n",
        "\n",
        "# ver o shape depois\n",
        "dataset_depois = dataset.shape\n",
        "print(\"Depois:\\t\", dataset_depois)\n"
      ],
      "metadata": {
        "colab": {
          "base_uri": "https://localhost:8080/"
        },
        "id": "W1Svau27DMzD",
        "outputId": "59cf8347-1bc1-4a6f-b7ec-431c08a8a100"
      },
      "execution_count": null,
      "outputs": [
        {
          "output_type": "stream",
          "name": "stdout",
          "text": [
            "Antes:\t (21459, 2)\n",
            "Depois:\t (21444, 2)\n"
          ]
        }
      ]
    },
    {
      "cell_type": "code",
      "source": [
        "dataset.isnull().sum()"
      ],
      "metadata": {
        "colab": {
          "base_uri": "https://localhost:8080/"
        },
        "id": "P7bVqQDrENJ5",
        "outputId": "297117ed-7bd5-4bba-e489-1e2ea0c9ec03"
      },
      "execution_count": null,
      "outputs": [
        {
          "output_type": "execute_result",
          "data": {
            "text/plain": [
              "Text       0\n",
              "Emotion    0\n",
              "dtype: int64"
            ]
          },
          "metadata": {},
          "execution_count": 11
        }
      ]
    },
    {
      "cell_type": "code",
      "source": [
        "# Visualização da quantidade de linhas por coluna\n",
        "dataset.count()"
      ],
      "metadata": {
        "colab": {
          "base_uri": "https://localhost:8080/"
        },
        "id": "3a4BkcVTA6jd",
        "outputId": "ab330dec-17fe-4832-ae92-abd967781551"
      },
      "execution_count": null,
      "outputs": [
        {
          "output_type": "execute_result",
          "data": {
            "text/plain": [
              "Text       21444\n",
              "Emotion    21444\n",
              "dtype: int64"
            ]
          },
          "metadata": {},
          "execution_count": 12
        }
      ]
    },
    {
      "cell_type": "code",
      "source": [
        "dataset['Emotion'].value_counts()"
      ],
      "metadata": {
        "colab": {
          "base_uri": "https://localhost:8080/"
        },
        "id": "GqJY4wB0HK5I",
        "outputId": "90250732-9dce-47dd-cb6d-fb178de633ef"
      },
      "execution_count": null,
      "outputs": [
        {
          "output_type": "execute_result",
          "data": {
            "text/plain": [
              "happy                                                                                                                                              6864\n",
              "sadness                                                                                                                                            5988\n",
              "anger                                                                                                                                              2843\n",
              "fear                                                                                                                                               2501\n",
              "love                                                                                                                                               1641\n",
              "                                                                                                                                                   ... \n",
              " felt despondent and fearful , for his little grey mentor had given him no instructions for this eventualit,sadness                                   1\n",
              " each sunk in his own thought,sadness                                                                                                                 1\n",
              " and said he had become somewhat despondent about his lack of progress in finding employmen,sadness                                                   1\n",
              " \" he said in a tentative tone of voice , his face going slowly pink with the strain of trying to communicate with his despondent paren,sadness       1\n",
              " but not surpris,fear                                                                                                                                 1\n",
              "Name: Emotion, Length: 819, dtype: int64"
            ]
          },
          "metadata": {},
          "execution_count": 13
        }
      ]
    },
    {
      "cell_type": "code",
      "source": [
        "# One Hot Encoding\n",
        "category = pd.get_dummies(dataset.Emotion)\n",
        "dataset1 = pd.concat([dataset, category], axis=1)\n",
        "dataset1 = dataset1.drop(columns='Emotion')"
      ],
      "metadata": {
        "id": "jRShpqClEuRX"
      },
      "execution_count": null,
      "outputs": []
    },
    {
      "cell_type": "code",
      "source": [
        "X = dataset1['Text'].values\n",
        "y = dataset1[['happy', 'sadness', 'anger', 'fear', 'love', 'surprise']].values"
      ],
      "metadata": {
        "id": "zZ4ONgywFDsv"
      },
      "execution_count": null,
      "outputs": []
    },
    {
      "cell_type": "code",
      "source": [
        "from sklearn.model_selection import train_test_split"
      ],
      "metadata": {
        "id": "LJ7tYGFQFOW0"
      },
      "execution_count": null,
      "outputs": []
    },
    {
      "cell_type": "code",
      "source": [
        "X_train, X_test, y_train, y_test = train_test_split(X, y, test_size=0.2, random_state=1)"
      ],
      "metadata": {
        "id": "Lq62zX3AFRE1"
      },
      "execution_count": null,
      "outputs": []
    },
    {
      "cell_type": "code",
      "source": [
        "import tensorflow as tf\n",
        "from tensorflow.keras.preprocessing.text import Tokenizer\n",
        "from tensorflow.keras.preprocessing.sequence import pad_sequences\n",
        "from tensorflow.keras.preprocessing.text import one_hot"
      ],
      "metadata": {
        "id": "b24s2hwRFXxW"
      },
      "execution_count": null,
      "outputs": []
    },
    {
      "cell_type": "code",
      "source": [
        "tokenizer = Tokenizer(num_words = 5000, oov_token='<x>', filters='!\"#$%&()*+,-./:;<=>?@[\\\\]^_`{|}~\\t\\n', lower=True)\n",
        "tokenizer.fit_on_texts(X_train)\n",
        "tokenizer.fit_on_texts(X_test)\n",
        "\n",
        "Seq_train = tokenizer.texts_to_sequences(X_train)\n",
        "Seq_test = tokenizer.texts_to_sequences(X_test)\n",
        "\n",
        "Pad_train = pad_sequences(Seq_train)\n",
        "Pad_test = pad_sequences(Seq_test)"
      ],
      "metadata": {
        "id": "h-wxJMl6Fd1Z"
      },
      "execution_count": null,
      "outputs": []
    },
    {
      "cell_type": "markdown",
      "source": [
        "**Model Construction**"
      ],
      "metadata": {
        "id": "HDa0d6ymHX51"
      }
    },
    {
      "cell_type": "code",
      "source": [
        "from tensorflow.keras import Sequential\n",
        "from tensorflow.keras.layers import Embedding, Dense, Dropout, BatchNormalization, Flatten, LSTM\n",
        "from tensorflow.keras.callbacks import Callback, ReduceLROnPlateau"
      ],
      "metadata": {
        "id": "HKUkALgiFkwu"
      },
      "execution_count": null,
      "outputs": []
    },
    {
      "cell_type": "code",
      "source": [
        "model = Sequential([\n",
        "    Embedding(input_dim = 5000, output_dim = 24),\n",
        "    BatchNormalization(),\n",
        "    LSTM(128, return_sequences=True),\n",
        "    BatchNormalization(),\n",
        "    LSTM(128),\n",
        "    Dropout(0.2),\n",
        "    BatchNormalization(),\n",
        "    Dense(1024, activation='relu'),\n",
        "    Dropout(0.2),\n",
        "    BatchNormalization(),\n",
        "    Dense(512, activation='relu'),\n",
        "    Dropout(0.2),\n",
        "    BatchNormalization(),\n",
        "    Dense(256, activation='relu'),\n",
        "    Dropout(0.2),\n",
        "    BatchNormalization(),\n",
        "    Dense(128, activation='relu'),\n",
        "    Dropout(0.2),\n",
        "    BatchNormalization(),\n",
        "    Dense(64, activation='relu'),\n",
        "    Dropout(0.2),\n",
        "    BatchNormalization(),\n",
        "    Dense(6, activation='softmax')\n",
        "])"
      ],
      "metadata": {
        "id": "cMoXHXRwFp_T"
      },
      "execution_count": null,
      "outputs": []
    },
    {
      "cell_type": "code",
      "source": [
        "class callbackTarget(Callback):\n",
        "  def on_epoch_end(self, epoch, logs={}):\n",
        "    if(logs.get('val_accuracy') >= 0.91 and logs.get('accuracy') >= 0.91):\n",
        "      print('\\nVal_accuracy and accuracy has reached >= 91%!')\n",
        "      self.model.stop_training = True\n",
        "\n",
        "callbacks = callbackTarget()\n",
        "\n",
        "LR_reduction = ReduceLROnPlateau(\n",
        "    monitor = 'val_loss',\n",
        "    patience = 3,\n",
        "    verbose = 1,\n",
        "    factor = 0.2,\n",
        "    min_lr = 0.000003\n",
        ")"
      ],
      "metadata": {
        "id": "T-8J6XKzF0xx"
      },
      "execution_count": null,
      "outputs": []
    },
    {
      "cell_type": "code",
      "source": [
        "model.compile(\n",
        "    optimizer='adam',\n",
        "    loss='categorical_crossentropy',\n",
        "    metrics=['accuracy']\n",
        ")"
      ],
      "metadata": {
        "id": "pEx4-4rJF4IM"
      },
      "execution_count": null,
      "outputs": []
    },
    {
      "cell_type": "markdown",
      "source": [
        "**Model Train and Val**"
      ],
      "metadata": {
        "id": "s3pSzYV1F7Vd"
      }
    },
    {
      "cell_type": "code",
      "source": [
        "history = model.fit(\n",
        "    Pad_train, y_train,\n",
        "    epochs = 100,\n",
        "    batch_size = 128,\n",
        "    validation_data = (Pad_test, y_test),\n",
        "    verbose = 1,\n",
        "    callbacks = [callbacks, LR_reduction]\n",
        ")"
      ],
      "metadata": {
        "colab": {
          "base_uri": "https://localhost:8080/"
        },
        "id": "qiGWX0EaF-Op",
        "outputId": "efe9661c-82ed-4f71-a7d1-8dbf111fea50"
      },
      "execution_count": null,
      "outputs": [
        {
          "output_type": "stream",
          "name": "stdout",
          "text": [
            "Epoch 1/100\n",
            "135/135 [==============================] - 80s 524ms/step - loss: 1.8558 - accuracy: 0.2426 - val_loss: 1.5802 - val_accuracy: 0.3574 - lr: 0.0010\n",
            "Epoch 2/100\n",
            "135/135 [==============================] - 75s 559ms/step - loss: 1.5208 - accuracy: 0.3962 - val_loss: 1.5227 - val_accuracy: 0.4041 - lr: 0.0010\n",
            "Epoch 3/100\n",
            "135/135 [==============================] - 69s 514ms/step - loss: 1.2821 - accuracy: 0.5132 - val_loss: 1.9429 - val_accuracy: 0.3854 - lr: 0.0010\n",
            "Epoch 4/100\n",
            "135/135 [==============================] - 75s 556ms/step - loss: 1.0811 - accuracy: 0.5780 - val_loss: 0.9614 - val_accuracy: 0.6186 - lr: 0.0010\n",
            "Epoch 5/100\n",
            "135/135 [==============================] - 70s 521ms/step - loss: 0.8698 - accuracy: 0.6526 - val_loss: 0.8210 - val_accuracy: 0.6521 - lr: 0.0010\n",
            "Epoch 6/100\n",
            "135/135 [==============================] - 70s 519ms/step - loss: 0.7347 - accuracy: 0.6906 - val_loss: 0.8599 - val_accuracy: 0.6514 - lr: 0.0010\n",
            "Epoch 7/100\n",
            "135/135 [==============================] - 75s 557ms/step - loss: 0.6960 - accuracy: 0.6998 - val_loss: 0.7252 - val_accuracy: 0.6827 - lr: 0.0010\n",
            "Epoch 8/100\n",
            "135/135 [==============================] - 76s 561ms/step - loss: 0.6885 - accuracy: 0.7025 - val_loss: 0.7229 - val_accuracy: 0.6939 - lr: 0.0010\n",
            "Epoch 9/100\n",
            "135/135 [==============================] - 75s 559ms/step - loss: 0.6539 - accuracy: 0.7127 - val_loss: 0.9075 - val_accuracy: 0.6622 - lr: 0.0010\n",
            "Epoch 10/100\n",
            "135/135 [==============================] - 76s 560ms/step - loss: 0.7038 - accuracy: 0.6993 - val_loss: 0.7137 - val_accuracy: 0.6934 - lr: 0.0010\n",
            "Epoch 11/100\n",
            "135/135 [==============================] - 76s 563ms/step - loss: 0.6371 - accuracy: 0.7120 - val_loss: 0.7145 - val_accuracy: 0.6880 - lr: 0.0010\n",
            "Epoch 12/100\n",
            "135/135 [==============================] - 75s 560ms/step - loss: 0.6213 - accuracy: 0.7214 - val_loss: 0.8892 - val_accuracy: 0.6277 - lr: 0.0010\n",
            "Epoch 13/100\n",
            "135/135 [==============================] - 76s 562ms/step - loss: 0.6386 - accuracy: 0.7165 - val_loss: 0.6474 - val_accuracy: 0.7160 - lr: 0.0010\n",
            "Epoch 14/100\n",
            "135/135 [==============================] - 77s 572ms/step - loss: 0.6002 - accuracy: 0.7261 - val_loss: 0.7694 - val_accuracy: 0.6981 - lr: 0.0010\n",
            "Epoch 15/100\n",
            "135/135 [==============================] - 76s 567ms/step - loss: 0.7398 - accuracy: 0.6854 - val_loss: 0.6563 - val_accuracy: 0.7081 - lr: 0.0010\n",
            "Epoch 16/100\n",
            "135/135 [==============================] - ETA: 0s - loss: 0.6868 - accuracy: 0.6965\n",
            "Epoch 16: ReduceLROnPlateau reducing learning rate to 0.00020000000949949026.\n",
            "135/135 [==============================] - 72s 532ms/step - loss: 0.6868 - accuracy: 0.6965 - val_loss: 0.7310 - val_accuracy: 0.6981 - lr: 0.0010\n",
            "Epoch 17/100\n",
            "135/135 [==============================] - 73s 539ms/step - loss: 0.6425 - accuracy: 0.7130 - val_loss: 0.6222 - val_accuracy: 0.7125 - lr: 2.0000e-04\n",
            "Epoch 18/100\n",
            "135/135 [==============================] - 73s 541ms/step - loss: 0.6108 - accuracy: 0.7185 - val_loss: 0.6119 - val_accuracy: 0.7146 - lr: 2.0000e-04\n",
            "Epoch 19/100\n",
            "135/135 [==============================] - 75s 559ms/step - loss: 0.5891 - accuracy: 0.7266 - val_loss: 0.6134 - val_accuracy: 0.7218 - lr: 2.0000e-04\n",
            "Epoch 20/100\n",
            "135/135 [==============================] - 77s 569ms/step - loss: 0.5867 - accuracy: 0.7210 - val_loss: 0.6121 - val_accuracy: 0.7333 - lr: 2.0000e-04\n",
            "Epoch 21/100\n",
            "135/135 [==============================] - ETA: 0s - loss: 0.5739 - accuracy: 0.7288\n",
            "Epoch 21: ReduceLROnPlateau reducing learning rate to 4.0000001899898055e-05.\n",
            "135/135 [==============================] - 76s 567ms/step - loss: 0.5739 - accuracy: 0.7288 - val_loss: 0.6147 - val_accuracy: 0.7218 - lr: 2.0000e-04\n",
            "Epoch 22/100\n",
            "135/135 [==============================] - 76s 565ms/step - loss: 0.5741 - accuracy: 0.7297 - val_loss: 0.6137 - val_accuracy: 0.7218 - lr: 4.0000e-05\n",
            "Epoch 23/100\n",
            "135/135 [==============================] - 76s 567ms/step - loss: 0.5702 - accuracy: 0.7324 - val_loss: 0.6138 - val_accuracy: 0.7207 - lr: 4.0000e-05\n",
            "Epoch 24/100\n",
            "135/135 [==============================] - ETA: 0s - loss: 0.5780 - accuracy: 0.7263\n",
            "Epoch 24: ReduceLROnPlateau reducing learning rate to 8.000000525498762e-06.\n",
            "135/135 [==============================] - 71s 526ms/step - loss: 0.5780 - accuracy: 0.7263 - val_loss: 0.6119 - val_accuracy: 0.7228 - lr: 4.0000e-05\n",
            "Epoch 25/100\n",
            "135/135 [==============================] - 72s 535ms/step - loss: 0.5596 - accuracy: 0.7323 - val_loss: 0.6097 - val_accuracy: 0.7232 - lr: 8.0000e-06\n",
            "Epoch 26/100\n",
            "135/135 [==============================] - 73s 540ms/step - loss: 0.5642 - accuracy: 0.7306 - val_loss: 0.6091 - val_accuracy: 0.7232 - lr: 8.0000e-06\n",
            "Epoch 27/100\n",
            "135/135 [==============================] - 77s 571ms/step - loss: 0.5641 - accuracy: 0.7321 - val_loss: 0.6090 - val_accuracy: 0.7223 - lr: 8.0000e-06\n",
            "Epoch 28/100\n",
            "135/135 [==============================] - 77s 570ms/step - loss: 0.5702 - accuracy: 0.7332 - val_loss: 0.6088 - val_accuracy: 0.7218 - lr: 8.0000e-06\n",
            "Epoch 29/100\n",
            "135/135 [==============================] - 76s 563ms/step - loss: 0.5669 - accuracy: 0.7326 - val_loss: 0.6093 - val_accuracy: 0.7225 - lr: 8.0000e-06\n",
            "Epoch 30/100\n",
            "135/135 [==============================] - 75s 560ms/step - loss: 0.5620 - accuracy: 0.7345 - val_loss: 0.6102 - val_accuracy: 0.7211 - lr: 8.0000e-06\n",
            "Epoch 31/100\n",
            "135/135 [==============================] - ETA: 0s - loss: 0.5648 - accuracy: 0.7336\n",
            "Epoch 31: ReduceLROnPlateau reducing learning rate to 3e-06.\n",
            "135/135 [==============================] - 76s 565ms/step - loss: 0.5648 - accuracy: 0.7336 - val_loss: 0.6134 - val_accuracy: 0.7221 - lr: 8.0000e-06\n",
            "Epoch 32/100\n",
            "135/135 [==============================] - 76s 562ms/step - loss: 0.5540 - accuracy: 0.7370 - val_loss: 0.6116 - val_accuracy: 0.7214 - lr: 3.0000e-06\n",
            "Epoch 33/100\n",
            "135/135 [==============================] - 73s 539ms/step - loss: 0.5620 - accuracy: 0.7336 - val_loss: 0.6104 - val_accuracy: 0.7214 - lr: 3.0000e-06\n",
            "Epoch 34/100\n",
            "135/135 [==============================] - 74s 550ms/step - loss: 0.5656 - accuracy: 0.7336 - val_loss: 0.6096 - val_accuracy: 0.7223 - lr: 3.0000e-06\n",
            "Epoch 35/100\n",
            "135/135 [==============================] - 74s 549ms/step - loss: 0.5600 - accuracy: 0.7356 - val_loss: 0.6096 - val_accuracy: 0.7221 - lr: 3.0000e-06\n",
            "Epoch 36/100\n",
            "135/135 [==============================] - 78s 578ms/step - loss: 0.5638 - accuracy: 0.7352 - val_loss: 0.6105 - val_accuracy: 0.7225 - lr: 3.0000e-06\n",
            "Epoch 37/100\n",
            "135/135 [==============================] - 74s 546ms/step - loss: 0.5635 - accuracy: 0.7342 - val_loss: 0.6103 - val_accuracy: 0.7223 - lr: 3.0000e-06\n",
            "Epoch 38/100\n",
            "135/135 [==============================] - 77s 571ms/step - loss: 0.5666 - accuracy: 0.7318 - val_loss: 0.6113 - val_accuracy: 0.7216 - lr: 3.0000e-06\n",
            "Epoch 39/100\n",
            "135/135 [==============================] - 72s 535ms/step - loss: 0.5609 - accuracy: 0.7319 - val_loss: 0.6103 - val_accuracy: 0.7221 - lr: 3.0000e-06\n",
            "Epoch 40/100\n",
            "135/135 [==============================] - 71s 523ms/step - loss: 0.5636 - accuracy: 0.7340 - val_loss: 0.6108 - val_accuracy: 0.7223 - lr: 3.0000e-06\n",
            "Epoch 41/100\n",
            "135/135 [==============================] - 70s 519ms/step - loss: 0.5655 - accuracy: 0.7392 - val_loss: 0.6095 - val_accuracy: 0.7232 - lr: 3.0000e-06\n",
            "Epoch 42/100\n",
            "135/135 [==============================] - 72s 537ms/step - loss: 0.5545 - accuracy: 0.7367 - val_loss: 0.6096 - val_accuracy: 0.7221 - lr: 3.0000e-06\n",
            "Epoch 43/100\n",
            "135/135 [==============================] - 68s 506ms/step - loss: 0.5626 - accuracy: 0.7317 - val_loss: 0.6096 - val_accuracy: 0.7221 - lr: 3.0000e-06\n",
            "Epoch 44/100\n",
            "135/135 [==============================] - 73s 540ms/step - loss: 0.5613 - accuracy: 0.7341 - val_loss: 0.6085 - val_accuracy: 0.7225 - lr: 3.0000e-06\n",
            "Epoch 45/100\n",
            "135/135 [==============================] - 68s 504ms/step - loss: 0.5619 - accuracy: 0.7314 - val_loss: 0.6092 - val_accuracy: 0.7230 - lr: 3.0000e-06\n",
            "Epoch 46/100\n",
            "135/135 [==============================] - 69s 508ms/step - loss: 0.5698 - accuracy: 0.7329 - val_loss: 0.6110 - val_accuracy: 0.7223 - lr: 3.0000e-06\n",
            "Epoch 47/100\n",
            "135/135 [==============================] - 68s 505ms/step - loss: 0.5742 - accuracy: 0.7310 - val_loss: 0.6089 - val_accuracy: 0.7221 - lr: 3.0000e-06\n",
            "Epoch 48/100\n",
            "135/135 [==============================] - 67s 499ms/step - loss: 0.5658 - accuracy: 0.7367 - val_loss: 0.6094 - val_accuracy: 0.7218 - lr: 3.0000e-06\n",
            "Epoch 49/100\n",
            "135/135 [==============================] - 68s 505ms/step - loss: 0.5575 - accuracy: 0.7363 - val_loss: 0.6107 - val_accuracy: 0.7225 - lr: 3.0000e-06\n",
            "Epoch 50/100\n",
            "135/135 [==============================] - 72s 535ms/step - loss: 0.5668 - accuracy: 0.7348 - val_loss: 0.6093 - val_accuracy: 0.7221 - lr: 3.0000e-06\n",
            "Epoch 51/100\n",
            "135/135 [==============================] - 71s 526ms/step - loss: 0.5511 - accuracy: 0.7375 - val_loss: 0.6099 - val_accuracy: 0.7221 - lr: 3.0000e-06\n",
            "Epoch 52/100\n",
            "135/135 [==============================] - 70s 522ms/step - loss: 0.5614 - accuracy: 0.7330 - val_loss: 0.6097 - val_accuracy: 0.7211 - lr: 3.0000e-06\n",
            "Epoch 53/100\n",
            "135/135 [==============================] - 70s 522ms/step - loss: 0.5592 - accuracy: 0.7333 - val_loss: 0.6096 - val_accuracy: 0.7225 - lr: 3.0000e-06\n",
            "Epoch 54/100\n",
            "135/135 [==============================] - 70s 520ms/step - loss: 0.5587 - accuracy: 0.7364 - val_loss: 0.6111 - val_accuracy: 0.7221 - lr: 3.0000e-06\n",
            "Epoch 55/100\n",
            "135/135 [==============================] - 69s 513ms/step - loss: 0.5557 - accuracy: 0.7355 - val_loss: 0.6113 - val_accuracy: 0.7221 - lr: 3.0000e-06\n",
            "Epoch 56/100\n",
            "135/135 [==============================] - 74s 552ms/step - loss: 0.5584 - accuracy: 0.7351 - val_loss: 0.6103 - val_accuracy: 0.7223 - lr: 3.0000e-06\n",
            "Epoch 57/100\n",
            "135/135 [==============================] - 70s 517ms/step - loss: 0.5673 - accuracy: 0.7326 - val_loss: 0.6114 - val_accuracy: 0.7228 - lr: 3.0000e-06\n",
            "Epoch 58/100\n",
            "135/135 [==============================] - 70s 517ms/step - loss: 0.5624 - accuracy: 0.7347 - val_loss: 0.6110 - val_accuracy: 0.7228 - lr: 3.0000e-06\n",
            "Epoch 59/100\n",
            "135/135 [==============================] - 69s 515ms/step - loss: 0.5599 - accuracy: 0.7327 - val_loss: 0.6112 - val_accuracy: 0.7225 - lr: 3.0000e-06\n",
            "Epoch 60/100\n",
            "135/135 [==============================] - 74s 551ms/step - loss: 0.5629 - accuracy: 0.7330 - val_loss: 0.6126 - val_accuracy: 0.7232 - lr: 3.0000e-06\n",
            "Epoch 61/100\n",
            "135/135 [==============================] - 70s 515ms/step - loss: 0.5637 - accuracy: 0.7326 - val_loss: 0.6118 - val_accuracy: 0.7221 - lr: 3.0000e-06\n",
            "Epoch 62/100\n",
            "135/135 [==============================] - 70s 520ms/step - loss: 0.5650 - accuracy: 0.7295 - val_loss: 0.6130 - val_accuracy: 0.7230 - lr: 3.0000e-06\n",
            "Epoch 63/100\n",
            "135/135 [==============================] - 70s 518ms/step - loss: 0.5601 - accuracy: 0.7341 - val_loss: 0.6115 - val_accuracy: 0.7223 - lr: 3.0000e-06\n",
            "Epoch 64/100\n",
            "135/135 [==============================] - 71s 524ms/step - loss: 0.5529 - accuracy: 0.7368 - val_loss: 0.6104 - val_accuracy: 0.7230 - lr: 3.0000e-06\n",
            "Epoch 65/100\n",
            "135/135 [==============================] - 71s 523ms/step - loss: 0.5616 - accuracy: 0.7330 - val_loss: 0.6106 - val_accuracy: 0.7232 - lr: 3.0000e-06\n",
            "Epoch 66/100\n",
            "135/135 [==============================] - 71s 526ms/step - loss: 0.5644 - accuracy: 0.7363 - val_loss: 0.6101 - val_accuracy: 0.7237 - lr: 3.0000e-06\n",
            "Epoch 67/100\n",
            "135/135 [==============================] - 71s 530ms/step - loss: 0.5590 - accuracy: 0.7341 - val_loss: 0.6116 - val_accuracy: 0.7235 - lr: 3.0000e-06\n",
            "Epoch 68/100\n",
            "135/135 [==============================] - 70s 522ms/step - loss: 0.5589 - accuracy: 0.7382 - val_loss: 0.6115 - val_accuracy: 0.7228 - lr: 3.0000e-06\n",
            "Epoch 69/100\n",
            "135/135 [==============================] - 69s 514ms/step - loss: 0.5503 - accuracy: 0.7394 - val_loss: 0.6118 - val_accuracy: 0.7232 - lr: 3.0000e-06\n",
            "Epoch 70/100\n",
            "135/135 [==============================] - 70s 519ms/step - loss: 0.5567 - accuracy: 0.7374 - val_loss: 0.6119 - val_accuracy: 0.7218 - lr: 3.0000e-06\n",
            "Epoch 71/100\n",
            "135/135 [==============================] - 73s 545ms/step - loss: 0.5488 - accuracy: 0.7358 - val_loss: 0.6108 - val_accuracy: 0.7230 - lr: 3.0000e-06\n",
            "Epoch 72/100\n",
            "135/135 [==============================] - 74s 546ms/step - loss: 0.5597 - accuracy: 0.7370 - val_loss: 0.6119 - val_accuracy: 0.7214 - lr: 3.0000e-06\n",
            "Epoch 73/100\n",
            "135/135 [==============================] - 69s 511ms/step - loss: 0.5570 - accuracy: 0.7366 - val_loss: 0.6107 - val_accuracy: 0.7216 - lr: 3.0000e-06\n",
            "Epoch 74/100\n",
            "135/135 [==============================] - 68s 502ms/step - loss: 0.5580 - accuracy: 0.7350 - val_loss: 0.6119 - val_accuracy: 0.7230 - lr: 3.0000e-06\n",
            "Epoch 75/100\n",
            "135/135 [==============================] - 73s 540ms/step - loss: 0.5530 - accuracy: 0.7401 - val_loss: 0.6107 - val_accuracy: 0.7221 - lr: 3.0000e-06\n",
            "Epoch 76/100\n",
            "135/135 [==============================] - 73s 539ms/step - loss: 0.5552 - accuracy: 0.7328 - val_loss: 0.6117 - val_accuracy: 0.7228 - lr: 3.0000e-06\n",
            "Epoch 77/100\n",
            "135/135 [==============================] - 81s 602ms/step - loss: 0.5538 - accuracy: 0.7365 - val_loss: 0.6107 - val_accuracy: 0.7221 - lr: 3.0000e-06\n",
            "Epoch 78/100\n",
            "135/135 [==============================] - 69s 511ms/step - loss: 0.5722 - accuracy: 0.7362 - val_loss: 0.6109 - val_accuracy: 0.7223 - lr: 3.0000e-06\n",
            "Epoch 79/100\n",
            "135/135 [==============================] - 74s 548ms/step - loss: 0.5530 - accuracy: 0.7366 - val_loss: 0.6118 - val_accuracy: 0.7235 - lr: 3.0000e-06\n",
            "Epoch 80/100\n",
            "135/135 [==============================] - 68s 506ms/step - loss: 0.5477 - accuracy: 0.7390 - val_loss: 0.6108 - val_accuracy: 0.7225 - lr: 3.0000e-06\n",
            "Epoch 81/100\n",
            "135/135 [==============================] - 72s 537ms/step - loss: 0.5580 - accuracy: 0.7349 - val_loss: 0.6099 - val_accuracy: 0.7232 - lr: 3.0000e-06\n",
            "Epoch 82/100\n",
            "135/135 [==============================] - 73s 541ms/step - loss: 0.5534 - accuracy: 0.7377 - val_loss: 0.6107 - val_accuracy: 0.7239 - lr: 3.0000e-06\n",
            "Epoch 83/100\n",
            "135/135 [==============================] - 69s 509ms/step - loss: 0.5599 - accuracy: 0.7363 - val_loss: 0.6099 - val_accuracy: 0.7244 - lr: 3.0000e-06\n",
            "Epoch 84/100\n",
            "135/135 [==============================] - 73s 541ms/step - loss: 0.5596 - accuracy: 0.7343 - val_loss: 0.6095 - val_accuracy: 0.7232 - lr: 3.0000e-06\n",
            "Epoch 85/100\n",
            "135/135 [==============================] - 69s 509ms/step - loss: 0.5544 - accuracy: 0.7370 - val_loss: 0.6095 - val_accuracy: 0.7237 - lr: 3.0000e-06\n",
            "Epoch 86/100\n",
            "135/135 [==============================] - 69s 512ms/step - loss: 0.5623 - accuracy: 0.7356 - val_loss: 0.6103 - val_accuracy: 0.7230 - lr: 3.0000e-06\n",
            "Epoch 87/100\n",
            "135/135 [==============================] - 75s 553ms/step - loss: 0.5553 - accuracy: 0.7384 - val_loss: 0.6085 - val_accuracy: 0.7239 - lr: 3.0000e-06\n",
            "Epoch 88/100\n",
            "135/135 [==============================] - 69s 512ms/step - loss: 0.5523 - accuracy: 0.7387 - val_loss: 0.6104 - val_accuracy: 0.7232 - lr: 3.0000e-06\n",
            "Epoch 89/100\n",
            "135/135 [==============================] - 69s 511ms/step - loss: 0.5571 - accuracy: 0.7351 - val_loss: 0.6095 - val_accuracy: 0.7239 - lr: 3.0000e-06\n",
            "Epoch 90/100\n",
            "135/135 [==============================] - 74s 546ms/step - loss: 0.5552 - accuracy: 0.7386 - val_loss: 0.6099 - val_accuracy: 0.7230 - lr: 3.0000e-06\n",
            "Epoch 91/100\n",
            "135/135 [==============================] - 68s 506ms/step - loss: 0.5584 - accuracy: 0.7372 - val_loss: 0.6101 - val_accuracy: 0.7246 - lr: 3.0000e-06\n",
            "Epoch 92/100\n",
            "135/135 [==============================] - 70s 515ms/step - loss: 0.5520 - accuracy: 0.7418 - val_loss: 0.6097 - val_accuracy: 0.7249 - lr: 3.0000e-06\n",
            "Epoch 93/100\n",
            "135/135 [==============================] - 69s 512ms/step - loss: 0.5562 - accuracy: 0.7345 - val_loss: 0.6106 - val_accuracy: 0.7242 - lr: 3.0000e-06\n",
            "Epoch 94/100\n",
            "135/135 [==============================] - 74s 547ms/step - loss: 0.5485 - accuracy: 0.7364 - val_loss: 0.6107 - val_accuracy: 0.7242 - lr: 3.0000e-06\n",
            "Epoch 95/100\n",
            "135/135 [==============================] - 73s 543ms/step - loss: 0.5592 - accuracy: 0.7370 - val_loss: 0.6100 - val_accuracy: 0.7228 - lr: 3.0000e-06\n",
            "Epoch 96/100\n",
            "135/135 [==============================] - 69s 511ms/step - loss: 0.5570 - accuracy: 0.7370 - val_loss: 0.6093 - val_accuracy: 0.7230 - lr: 3.0000e-06\n",
            "Epoch 97/100\n",
            "135/135 [==============================] - 69s 508ms/step - loss: 0.5618 - accuracy: 0.7344 - val_loss: 0.6081 - val_accuracy: 0.7232 - lr: 3.0000e-06\n",
            "Epoch 98/100\n",
            "135/135 [==============================] - 74s 553ms/step - loss: 0.5484 - accuracy: 0.7385 - val_loss: 0.6087 - val_accuracy: 0.7223 - lr: 3.0000e-06\n",
            "Epoch 99/100\n",
            "135/135 [==============================] - 69s 515ms/step - loss: 0.5530 - accuracy: 0.7405 - val_loss: 0.6098 - val_accuracy: 0.7221 - lr: 3.0000e-06\n",
            "Epoch 100/100\n",
            "135/135 [==============================] - 69s 511ms/step - loss: 0.5520 - accuracy: 0.7363 - val_loss: 0.6104 - val_accuracy: 0.7230 - lr: 3.0000e-06\n"
          ]
        }
      ]
    },
    {
      "cell_type": "markdown",
      "source": [
        "**Evaluate**"
      ],
      "metadata": {
        "id": "Dp0xuVlOGvtj"
      }
    },
    {
      "cell_type": "code",
      "source": [
        "import matplotlib.pyplot as plt"
      ],
      "metadata": {
        "id": "-4p1e-Q4G1aD"
      },
      "execution_count": null,
      "outputs": []
    },
    {
      "cell_type": "code",
      "source": [
        "plt.plot(history.history['loss'])\n",
        "plt.plot(history.history['val_loss'])\n",
        "plt.title('Model Loss')\n",
        "plt.ylabel('Loss')\n",
        "plt.xlabel('Epochs')\n",
        "plt.legend(['train', 'test'], loc = 'upper right')\n",
        "plt.show()\n",
        "\n",
        "plt.plot(history.history['accuracy'])\n",
        "plt.plot(history.history['val_accuracy'])\n",
        "plt.title('Model Accuracy')\n",
        "plt.ylabel('Accuracy')\n",
        "plt.xlabel('Epoch')\n",
        "plt.legend(['train', 'test'], loc='lower right')\n",
        "plt.show()"
      ],
      "metadata": {
        "colab": {
          "base_uri": "https://localhost:8080/",
          "height": 927
        },
        "id": "PoxE8yBvG6pb",
        "outputId": "aec1eed6-638e-48be-e6ff-6c579590c188"
      },
      "execution_count": null,
      "outputs": [
        {
          "output_type": "display_data",
          "data": {
            "text/plain": [
              "<Figure size 640x480 with 1 Axes>"
            ],
            "image/png": "[encoded data removed]"
          },
          "metadata": {}
        },
        {
          "output_type": "display_data",
          "data": {
            "text/plain": [
              "<Figure size 640x480 with 1 Axes>"
            ],
            "image/png": "[encoded data removed]"
          },
          "metadata": {}
        }
      ]
    }
  ]
}